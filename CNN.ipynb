{
 "cells": [
  {
   "cell_type": "code",
   "execution_count": 118,
   "id": "5d7f86ed-0efb-4433-94c4-9e120a5782d2",
   "metadata": {},
   "outputs": [
    {
     "name": "stdout",
     "output_type": "stream",
     "text": [
      "Requirement already satisfied: torchvision in c:\\users\\hp\\anaconda3\\lib\\site-packages (0.18.1)\n",
      "Requirement already satisfied: numpy in c:\\users\\hp\\anaconda3\\lib\\site-packages (from torchvision) (1.26.4)\n",
      "Requirement already satisfied: torch==2.3.1 in c:\\users\\hp\\anaconda3\\lib\\site-packages (from torchvision) (2.3.1)\n",
      "Requirement already satisfied: pillow!=8.3.*,>=5.3.0 in c:\\users\\hp\\anaconda3\\lib\\site-packages (from torchvision) (10.2.0)\n",
      "Requirement already satisfied: filelock in c:\\users\\hp\\anaconda3\\lib\\site-packages (from torch==2.3.1->torchvision) (3.13.1)\n",
      "Requirement already satisfied: typing-extensions>=4.8.0 in c:\\users\\hp\\anaconda3\\lib\\site-packages (from torch==2.3.1->torchvision) (4.9.0)\n",
      "Requirement already satisfied: sympy in c:\\users\\hp\\anaconda3\\lib\\site-packages (from torch==2.3.1->torchvision) (1.12)\n",
      "Requirement already satisfied: networkx in c:\\users\\hp\\anaconda3\\lib\\site-packages (from torch==2.3.1->torchvision) (3.1)\n",
      "Requirement already satisfied: jinja2 in c:\\users\\hp\\anaconda3\\lib\\site-packages (from torch==2.3.1->torchvision) (3.1.3)\n",
      "Requirement already satisfied: fsspec in c:\\users\\hp\\anaconda3\\lib\\site-packages (from torch==2.3.1->torchvision) (2023.10.0)\n",
      "Requirement already satisfied: mkl<=2021.4.0,>=2021.1.1 in c:\\users\\hp\\anaconda3\\lib\\site-packages (from torch==2.3.1->torchvision) (2021.4.0)\n",
      "Requirement already satisfied: intel-openmp==2021.* in c:\\users\\hp\\anaconda3\\lib\\site-packages (from mkl<=2021.4.0,>=2021.1.1->torch==2.3.1->torchvision) (2021.4.0)\n",
      "Requirement already satisfied: tbb==2021.* in c:\\users\\hp\\anaconda3\\lib\\site-packages (from mkl<=2021.4.0,>=2021.1.1->torch==2.3.1->torchvision) (2021.12.0)\n",
      "Requirement already satisfied: MarkupSafe>=2.0 in c:\\users\\hp\\anaconda3\\lib\\site-packages (from jinja2->torch==2.3.1->torchvision) (2.1.3)\n",
      "Requirement already satisfied: mpmath>=0.19 in c:\\users\\hp\\anaconda3\\lib\\site-packages (from sympy->torch==2.3.1->torchvision) (1.3.0)\n"
     ]
    }
   ],
   "source": [
    "!pip install torchvision"
   ]
  },
  {
   "cell_type": "code",
   "execution_count": 1,
   "id": "2df77faa-3cb6-4077-bc93-e74756d1e873",
   "metadata": {},
   "outputs": [],
   "source": [
    "import torch\n",
    "import torch.nn as nn\n",
    "import torch.nn.functional as f\n",
    "\n",
    "from torch.utils.data import DataLoader\n",
    "from torchvision import datasets, transforms\n",
    "\n",
    "import numpy as np\n",
    "import pandas as pd\n",
    "from sklearn.metrics import confusion_matrix\n",
    "import matplotlib.pyplot as plt\n",
    "%matplotlib inline"
   ]
  },
  {
   "cell_type": "code",
   "execution_count": 2,
   "id": "24497aed-e7ab-485e-962b-5798c8f66b11",
   "metadata": {},
   "outputs": [],
   "source": [
    "transform = transforms.ToTensor()"
   ]
  },
  {
   "cell_type": "code",
   "execution_count": 3,
   "id": "fbfbde9e-350c-4d36-866b-20b8c4947224",
   "metadata": {},
   "outputs": [],
   "source": [
    "train_data = datasets.MNIST(root = 'C/Users/Hp/Desktop',train = True, download = True, transform = transform)"
   ]
  },
  {
   "cell_type": "code",
   "execution_count": 4,
   "id": "676a60d5-76d0-4cc5-b4e4-b1314e6b8ad3",
   "metadata": {},
   "outputs": [],
   "source": [
    "test_data = datasets.MNIST(root = 'C/Users/Hp/Desktop',train = False, download = True, transform = transform)"
   ]
  },
  {
   "cell_type": "code",
   "execution_count": 10,
   "id": "2a1d56fd-9620-43fa-bfe6-b8ed51935d39",
   "metadata": {},
   "outputs": [
    {
     "name": "stdout",
     "output_type": "stream",
     "text": [
      "Dataset MNIST\n",
      "    Number of datapoints: 60000\n",
      "    Root location: C/Users/Hp/Desktop\n",
      "    Split: Train\n",
      "    StandardTransform\n",
      "Transform: ToTensor()\n",
      "Dataset MNIST\n",
      "    Number of datapoints: 10000\n",
      "    Root location: C/Users/Hp/Desktop\n",
      "    Split: Test\n",
      "    StandardTransform\n",
      "Transform: ToTensor()\n"
     ]
    }
   ],
   "source": [
    "print(train_data)\n",
    "print(test_data)"
   ]
  },
  {
   "cell_type": "code",
   "execution_count": 17,
   "id": "be58c5f4-d3e2-4a3e-a118-8bf094e6b9c5",
   "metadata": {},
   "outputs": [
    {
     "name": "stdout",
     "output_type": "stream",
     "text": [
      "(tensor([[[0.0000, 0.0000, 0.0000, 0.0000, 0.0000, 0.0000, 0.0000, 0.0000,\n",
      "          0.0000, 0.0000, 0.0000, 0.0000, 0.0000, 0.0000, 0.0000, 0.0000,\n",
      "          0.0000, 0.0000, 0.0000, 0.0000, 0.0000, 0.0000, 0.0000, 0.0000,\n",
      "          0.0000, 0.0000, 0.0000, 0.0000],\n",
      "         [0.0000, 0.0000, 0.0000, 0.0000, 0.0000, 0.0000, 0.0000, 0.0000,\n",
      "          0.0000, 0.0000, 0.0000, 0.0000, 0.0000, 0.0000, 0.0000, 0.0000,\n",
      "          0.0000, 0.0000, 0.0000, 0.0000, 0.0000, 0.0000, 0.0000, 0.0000,\n",
      "          0.0000, 0.0000, 0.0000, 0.0000],\n",
      "         [0.0000, 0.0000, 0.0000, 0.0000, 0.0000, 0.0000, 0.0000, 0.0000,\n",
      "          0.0000, 0.0000, 0.0000, 0.0000, 0.0000, 0.0000, 0.0000, 0.0000,\n",
      "          0.0000, 0.0000, 0.0000, 0.0000, 0.0000, 0.0000, 0.0000, 0.0000,\n",
      "          0.0000, 0.0000, 0.0000, 0.0000],\n",
      "         [0.0000, 0.0000, 0.0000, 0.0000, 0.0000, 0.0000, 0.0000, 0.0000,\n",
      "          0.0000, 0.0000, 0.0000, 0.0000, 0.0000, 0.0000, 0.0000, 0.0000,\n",
      "          0.0000, 0.0000, 0.0000, 0.0000, 0.0000, 0.0000, 0.0000, 0.0000,\n",
      "          0.0000, 0.0000, 0.0000, 0.0000],\n",
      "         [0.0000, 0.0000, 0.0000, 0.0000, 0.0000, 0.0000, 0.0000, 0.0000,\n",
      "          0.0000, 0.0000, 0.0000, 0.0000, 0.0000, 0.0000, 0.0000, 0.0000,\n",
      "          0.0000, 0.0000, 0.0000, 0.0000, 0.0000, 0.0000, 0.0000, 0.0000,\n",
      "          0.0000, 0.0000, 0.0000, 0.0000],\n",
      "         [0.0000, 0.0000, 0.0000, 0.0000, 0.0000, 0.0000, 0.0000, 0.0000,\n",
      "          0.0000, 0.0000, 0.0000, 0.0000, 0.0000, 0.0000, 0.0000, 0.0000,\n",
      "          0.0000, 0.0000, 0.0000, 0.0000, 0.2627, 0.9098, 0.1529, 0.0000,\n",
      "          0.0000, 0.0000, 0.0000, 0.0000],\n",
      "         [0.0000, 0.0000, 0.0000, 0.0000, 0.2431, 0.3176, 0.0000, 0.0000,\n",
      "          0.0000, 0.0000, 0.0000, 0.0000, 0.0000, 0.0000, 0.0000, 0.0000,\n",
      "          0.0000, 0.0000, 0.0000, 0.0000, 0.4706, 0.7059, 0.1529, 0.0000,\n",
      "          0.0000, 0.0000, 0.0000, 0.0000],\n",
      "         [0.0000, 0.0000, 0.0000, 0.0000, 0.4941, 0.6392, 0.0000, 0.0000,\n",
      "          0.0000, 0.0000, 0.0000, 0.0000, 0.0000, 0.0000, 0.0000, 0.0000,\n",
      "          0.0000, 0.0000, 0.0000, 0.0078, 0.6000, 0.8235, 0.1569, 0.0000,\n",
      "          0.0000, 0.0000, 0.0000, 0.0000],\n",
      "         [0.0000, 0.0000, 0.0000, 0.0000, 0.8627, 0.6392, 0.0000, 0.0000,\n",
      "          0.0000, 0.0000, 0.0000, 0.0000, 0.0000, 0.0000, 0.0000, 0.0000,\n",
      "          0.0000, 0.0000, 0.0000, 0.1059, 0.9961, 0.6353, 0.0000, 0.0000,\n",
      "          0.0000, 0.0000, 0.0000, 0.0000],\n",
      "         [0.0000, 0.0000, 0.0000, 0.0000, 0.8706, 0.6392, 0.0000, 0.0000,\n",
      "          0.0000, 0.0000, 0.0000, 0.0000, 0.0000, 0.0000, 0.0000, 0.0000,\n",
      "          0.0000, 0.0000, 0.0000, 0.7176, 0.9961, 0.4902, 0.0000, 0.0000,\n",
      "          0.0000, 0.0000, 0.0000, 0.0000],\n",
      "         [0.0000, 0.0000, 0.0000, 0.1804, 0.9608, 0.6392, 0.0000, 0.0000,\n",
      "          0.0000, 0.0000, 0.0000, 0.0000, 0.0000, 0.0000, 0.0000, 0.0000,\n",
      "          0.0000, 0.0000, 0.0000, 0.7765, 0.9961, 0.2196, 0.0000, 0.0000,\n",
      "          0.0000, 0.0000, 0.0000, 0.0000],\n",
      "         [0.0000, 0.0000, 0.0000, 0.4706, 0.9961, 0.6392, 0.0000, 0.0000,\n",
      "          0.0000, 0.0000, 0.0000, 0.0000, 0.0000, 0.0000, 0.0000, 0.0000,\n",
      "          0.0000, 0.0000, 0.0902, 0.9059, 0.9961, 0.1137, 0.0000, 0.0000,\n",
      "          0.0000, 0.0000, 0.0000, 0.0000],\n",
      "         [0.0000, 0.0000, 0.0000, 0.6235, 0.9961, 0.4706, 0.0000, 0.0000,\n",
      "          0.0000, 0.0000, 0.0000, 0.0000, 0.0000, 0.0000, 0.0000, 0.0000,\n",
      "          0.0000, 0.0000, 0.6392, 0.9961, 0.8471, 0.0627, 0.0000, 0.0000,\n",
      "          0.0000, 0.0000, 0.0000, 0.0000],\n",
      "         [0.0000, 0.0000, 0.0000, 0.6235, 0.9961, 0.2627, 0.0000, 0.0000,\n",
      "          0.0000, 0.0000, 0.0000, 0.0000, 0.0000, 0.0000, 0.0000, 0.0549,\n",
      "          0.3373, 0.6980, 0.9725, 0.9961, 0.3569, 0.0000, 0.0000, 0.0000,\n",
      "          0.0000, 0.0000, 0.0000, 0.0000],\n",
      "         [0.0000, 0.0000, 0.0000, 0.6235, 0.9961, 0.3333, 0.0000, 0.0000,\n",
      "          0.0000, 0.1843, 0.1922, 0.4549, 0.5647, 0.5882, 0.9451, 0.9529,\n",
      "          0.9176, 0.7020, 0.9451, 0.9882, 0.1569, 0.0000, 0.0000, 0.0000,\n",
      "          0.0000, 0.0000, 0.0000, 0.0000],\n",
      "         [0.0000, 0.0000, 0.0000, 0.5882, 0.9922, 0.9294, 0.8118, 0.8118,\n",
      "          0.8118, 0.9922, 0.9961, 0.9804, 0.9412, 0.7765, 0.5608, 0.3569,\n",
      "          0.1098, 0.0196, 0.9137, 0.9804, 0.0000, 0.0000, 0.0000, 0.0000,\n",
      "          0.0000, 0.0000, 0.0000, 0.0000],\n",
      "         [0.0000, 0.0000, 0.0000, 0.0000, 0.4667, 0.6941, 0.6941, 0.6941,\n",
      "          0.6941, 0.6941, 0.3843, 0.2196, 0.0000, 0.0000, 0.0000, 0.0000,\n",
      "          0.0000, 0.4000, 0.9961, 0.8627, 0.0000, 0.0000, 0.0000, 0.0000,\n",
      "          0.0000, 0.0000, 0.0000, 0.0000],\n",
      "         [0.0000, 0.0000, 0.0000, 0.0000, 0.0000, 0.0000, 0.0000, 0.0000,\n",
      "          0.0000, 0.0000, 0.0000, 0.0000, 0.0000, 0.0000, 0.0000, 0.0000,\n",
      "          0.0000, 0.6627, 0.9961, 0.5373, 0.0000, 0.0000, 0.0000, 0.0000,\n",
      "          0.0000, 0.0000, 0.0000, 0.0000],\n",
      "         [0.0000, 0.0000, 0.0000, 0.0000, 0.0000, 0.0000, 0.0000, 0.0000,\n",
      "          0.0000, 0.0000, 0.0000, 0.0000, 0.0000, 0.0000, 0.0000, 0.0000,\n",
      "          0.0000, 0.6627, 0.9961, 0.2235, 0.0000, 0.0000, 0.0000, 0.0000,\n",
      "          0.0000, 0.0000, 0.0000, 0.0000],\n",
      "         [0.0000, 0.0000, 0.0000, 0.0000, 0.0000, 0.0000, 0.0000, 0.0000,\n",
      "          0.0000, 0.0000, 0.0000, 0.0000, 0.0000, 0.0000, 0.0000, 0.0000,\n",
      "          0.0000, 0.6627, 0.9961, 0.2235, 0.0000, 0.0000, 0.0000, 0.0000,\n",
      "          0.0000, 0.0000, 0.0000, 0.0000],\n",
      "         [0.0000, 0.0000, 0.0000, 0.0000, 0.0000, 0.0000, 0.0000, 0.0000,\n",
      "          0.0000, 0.0000, 0.0000, 0.0000, 0.0000, 0.0000, 0.0000, 0.0000,\n",
      "          0.0000, 0.6627, 1.0000, 0.3686, 0.0000, 0.0000, 0.0000, 0.0000,\n",
      "          0.0000, 0.0000, 0.0000, 0.0000],\n",
      "         [0.0000, 0.0000, 0.0000, 0.0000, 0.0000, 0.0000, 0.0000, 0.0000,\n",
      "          0.0000, 0.0000, 0.0000, 0.0000, 0.0000, 0.0000, 0.0000, 0.0000,\n",
      "          0.0000, 0.6627, 0.9961, 0.3765, 0.0000, 0.0000, 0.0000, 0.0000,\n",
      "          0.0000, 0.0000, 0.0000, 0.0000],\n",
      "         [0.0000, 0.0000, 0.0000, 0.0000, 0.0000, 0.0000, 0.0000, 0.0000,\n",
      "          0.0000, 0.0000, 0.0000, 0.0000, 0.0000, 0.0000, 0.0000, 0.0000,\n",
      "          0.0000, 0.6627, 0.9961, 0.6000, 0.0000, 0.0000, 0.0000, 0.0000,\n",
      "          0.0000, 0.0000, 0.0000, 0.0000],\n",
      "         [0.0000, 0.0000, 0.0000, 0.0000, 0.0000, 0.0000, 0.0000, 0.0000,\n",
      "          0.0000, 0.0000, 0.0000, 0.0000, 0.0000, 0.0000, 0.0000, 0.0000,\n",
      "          0.0000, 0.6627, 1.0000, 0.6000, 0.0000, 0.0000, 0.0000, 0.0000,\n",
      "          0.0000, 0.0000, 0.0000, 0.0000],\n",
      "         [0.0000, 0.0000, 0.0000, 0.0000, 0.0000, 0.0000, 0.0000, 0.0000,\n",
      "          0.0000, 0.0000, 0.0000, 0.0000, 0.0000, 0.0000, 0.0000, 0.0000,\n",
      "          0.0000, 0.3765, 0.9961, 0.6000, 0.0000, 0.0000, 0.0000, 0.0000,\n",
      "          0.0000, 0.0000, 0.0000, 0.0000],\n",
      "         [0.0000, 0.0000, 0.0000, 0.0000, 0.0000, 0.0000, 0.0000, 0.0000,\n",
      "          0.0000, 0.0000, 0.0000, 0.0000, 0.0000, 0.0000, 0.0000, 0.0000,\n",
      "          0.0000, 0.0000, 0.0000, 0.0000, 0.0000, 0.0000, 0.0000, 0.0000,\n",
      "          0.0000, 0.0000, 0.0000, 0.0000],\n",
      "         [0.0000, 0.0000, 0.0000, 0.0000, 0.0000, 0.0000, 0.0000, 0.0000,\n",
      "          0.0000, 0.0000, 0.0000, 0.0000, 0.0000, 0.0000, 0.0000, 0.0000,\n",
      "          0.0000, 0.0000, 0.0000, 0.0000, 0.0000, 0.0000, 0.0000, 0.0000,\n",
      "          0.0000, 0.0000, 0.0000, 0.0000],\n",
      "         [0.0000, 0.0000, 0.0000, 0.0000, 0.0000, 0.0000, 0.0000, 0.0000,\n",
      "          0.0000, 0.0000, 0.0000, 0.0000, 0.0000, 0.0000, 0.0000, 0.0000,\n",
      "          0.0000, 0.0000, 0.0000, 0.0000, 0.0000, 0.0000, 0.0000, 0.0000,\n",
      "          0.0000, 0.0000, 0.0000, 0.0000]]]), 4)\n"
     ]
    }
   ],
   "source": [
    "print(train_data[2])\n"
   ]
  },
  {
   "cell_type": "code",
   "execution_count": 18,
   "id": "c7dfd6fa-f5cd-4a55-adcc-a8764383a38c",
   "metadata": {},
   "outputs": [],
   "source": [
    "image = train_data[0][0]"
   ]
  },
  {
   "cell_type": "code",
   "execution_count": 23,
   "id": "9915a8f9-d52a-4788-a35e-510cbc6e61cf",
   "metadata": {},
   "outputs": [
    {
     "data": {
      "text/plain": [
       "torch.Size([1, 28, 28])"
      ]
     },
     "execution_count": 23,
     "metadata": {},
     "output_type": "execute_result"
    }
   ],
   "source": [
    "image.shape"
   ]
  },
  {
   "cell_type": "code",
   "execution_count": 24,
   "id": "cf34ac8e-c698-4236-ac45-5ce238d73eda",
   "metadata": {},
   "outputs": [
    {
     "data": {
      "text/plain": [
       "torch.Size([28, 28])"
      ]
     },
     "execution_count": 24,
     "metadata": {},
     "output_type": "execute_result"
    }
   ],
   "source": [
    "image.reshape(28,28).shape"
   ]
  },
  {
   "cell_type": "code",
   "execution_count": 36,
   "id": "393b23b0-1519-4ca2-b02e-df1c7a2ea988",
   "metadata": {},
   "outputs": [
    {
     "data": {
      "text/plain": [
       "<matplotlib.image.AxesImage at 0x18789afec50>"
      ]
     },
     "execution_count": 36,
     "metadata": {},
     "output_type": "execute_result"
    },
    {
     "data": {
      "image/png": "[encoded data removed]",
      "text/plain": [
       "<Figure size 640x480 with 1 Axes>"
      ]
     },
     "metadata": {},
     "output_type": "display_data"
    }
   ],
   "source": [
    "plt.imshow(image.reshape((28,28)))"
   ]
  },
  {
   "cell_type": "code",
   "execution_count": 39,
   "id": "74bebbab-ff8a-46fa-9719-16414f14d1c3",
   "metadata": {},
   "outputs": [
    {
     "name": "stdout",
     "output_type": "stream",
     "text": [
      "0\n",
      "1\n",
      "2\n",
      "3\n",
      "4\n",
      "5\n",
      "6\n",
      "7\n",
      "8\n",
      "9\n",
      "10\n",
      "11\n",
      "12\n",
      "13\n",
      "14\n",
      "15\n",
      "16\n",
      "17\n",
      "18\n",
      "19\n"
     ]
    },
    {
     "data": {
      "image/png": "[encoded data removed]",
      "text/plain": [
       "<Figure size 640x480 with 1 Axes>"
      ]
     },
     "metadata": {},
     "output_type": "display_data"
    }
   ],
   "source": [
    "i = 0\n",
    "while i < 20:\n",
    "    print(i)\n",
    "    image = train_data[i][0]\n",
    "    plt.imshow(image.reshape(28,28))\n",
    "    \n",
    "    i+=1"
   ]
  },
  {
   "cell_type": "code",
   "execution_count": 51,
   "id": "58104a84-4a49-461a-af04-e08d0d0c0f11",
   "metadata": {},
   "outputs": [],
   "source": [
    "class MultilayerPerceptron(nn.Module):\n",
    "    def __init__(self,in_size = 28*28, out_sz = 10,layer = [120,84]):\n",
    "        super().__init__()\n",
    "        self.fc1 = nn.Linear(in_size,layer[0])\n",
    "        self.fc2 = nn.Linear(layer[0],layer[1])\n",
    "        self.fc3 = nn.Linear(layer[1],out_sz)\n",
    "\n",
    "    def forward(self,X):\n",
    "        X = f.relu(self.fc1(X))\n",
    "        X = f.relu(self.fc2(X))\n",
    "        X = self.fc3(X)\n",
    "        return f.log_softmax(X,dim=1)"
   ]
  },
  {
   "cell_type": "code",
   "execution_count": 52,
   "id": "7f496c22-49eb-4153-ab73-94210e36dedb",
   "metadata": {},
   "outputs": [],
   "source": [
    "torch.manual_seed(101)\n",
    "model = MultilayerPerceptron()\n"
   ]
  },
  {
   "cell_type": "code",
   "execution_count": 53,
   "id": "faad018c-9044-4dc2-a4e4-a0a97b6bccaa",
   "metadata": {},
   "outputs": [
    {
     "data": {
      "text/plain": [
       "MultilayerPerceptron(\n",
       "  (fc1): Linear(in_features=784, out_features=120, bias=True)\n",
       "  (fc2): Linear(in_features=120, out_features=84, bias=True)\n",
       "  (fc3): Linear(in_features=84, out_features=10, bias=True)\n",
       ")"
      ]
     },
     "execution_count": 53,
     "metadata": {},
     "output_type": "execute_result"
    }
   ],
   "source": [
    "model"
   ]
  },
  {
   "cell_type": "code",
   "execution_count": 54,
   "id": "016bbea8-79ad-45d3-82af-a1bd9257cb8d",
   "metadata": {},
   "outputs": [
    {
     "name": "stdout",
     "output_type": "stream",
     "text": [
      "94080\n",
      "120\n",
      "10080\n",
      "84\n",
      "840\n",
      "10\n"
     ]
    }
   ],
   "source": [
    "for param in model.parameters():\n",
    "    print(param.numel())\n",
    "    "
   ]
  },
  {
   "cell_type": "code",
   "execution_count": 57,
   "id": "9af27a0f-4478-483c-929d-79a7b480eea4",
   "metadata": {},
   "outputs": [],
   "source": [
    "criterion = nn.CrossEntropyLoss()\n",
    "optimizer = torch.optim.Adam(model.parameters(),lr = 0.001)\n"
   ]
  },
  {
   "cell_type": "code",
   "execution_count": 62,
   "id": "d86fe976-f5a7-493c-8161-c95f500d475f",
   "metadata": {},
   "outputs": [],
   "source": [
    "train_loader = DataLoader(train_data,batch_size = 100,shuffle = True)"
   ]
  },
  {
   "cell_type": "code",
   "execution_count": 64,
   "id": "17e2c83a-168f-4227-b08c-dd22702a7e93",
   "metadata": {},
   "outputs": [
    {
     "data": {
      "text/plain": [
       "<torch.utils.data.dataloader.DataLoader at 0x18789acaf90>"
      ]
     },
     "execution_count": 64,
     "metadata": {},
     "output_type": "execute_result"
    }
   ],
   "source": [
    "train_loader"
   ]
  },
  {
   "cell_type": "code",
   "execution_count": 66,
   "id": "65640366-8b5e-4808-a52e-ab4cba6aafca",
   "metadata": {},
   "outputs": [],
   "source": [
    "# for b, (X_train,y_train) in enumerate(train_loader):\n",
    "#     print(b, X_train)"
   ]
  },
  {
   "cell_type": "code",
   "execution_count": 69,
   "id": "248bb21b-d103-4c14-a331-6364a5fac9f7",
   "metadata": {},
   "outputs": [
    {
     "name": "stdout",
     "output_type": "stream",
     "text": [
      "epoch 0 batch 200 loss : 0.25511395931243896 accuracy : 93.495\n",
      "epoch 0 batch 400 loss : 0.258078932762146 accuracy : 93.9575\n",
      "epoch 0 batch 600 loss : 0.16647720336914062 accuracy : 94.41333333333333\n",
      "epoch 1 batch 200 loss : 0.07393044233322144 accuracy : 95.87\n",
      "epoch 1 batch 400 loss : 0.20237207412719727 accuracy : 96.11\n",
      "epoch 1 batch 600 loss : 0.1251940131187439 accuracy : 96.27333333333333\n",
      "epoch 2 batch 200 loss : 0.14292463660240173 accuracy : 97.285\n",
      "epoch 2 batch 400 loss : 0.06194828823208809 accuracy : 97.155\n",
      "epoch 2 batch 600 loss : 0.07983198761940002 accuracy : 97.21666666666667\n",
      "epoch 3 batch 200 loss : 0.0425674170255661 accuracy : 97.85\n",
      "epoch 3 batch 400 loss : 0.08462385088205338 accuracy : 97.835\n",
      "epoch 3 batch 600 loss : 0.07582779228687286 accuracy : 97.83\n",
      "epoch 4 batch 200 loss : 0.14243005216121674 accuracy : 98.27\n",
      "epoch 4 batch 400 loss : 0.042632490396499634 accuracy : 98.2125\n",
      "epoch 4 batch 600 loss : 0.059559665620326996 accuracy : 98.21666666666667\n",
      "epoch 5 batch 200 loss : 0.03552878648042679 accuracy : 98.645\n",
      "epoch 5 batch 400 loss : 0.09308448433876038 accuracy : 98.5375\n",
      "epoch 5 batch 600 loss : 0.08829521387815475 accuracy : 98.46666666666667\n",
      "epoch 6 batch 200 loss : 0.02211121842265129 accuracy : 98.99\n",
      "epoch 6 batch 400 loss : 0.028776515275239944 accuracy : 98.8875\n",
      "epoch 6 batch 600 loss : 0.017640741541981697 accuracy : 98.85166666666667\n",
      "epoch 7 batch 200 loss : 0.08535751700401306 accuracy : 98.99\n",
      "epoch 7 batch 400 loss : 0.11548590660095215 accuracy : 98.9675\n",
      "epoch 7 batch 600 loss : 0.0028820165898650885 accuracy : 98.95666666666666\n",
      "epoch 8 batch 200 loss : 0.009817316196858883 accuracy : 99.305\n",
      "epoch 8 batch 400 loss : 0.02680417336523533 accuracy : 99.195\n",
      "epoch 8 batch 600 loss : 0.05001607909798622 accuracy : 99.14833333333333\n",
      "epoch 9 batch 200 loss : 0.004363055806607008 accuracy : 99.245\n",
      "epoch 9 batch 400 loss : 0.08116663247346878 accuracy : 99.265\n",
      "epoch 9 batch 600 loss : 0.03598974645137787 accuracy : 99.24333333333334\n"
     ]
    }
   ],
   "source": [
    "# import time\n",
    "# strat_time = time.time()\n",
    "\n",
    "epochs = 10\n",
    "\n",
    "train_loss = []\n",
    "test_loss = []\n",
    "train_correct = []\n",
    "test_correct = []\n",
    "\n",
    "for i in range(epochs):\n",
    "    trn_corr = 0\n",
    "    tst_corr = 0\n",
    "    for b, (X_train,y_train) in enumerate(train_loader):\n",
    "        b+=1\n",
    "        y_pred = model(X_train.view(100,-1))\n",
    "        loss = criterion(y_pred,y_train)\n",
    "        predicted = torch.max(y_pred.data,1)[1]\n",
    "        batch_corr = (predicted == y_train).sum()\n",
    "        trn_corr += batch_corr\n",
    "\n",
    "        optimizer.zero_grad()\n",
    "        loss.backward()\n",
    "        optimizer.step()\n",
    "\n",
    "        if b%200 == 0:\n",
    "            accuracy = trn_corr.item()*100/(100*b)\n",
    "            print(f\"epoch {i} batch {b} loss : {loss.item()} accuracy : {accuracy}\")\n",
    "\n",
    "    train_loss.append(loss)\n",
    "    train_correct.append(trn_corr)\n"
   ]
  },
  {
   "cell_type": "code",
   "execution_count": 71,
   "id": "ff997508-798d-4db8-9c01-5e4096bed38d",
   "metadata": {},
   "outputs": [
    {
     "data": {
      "text/plain": [
       "[tensor(0.1665, grad_fn=<NllLossBackward0>),\n",
       " tensor(0.1252, grad_fn=<NllLossBackward0>),\n",
       " tensor(0.0798, grad_fn=<NllLossBackward0>),\n",
       " tensor(0.0758, grad_fn=<NllLossBackward0>),\n",
       " tensor(0.0596, grad_fn=<NllLossBackward0>),\n",
       " tensor(0.0883, grad_fn=<NllLossBackward0>),\n",
       " tensor(0.0176, grad_fn=<NllLossBackward0>),\n",
       " tensor(0.0029, grad_fn=<NllLossBackward0>),\n",
       " tensor(0.0500, grad_fn=<NllLossBackward0>),\n",
       " tensor(0.0360, grad_fn=<NllLossBackward0>)]"
      ]
     },
     "execution_count": 71,
     "metadata": {},
     "output_type": "execute_result"
    }
   ],
   "source": [
    "train_loss"
   ]
  },
  {
   "cell_type": "code",
   "execution_count": null,
   "id": "90c2c982-f461-4399-9f5e-c057771c2d69",
   "metadata": {},
   "outputs": [],
   "source": [
    "############################ Using CNN #########################"
   ]
  },
  {
   "cell_type": "code",
   "execution_count": 5,
   "id": "e65e3669-4cc0-4ed6-892c-f2084e9cb0cf",
   "metadata": {},
   "outputs": [],
   "source": [
    "train_loader = DataLoader(train_data,batch_size = 10, shuffle = True)\n",
    "test_loader = DataLoader(test_data,batch_size = 10, shuffle = True)"
   ]
  },
  {
   "cell_type": "code",
   "execution_count": 16,
   "id": "83b0686b-b9eb-43a1-9405-1a10fbe3d54f",
   "metadata": {},
   "outputs": [
    {
     "data": {
      "text/plain": [
       "5"
      ]
     },
     "execution_count": 16,
     "metadata": {},
     "output_type": "execute_result"
    }
   ],
   "source": [
    "train_data[0][1]"
   ]
  },
  {
   "cell_type": "code",
   "execution_count": 17,
   "id": "82ad571b-563e-4f41-a70b-794169a4f969",
   "metadata": {},
   "outputs": [],
   "source": [
    "for i, (X_train,y_train) in enumerate(train_data):\n",
    "    break"
   ]
  },
  {
   "cell_type": "code",
   "execution_count": 23,
   "id": "0c318384-e77f-4d3d-bb8e-b933eac3082e",
   "metadata": {},
   "outputs": [
    {
     "data": {
      "text/plain": [
       "torch.Size([1, 28, 28])"
      ]
     },
     "execution_count": 23,
     "metadata": {},
     "output_type": "execute_result"
    }
   ],
   "source": [
    "X_train.shape\n",
    "# y_train"
   ]
  },
  {
   "cell_type": "code",
   "execution_count": 24,
   "id": "e86cd112-5263-4e1a-b743-a006b6adce9d",
   "metadata": {},
   "outputs": [
    {
     "data": {
      "text/plain": [
       "tensor([[[0.0000, 0.0000, 0.0000, 0.0000, 0.0000, 0.0000, 0.0000, 0.0000,\n",
       "          0.0000, 0.0000, 0.0000, 0.0000, 0.0000, 0.0000, 0.0000, 0.0000,\n",
       "          0.0000, 0.0000, 0.0000, 0.0000, 0.0000, 0.0000, 0.0000, 0.0000,\n",
       "          0.0000, 0.0000, 0.0000, 0.0000],\n",
       "         [0.0000, 0.0000, 0.0000, 0.0000, 0.0000, 0.0000, 0.0000, 0.0000,\n",
       "          0.0000, 0.0000, 0.0000, 0.0000, 0.0000, 0.0000, 0.0000, 0.0000,\n",
       "          0.0000, 0.0000, 0.0000, 0.0000, 0.0000, 0.0000, 0.0000, 0.0000,\n",
       "          0.0000, 0.0000, 0.0000, 0.0000],\n",
       "         [0.0000, 0.0000, 0.0000, 0.0000, 0.0000, 0.0000, 0.0000, 0.0000,\n",
       "          0.0000, 0.0000, 0.0000, 0.0000, 0.0000, 0.0000, 0.0000, 0.0000,\n",
       "          0.0000, 0.0000, 0.0000, 0.0000, 0.0000, 0.0000, 0.0000, 0.0000,\n",
       "          0.0000, 0.0000, 0.0000, 0.0000],\n",
       "         [0.0000, 0.0000, 0.0000, 0.0000, 0.0000, 0.0000, 0.0000, 0.0000,\n",
       "          0.0000, 0.0000, 0.0000, 0.0000, 0.0000, 0.0000, 0.0000, 0.0000,\n",
       "          0.0000, 0.0000, 0.0000, 0.0000, 0.0000, 0.0000, 0.0000, 0.0000,\n",
       "          0.0000, 0.0000, 0.0000, 0.0000],\n",
       "         [0.0000, 0.0000, 0.0000, 0.0000, 0.0000, 0.0000, 0.0000, 0.0000,\n",
       "          0.0000, 0.0000, 0.0000, 0.0000, 0.0000, 0.0000, 0.0000, 0.0000,\n",
       "          0.0000, 0.0000, 0.0000, 0.0000, 0.0000, 0.0000, 0.0000, 0.0000,\n",
       "          0.0000, 0.0000, 0.0000, 0.0000],\n",
       "         [0.0000, 0.0000, 0.0000, 0.0000, 0.0000, 0.0000, 0.0000, 0.0000,\n",
       "          0.0000, 0.0000, 0.0000, 0.0000, 0.0118, 0.0706, 0.0706, 0.0706,\n",
       "          0.4941, 0.5333, 0.6863, 0.1020, 0.6510, 1.0000, 0.9686, 0.4980,\n",
       "          0.0000, 0.0000, 0.0000, 0.0000],\n",
       "         [0.0000, 0.0000, 0.0000, 0.0000, 0.0000, 0.0000, 0.0000, 0.0000,\n",
       "          0.1176, 0.1412, 0.3686, 0.6039, 0.6667, 0.9922, 0.9922, 0.9922,\n",
       "          0.9922, 0.9922, 0.8824, 0.6745, 0.9922, 0.9490, 0.7647, 0.2510,\n",
       "          0.0000, 0.0000, 0.0000, 0.0000],\n",
       "         [0.0000, 0.0000, 0.0000, 0.0000, 0.0000, 0.0000, 0.0000, 0.1922,\n",
       "          0.9333, 0.9922, 0.9922, 0.9922, 0.9922, 0.9922, 0.9922, 0.9922,\n",
       "          0.9922, 0.9843, 0.3647, 0.3216, 0.3216, 0.2196, 0.1529, 0.0000,\n",
       "          0.0000, 0.0000, 0.0000, 0.0000],\n",
       "         [0.0000, 0.0000, 0.0000, 0.0000, 0.0000, 0.0000, 0.0000, 0.0706,\n",
       "          0.8588, 0.9922, 0.9922, 0.9922, 0.9922, 0.9922, 0.7765, 0.7137,\n",
       "          0.9686, 0.9451, 0.0000, 0.0000, 0.0000, 0.0000, 0.0000, 0.0000,\n",
       "          0.0000, 0.0000, 0.0000, 0.0000],\n",
       "         [0.0000, 0.0000, 0.0000, 0.0000, 0.0000, 0.0000, 0.0000, 0.0000,\n",
       "          0.3137, 0.6118, 0.4196, 0.9922, 0.9922, 0.8039, 0.0431, 0.0000,\n",
       "          0.1686, 0.6039, 0.0000, 0.0000, 0.0000, 0.0000, 0.0000, 0.0000,\n",
       "          0.0000, 0.0000, 0.0000, 0.0000],\n",
       "         [0.0000, 0.0000, 0.0000, 0.0000, 0.0000, 0.0000, 0.0000, 0.0000,\n",
       "          0.0000, 0.0549, 0.0039, 0.6039, 0.9922, 0.3529, 0.0000, 0.0000,\n",
       "          0.0000, 0.0000, 0.0000, 0.0000, 0.0000, 0.0000, 0.0000, 0.0000,\n",
       "          0.0000, 0.0000, 0.0000, 0.0000],\n",
       "         [0.0000, 0.0000, 0.0000, 0.0000, 0.0000, 0.0000, 0.0000, 0.0000,\n",
       "          0.0000, 0.0000, 0.0000, 0.5451, 0.9922, 0.7451, 0.0078, 0.0000,\n",
       "          0.0000, 0.0000, 0.0000, 0.0000, 0.0000, 0.0000, 0.0000, 0.0000,\n",
       "          0.0000, 0.0000, 0.0000, 0.0000],\n",
       "         [0.0000, 0.0000, 0.0000, 0.0000, 0.0000, 0.0000, 0.0000, 0.0000,\n",
       "          0.0000, 0.0000, 0.0000, 0.0431, 0.7451, 0.9922, 0.2745, 0.0000,\n",
       "          0.0000, 0.0000, 0.0000, 0.0000, 0.0000, 0.0000, 0.0000, 0.0000,\n",
       "          0.0000, 0.0000, 0.0000, 0.0000],\n",
       "         [0.0000, 0.0000, 0.0000, 0.0000, 0.0000, 0.0000, 0.0000, 0.0000,\n",
       "          0.0000, 0.0000, 0.0000, 0.0000, 0.1373, 0.9451, 0.8824, 0.6275,\n",
       "          0.4235, 0.0039, 0.0000, 0.0000, 0.0000, 0.0000, 0.0000, 0.0000,\n",
       "          0.0000, 0.0000, 0.0000, 0.0000],\n",
       "         [0.0000, 0.0000, 0.0000, 0.0000, 0.0000, 0.0000, 0.0000, 0.0000,\n",
       "          0.0000, 0.0000, 0.0000, 0.0000, 0.0000, 0.3176, 0.9412, 0.9922,\n",
       "          0.9922, 0.4667, 0.0980, 0.0000, 0.0000, 0.0000, 0.0000, 0.0000,\n",
       "          0.0000, 0.0000, 0.0000, 0.0000],\n",
       "         [0.0000, 0.0000, 0.0000, 0.0000, 0.0000, 0.0000, 0.0000, 0.0000,\n",
       "          0.0000, 0.0000, 0.0000, 0.0000, 0.0000, 0.0000, 0.1765, 0.7294,\n",
       "          0.9922, 0.9922, 0.5882, 0.1059, 0.0000, 0.0000, 0.0000, 0.0000,\n",
       "          0.0000, 0.0000, 0.0000, 0.0000],\n",
       "         [0.0000, 0.0000, 0.0000, 0.0000, 0.0000, 0.0000, 0.0000, 0.0000,\n",
       "          0.0000, 0.0000, 0.0000, 0.0000, 0.0000, 0.0000, 0.0000, 0.0627,\n",
       "          0.3647, 0.9882, 0.9922, 0.7333, 0.0000, 0.0000, 0.0000, 0.0000,\n",
       "          0.0000, 0.0000, 0.0000, 0.0000],\n",
       "         [0.0000, 0.0000, 0.0000, 0.0000, 0.0000, 0.0000, 0.0000, 0.0000,\n",
       "          0.0000, 0.0000, 0.0000, 0.0000, 0.0000, 0.0000, 0.0000, 0.0000,\n",
       "          0.0000, 0.9765, 0.9922, 0.9765, 0.2510, 0.0000, 0.0000, 0.0000,\n",
       "          0.0000, 0.0000, 0.0000, 0.0000],\n",
       "         [0.0000, 0.0000, 0.0000, 0.0000, 0.0000, 0.0000, 0.0000, 0.0000,\n",
       "          0.0000, 0.0000, 0.0000, 0.0000, 0.0000, 0.0000, 0.1804, 0.5098,\n",
       "          0.7176, 0.9922, 0.9922, 0.8118, 0.0078, 0.0000, 0.0000, 0.0000,\n",
       "          0.0000, 0.0000, 0.0000, 0.0000],\n",
       "         [0.0000, 0.0000, 0.0000, 0.0000, 0.0000, 0.0000, 0.0000, 0.0000,\n",
       "          0.0000, 0.0000, 0.0000, 0.0000, 0.1529, 0.5804, 0.8980, 0.9922,\n",
       "          0.9922, 0.9922, 0.9804, 0.7137, 0.0000, 0.0000, 0.0000, 0.0000,\n",
       "          0.0000, 0.0000, 0.0000, 0.0000],\n",
       "         [0.0000, 0.0000, 0.0000, 0.0000, 0.0000, 0.0000, 0.0000, 0.0000,\n",
       "          0.0000, 0.0000, 0.0941, 0.4471, 0.8667, 0.9922, 0.9922, 0.9922,\n",
       "          0.9922, 0.7882, 0.3059, 0.0000, 0.0000, 0.0000, 0.0000, 0.0000,\n",
       "          0.0000, 0.0000, 0.0000, 0.0000],\n",
       "         [0.0000, 0.0000, 0.0000, 0.0000, 0.0000, 0.0000, 0.0000, 0.0000,\n",
       "          0.0902, 0.2588, 0.8353, 0.9922, 0.9922, 0.9922, 0.9922, 0.7765,\n",
       "          0.3176, 0.0078, 0.0000, 0.0000, 0.0000, 0.0000, 0.0000, 0.0000,\n",
       "          0.0000, 0.0000, 0.0000, 0.0000],\n",
       "         [0.0000, 0.0000, 0.0000, 0.0000, 0.0000, 0.0000, 0.0706, 0.6706,\n",
       "          0.8588, 0.9922, 0.9922, 0.9922, 0.9922, 0.7647, 0.3137, 0.0353,\n",
       "          0.0000, 0.0000, 0.0000, 0.0000, 0.0000, 0.0000, 0.0000, 0.0000,\n",
       "          0.0000, 0.0000, 0.0000, 0.0000],\n",
       "         [0.0000, 0.0000, 0.0000, 0.0000, 0.2157, 0.6745, 0.8863, 0.9922,\n",
       "          0.9922, 0.9922, 0.9922, 0.9569, 0.5216, 0.0431, 0.0000, 0.0000,\n",
       "          0.0000, 0.0000, 0.0000, 0.0000, 0.0000, 0.0000, 0.0000, 0.0000,\n",
       "          0.0000, 0.0000, 0.0000, 0.0000],\n",
       "         [0.0000, 0.0000, 0.0000, 0.0000, 0.5333, 0.9922, 0.9922, 0.9922,\n",
       "          0.8314, 0.5294, 0.5176, 0.0627, 0.0000, 0.0000, 0.0000, 0.0000,\n",
       "          0.0000, 0.0000, 0.0000, 0.0000, 0.0000, 0.0000, 0.0000, 0.0000,\n",
       "          0.0000, 0.0000, 0.0000, 0.0000],\n",
       "         [0.0000, 0.0000, 0.0000, 0.0000, 0.0000, 0.0000, 0.0000, 0.0000,\n",
       "          0.0000, 0.0000, 0.0000, 0.0000, 0.0000, 0.0000, 0.0000, 0.0000,\n",
       "          0.0000, 0.0000, 0.0000, 0.0000, 0.0000, 0.0000, 0.0000, 0.0000,\n",
       "          0.0000, 0.0000, 0.0000, 0.0000],\n",
       "         [0.0000, 0.0000, 0.0000, 0.0000, 0.0000, 0.0000, 0.0000, 0.0000,\n",
       "          0.0000, 0.0000, 0.0000, 0.0000, 0.0000, 0.0000, 0.0000, 0.0000,\n",
       "          0.0000, 0.0000, 0.0000, 0.0000, 0.0000, 0.0000, 0.0000, 0.0000,\n",
       "          0.0000, 0.0000, 0.0000, 0.0000],\n",
       "         [0.0000, 0.0000, 0.0000, 0.0000, 0.0000, 0.0000, 0.0000, 0.0000,\n",
       "          0.0000, 0.0000, 0.0000, 0.0000, 0.0000, 0.0000, 0.0000, 0.0000,\n",
       "          0.0000, 0.0000, 0.0000, 0.0000, 0.0000, 0.0000, 0.0000, 0.0000,\n",
       "          0.0000, 0.0000, 0.0000, 0.0000]]])"
      ]
     },
     "execution_count": 24,
     "metadata": {},
     "output_type": "execute_result"
    }
   ],
   "source": [
    "X_train"
   ]
  },
  {
   "cell_type": "code",
   "execution_count": 28,
   "id": "05665245-f374-400c-aa95-b676e90750ad",
   "metadata": {},
   "outputs": [],
   "source": [
    "conv1 = nn.Conv2d(1,6,3,1) # 1 color channel, 6 filters (output), 3*3 kernel, 1 stride\n",
    "\n",
    "conv2 = nn.Conv2d(6,16,3,1)  # 6 input filters, 16 filters (output), 3*3 kernel, 1 stride\n"
   ]
  },
  {
   "cell_type": "code",
   "execution_count": 29,
   "id": "f55cebf4-df2d-4828-979e-aa3467b9e6fa",
   "metadata": {},
   "outputs": [],
   "source": [
    "X = X_train"
   ]
  },
  {
   "cell_type": "code",
   "execution_count": 32,
   "id": "ef4c36d2-a6ac-4236-96c6-802a062d8403",
   "metadata": {},
   "outputs": [
    {
     "data": {
      "text/plain": [
       "torch.Size([1, 28, 28])"
      ]
     },
     "execution_count": 32,
     "metadata": {},
     "output_type": "execute_result"
    }
   ],
   "source": [
    "X.shape"
   ]
  },
  {
   "cell_type": "code",
   "execution_count": 34,
   "id": "a6eca426-94e9-45b3-8e7d-27285be045b8",
   "metadata": {},
   "outputs": [],
   "source": [
    "X = f.relu(conv1(X))"
   ]
  },
  {
   "cell_type": "code",
   "execution_count": 37,
   "id": "04a877fc-d2d8-45d0-99e8-939b60757407",
   "metadata": {},
   "outputs": [
    {
     "data": {
      "text/plain": [
       "torch.Size([6, 26, 26])"
      ]
     },
     "execution_count": 37,
     "metadata": {},
     "output_type": "execute_result"
    }
   ],
   "source": [
    "X.shape  # as we didn't add padding so 28 dim data got reduced to 26 dim data"
   ]
  },
  {
   "cell_type": "code",
   "execution_count": 41,
   "id": "15eae08a-eb83-4ce3-ac1b-4f0108f0797a",
   "metadata": {},
   "outputs": [],
   "source": [
    "X = f.max_pool2d(X,2,2)"
   ]
  },
  {
   "cell_type": "code",
   "execution_count": 42,
   "id": "3de24e3d-cac1-4401-b724-8fbd7d28872e",
   "metadata": {},
   "outputs": [
    {
     "data": {
      "text/plain": [
       "torch.Size([6, 13, 13])"
      ]
     },
     "execution_count": 42,
     "metadata": {},
     "output_type": "execute_result"
    }
   ],
   "source": [
    "X.shape"
   ]
  },
  {
   "cell_type": "code",
   "execution_count": 43,
   "id": "3b1add2e-fe29-41b2-8754-b3ffe166bbb2",
   "metadata": {},
   "outputs": [],
   "source": [
    "X = f.relu(conv2(X))"
   ]
  },
  {
   "cell_type": "code",
   "execution_count": 44,
   "id": "fe0bbc46-92ff-4051-b244-bd9d88da92e6",
   "metadata": {},
   "outputs": [
    {
     "data": {
      "text/plain": [
       "torch.Size([16, 11, 11])"
      ]
     },
     "execution_count": 44,
     "metadata": {},
     "output_type": "execute_result"
    }
   ],
   "source": [
    "X.shape"
   ]
  },
  {
   "cell_type": "code",
   "execution_count": 48,
   "id": "684da5fa-329b-4379-a9e5-c621822f13b1",
   "metadata": {},
   "outputs": [
    {
     "data": {
      "text/plain": [
       "tensor([[0.0454, 0.0677, 0.0374,  ..., 0.0531, 0.0224, 0.0224]],\n",
       "       grad_fn=<ViewBackward0>)"
      ]
     },
     "execution_count": 48,
     "metadata": {},
     "output_type": "execute_result"
    }
   ],
   "source": [
    "X.view(-1,16*11*11)"
   ]
  },
  {
   "cell_type": "code",
   "execution_count": null,
   "id": "fcfd14e6-7f0b-4d27-b87f-7d16d92470a8",
   "metadata": {},
   "outputs": [],
   "source": []
  },
  {
   "cell_type": "code",
   "execution_count": 72,
   "id": "c743f064-beb2-4cbf-b0e4-52f2233dbd66",
   "metadata": {},
   "outputs": [],
   "source": [
    "class CNN(nn.Module):\n",
    "    def __init__(self):\n",
    "        super().__init__()\n",
    "        self.conv1 = nn.Conv2d(1,6,3,1)\n",
    "        self.conv2 = nn.Conv2d(6,16,3,1)\n",
    "        self.fc1 = nn.Linear(5*5*16,120)\n",
    "        self.fc2 = nn.Linear(120,84)\n",
    "        self.fc3 = nn.Linear(84,10)\n",
    "\n",
    "    def forward(self,X):\n",
    "        X = f.relu(self.conv1(X))\n",
    "        X = f.max_pool2d(X,2,2)\n",
    "        X = f.relu(self.conv2(X))\n",
    "        X = f.max_pool2d(X,2,2)\n",
    "        X = X.view(-1,16*5*5)\n",
    "        X = f.relu(self.fc1(X))\n",
    "        X = f.relu(self.fc2(X))\n",
    "        X = self.fc3(X)\n",
    "        return f.log_softmax(X,dim=1)\n"
   ]
  },
  {
   "cell_type": "code",
   "execution_count": 73,
   "id": "4b182419-ac7d-425d-b3c6-4eb30f991e1a",
   "metadata": {},
   "outputs": [],
   "source": [
    "torch.manual_seed(42)\n",
    "model = CNN()"
   ]
  },
  {
   "cell_type": "code",
   "execution_count": 74,
   "id": "bef3c115-7157-444d-b9d0-95320f369480",
   "metadata": {},
   "outputs": [
    {
     "data": {
      "text/plain": [
       "CNN(\n",
       "  (conv1): Conv2d(1, 6, kernel_size=(3, 3), stride=(1, 1))\n",
       "  (conv2): Conv2d(6, 16, kernel_size=(3, 3), stride=(1, 1))\n",
       "  (fc1): Linear(in_features=400, out_features=120, bias=True)\n",
       "  (fc2): Linear(in_features=120, out_features=84, bias=True)\n",
       "  (fc3): Linear(in_features=84, out_features=10, bias=True)\n",
       ")"
      ]
     },
     "execution_count": 74,
     "metadata": {},
     "output_type": "execute_result"
    }
   ],
   "source": [
    "model"
   ]
  },
  {
   "cell_type": "code",
   "execution_count": 75,
   "id": "1b604a2e-8e9b-492b-9bad-a816d55c3353",
   "metadata": {},
   "outputs": [
    {
     "name": "stdout",
     "output_type": "stream",
     "text": [
      "54\n",
      "6\n",
      "864\n",
      "16\n",
      "48000\n",
      "120\n",
      "10080\n",
      "84\n",
      "840\n",
      "10\n"
     ]
    }
   ],
   "source": [
    "for param in model.parameters():\n",
    "    print(param.numel())"
   ]
  },
  {
   "cell_type": "code",
   "execution_count": 78,
   "id": "97455118-ec21-424b-83f6-f2b3c91cc1fa",
   "metadata": {},
   "outputs": [],
   "source": [
    "criterion = nn.CrossEntropyLoss()\n",
    "optimizer = torch.optim.Adam(model.parameters(),lr=0.01)"
   ]
  },
  {
   "cell_type": "code",
   "execution_count": 83,
   "id": "cc7876b6-1151-4095-bb74-f7256d8ecea8",
   "metadata": {
    "scrolled": true
   },
   "outputs": [
    {
     "name": "stdout",
     "output_type": "stream",
     "text": [
      "epoch 0, batch 600, loss 0.0026317816227674484\n",
      "epoch 0, batch 1200, loss 0.0002142844896297902\n",
      "epoch 0, batch 1800, loss 0.0019635085482150316\n",
      "epoch 0, batch 2400, loss 0.1291920244693756\n",
      "epoch 0, batch 3000, loss 0.013532432727515697\n",
      "epoch 0, batch 3600, loss 0.06485597044229507\n",
      "epoch 0, batch 4200, loss 0.3032057285308838\n",
      "epoch 0, batch 4800, loss 1.0427677631378174\n",
      "epoch 0, batch 5400, loss 0.11905913054943085\n",
      "epoch 0, batch 6000, loss 1.2740905284881592\n",
      "epoch 1, batch 600, loss 0.0028069601394236088\n",
      "epoch 1, batch 1200, loss 0.005194474942982197\n",
      "epoch 1, batch 1800, loss 0.01788903772830963\n",
      "epoch 1, batch 2400, loss 0.015342334285378456\n",
      "epoch 1, batch 3000, loss 0.12456619739532471\n",
      "epoch 1, batch 3600, loss 0.02276105433702469\n",
      "epoch 1, batch 4200, loss 0.008074574172496796\n",
      "epoch 1, batch 4800, loss 0.013065782375633717\n",
      "epoch 1, batch 5400, loss 0.025682732462882996\n",
      "epoch 1, batch 6000, loss 0.0051724473014473915\n",
      "epoch 2, batch 600, loss 0.18443426489830017\n",
      "epoch 2, batch 1200, loss 0.05105201154947281\n",
      "epoch 2, batch 1800, loss 0.0014915121719241142\n",
      "epoch 2, batch 2400, loss 0.19502867758274078\n",
      "epoch 2, batch 3000, loss 0.235611230134964\n",
      "epoch 2, batch 3600, loss 0.00815325602889061\n",
      "epoch 2, batch 4200, loss 0.9396752119064331\n",
      "epoch 2, batch 4800, loss 0.622666597366333\n",
      "epoch 2, batch 5400, loss 0.02619239315390587\n",
      "epoch 2, batch 6000, loss 0.09369214624166489\n",
      "epoch 3, batch 600, loss 0.1633443534374237\n",
      "epoch 3, batch 1200, loss 0.3103681802749634\n",
      "epoch 3, batch 1800, loss 0.01262530218809843\n",
      "epoch 3, batch 2400, loss 0.09771433472633362\n",
      "epoch 3, batch 3000, loss 0.12553580105304718\n",
      "epoch 3, batch 3600, loss 0.24218229949474335\n",
      "epoch 3, batch 4200, loss 0.2892119288444519\n",
      "epoch 3, batch 4800, loss 0.02232147566974163\n",
      "epoch 3, batch 5400, loss 0.005307845771312714\n",
      "epoch 3, batch 6000, loss 0.003461768152192235\n",
      "epoch 4, batch 600, loss 0.9820293188095093\n",
      "epoch 4, batch 1200, loss 0.023767651990056038\n",
      "epoch 4, batch 1800, loss 0.0008834294276311994\n",
      "epoch 4, batch 2400, loss 0.04432334750890732\n",
      "epoch 4, batch 3000, loss 0.013213882222771645\n",
      "epoch 4, batch 3600, loss 0.018231835216283798\n",
      "epoch 4, batch 4200, loss 0.020967738702893257\n",
      "epoch 4, batch 4800, loss 0.0021489751525223255\n",
      "epoch 4, batch 5400, loss 0.026388689875602722\n",
      "epoch 4, batch 6000, loss 0.11163182556629181\n"
     ]
    }
   ],
   "source": [
    "epochs = 5\n",
    "train_loss = []\n",
    "test_loss = []\n",
    "train_correct = []\n",
    "test_correct = []\n",
    "\n",
    "for i in range(epochs):\n",
    "    trn_corr = 0\n",
    "    tst_corr = 0\n",
    "    for b, (X_train,y_train) in enumerate(train_loader):\n",
    "        b+=1\n",
    "        y_pred = model(X_train)\n",
    "        loss = criterion(y_pred,y_train)\n",
    "        predicted = torch.max(y_pred.data,1)[1]\n",
    "        batch_corr = (predicted == y_train).sum()\n",
    "        trn_corr+=batch_corr\n",
    "        optimizer.zero_grad()\n",
    "        loss.backward()\n",
    "        optimizer.step()\n",
    "\n",
    "        if b%600 == 0:\n",
    "            print(f\"epoch {i}, batch {b}, loss {loss.item()}\")\n",
    "    train_loss.append(loss)\n",
    "    train_correct.append(trn_corr)\n",
    "\n",
    "    with torch.no_grad():\n",
    "        for b, (X_test,y_test) in enumerate(test_loader):\n",
    "            y_val = model(X_test)\n",
    "            predicted = torch.max(y_val.data,1)[1]\n",
    "            tst_corr += (predicted == y_test).sum()\n",
    "\n",
    "    loss = criterion(y_val,y_test)\n",
    "    test_loss.append(loss)\n",
    "    test_correct.append(tst_corr)\n",
    "        \n",
    "        \n",
    "        "
   ]
  },
  {
   "cell_type": "code",
   "execution_count": 91,
   "id": "518b5617-47a6-44d6-aef9-1db8e3f6ea7c",
   "metadata": {},
   "outputs": [
    {
     "data": {
      "text/plain": [
       "[tensor(1.2741, grad_fn=<NllLossBackward0>),\n",
       " tensor(0.0052, grad_fn=<NllLossBackward0>),\n",
       " tensor(0.0937, grad_fn=<NllLossBackward0>),\n",
       " tensor(0.0035, grad_fn=<NllLossBackward0>),\n",
       " tensor(0.1116, grad_fn=<NllLossBackward0>)]"
      ]
     },
     "execution_count": 91,
     "metadata": {},
     "output_type": "execute_result"
    }
   ],
   "source": [
    "train_loss"
   ]
  },
  {
   "cell_type": "code",
   "execution_count": 95,
   "id": "95793768-3ba9-407b-a5b4-e10d10d391fe",
   "metadata": {},
   "outputs": [],
   "source": [
    "loss_train = []\n",
    "loss_test = []\n",
    "for i in train_loss:\n",
    "    loss_train.append(i.detach().numpy())\n",
    "for i in test_loss:\n",
    "    loss_test.append(i.detach().numpy())\n"
   ]
  },
  {
   "cell_type": "code",
   "execution_count": 92,
   "id": "a42e3676-ef9b-4910-8b37-2a41529a2bd9",
   "metadata": {},
   "outputs": [
    {
     "data": {
      "text/plain": [
       "[array(1.2740905, dtype=float32),\n",
       " array(0.00517245, dtype=float32),\n",
       " array(0.09369215, dtype=float32),\n",
       " array(0.00346177, dtype=float32),\n",
       " array(0.11163183, dtype=float32)]"
      ]
     },
     "execution_count": 92,
     "metadata": {},
     "output_type": "execute_result"
    }
   ],
   "source": [
    "loss_train"
   ]
  },
  {
   "cell_type": "code",
   "execution_count": 99,
   "id": "77999264-2fd7-400d-8003-5b694f9b08f6",
   "metadata": {},
   "outputs": [
    {
     "data": {
      "text/plain": [
       "<matplotlib.legend.Legend at 0x27b9ef9f650>"
      ]
     },
     "execution_count": 99,
     "metadata": {},
     "output_type": "execute_result"
    },
    {
     "data": {
      "image/png": "[encoded data removed]",
      "text/plain": [
       "<Figure size 640x480 with 1 Axes>"
      ]
     },
     "metadata": {},
     "output_type": "display_data"
    }
   ],
   "source": [
    "plt.plot(loss_train,label = 'train_loss')\n",
    "plt.plot(loss_test,label = 'validation_loss')\n",
    "plt.legend()"
   ]
  },
  {
   "cell_type": "code",
   "execution_count": 102,
   "id": "59fb98f2-0636-44e7-a861-6f49644f84f9",
   "metadata": {},
   "outputs": [
    {
     "data": {
      "text/plain": [
       "<matplotlib.legend.Legend at 0x27b9f161a90>"
      ]
     },
     "execution_count": 102,
     "metadata": {},
     "output_type": "execute_result"
    },
    {
     "data": {
      "image/png": "[encoded data removed]",
      "text/plain": [
       "<Figure size 640x480 with 1 Axes>"
      ]
     },
     "metadata": {},
     "output_type": "display_data"
    }
   ],
   "source": [
    "plt.plot([t/600 for t in train_correct],label = 'train_acc')\n",
    "plt.plot([t/100 for t in test_correct],label = 'test_acc')\n",
    "plt.title(\"acc at the end of each epoch\")\n",
    "plt.legend()"
   ]
  },
  {
   "cell_type": "code",
   "execution_count": 103,
   "id": "44e23db0-cf6e-422f-9351-36b363660064",
   "metadata": {},
   "outputs": [],
   "source": [
    "test_load_all = DataLoader(test_data,batch_size=10000,shuffle = False)"
   ]
  },
  {
   "cell_type": "code",
   "execution_count": 104,
   "id": "57783fa9-4ae6-4dff-b842-d2cde75f426f",
   "metadata": {},
   "outputs": [],
   "source": [
    "with torch.no_grad():\n",
    "    correct = 0\n",
    "    for X_test,y_test in test_load_all:\n",
    "        y_val = model(X_test)\n",
    "        predicted = torch.max(y_val,1)[1]\n",
    "        correct += (predicted == y_test).sum()"
   ]
  },
  {
   "cell_type": "code",
   "execution_count": 105,
   "id": "e4c4f268-3e8d-4364-9d61-80771e490ade",
   "metadata": {},
   "outputs": [
    {
     "data": {
      "text/plain": [
       "0.9647"
      ]
     },
     "execution_count": 105,
     "metadata": {},
     "output_type": "execute_result"
    }
   ],
   "source": [
    "correct.item()/len(test_data)"
   ]
  },
  {
   "cell_type": "code",
   "execution_count": 109,
   "id": "ee5fa90a-2dde-490b-96ff-cfbd33d48399",
   "metadata": {},
   "outputs": [
    {
     "name": "stdout",
     "output_type": "stream",
     "text": [
      "[[0 1 2 3 4 5 6 7 8 9]]\n",
      "\n",
      "[[ 961    0    1    0    1    2    6    0    2    1]\n",
      " [   0 1114    0    0    0    0    3    5    0    2]\n",
      " [   5    1  999    0    1    0    0    5    4    0]\n",
      " [   2    2    9  984    0   17    0   10    8    1]\n",
      " [   0    0    1    0  936    1    2    2    0    9]\n",
      " [   1    2    0   14    0  847   10    0   13   10]\n",
      " [   3    0    2    0    8    2  924    0    3    0]\n",
      " [   1    2   11    3    8    0    0  996    7   10]\n",
      " [   7   14    9    8    8   14   13    3  929   19]\n",
      " [   0    0    0    1   20    9    0    7    8  957]]\n"
     ]
    }
   ],
   "source": [
    "print(np.arange(10).reshape(1,10))\n",
    "print()\n",
    "\n",
    "print(confusion_matrix(predicted.view(-1),y_test.view(-1)))"
   ]
  },
  {
   "cell_type": "code",
   "execution_count": 110,
   "id": "3a153a01-9c42-40e4-8da3-e86da42c5499",
   "metadata": {},
   "outputs": [
    {
     "data": {
      "text/plain": [
       "<matplotlib.image.AxesImage at 0x27b9f441250>"
      ]
     },
     "execution_count": 110,
     "metadata": {},
     "output_type": "execute_result"
    },
    {
     "data": {
      "image/png": "[encoded data removed]",
      "text/plain": [
       "<Figure size 640x480 with 1 Axes>"
      ]
     },
     "metadata": {},
     "output_type": "display_data"
    }
   ],
   "source": [
    "plt.imshow(test_data[2019][0].reshape(28,28))"
   ]
  },
  {
   "cell_type": "code",
   "execution_count": 111,
   "id": "74653d83-0f79-4433-b23f-e58ed1333874",
   "metadata": {},
   "outputs": [],
   "source": [
    "model.eval()\n",
    "with torch.no_grad():\n",
    "    new_prediction = model(test_data[2019][0].view(1,1,28,28))"
   ]
  },
  {
   "cell_type": "code",
   "execution_count": 112,
   "id": "5d148777-16ce-441f-863d-40a9c71bc3f6",
   "metadata": {},
   "outputs": [
    {
     "data": {
      "text/plain": [
       "tensor([[-1.2212e+01, -1.1371e+01, -1.6774e+01, -8.0830e+00, -6.4227e+00,\n",
       "         -1.0399e+01, -7.2296e+01, -8.2698e+00, -5.5682e+00, -6.0722e-03]])"
      ]
     },
     "execution_count": 112,
     "metadata": {},
     "output_type": "execute_result"
    }
   ],
   "source": [
    "new_prediction"
   ]
  },
  {
   "cell_type": "code",
   "execution_count": 114,
   "id": "b8d2baed-269c-4b9b-b897-ce3d04c1a4c7",
   "metadata": {},
   "outputs": [
    {
     "data": {
      "text/plain": [
       "tensor(9)"
      ]
     },
     "execution_count": 114,
     "metadata": {},
     "output_type": "execute_result"
    }
   ],
   "source": [
    "new_prediction.argmax()"
   ]
  },
  {
   "cell_type": "code",
   "execution_count": 116,
   "id": "e256c709-946d-40bc-b1b3-f5cbc647e521",
   "metadata": {},
   "outputs": [],
   "source": [
    "#######################################################################################################\n",
    "############################################## CIFAR 10 ###############################################"
   ]
  },
  {
   "cell_type": "code",
   "execution_count": 122,
   "id": "ea1301e9-d529-4514-94d7-68aac3cb66d0",
   "metadata": {},
   "outputs": [],
   "source": [
    "import torch\n",
    "import torch.nn as nn\n",
    "import torch.nn.functional as f\n",
    "from torch.utils.data import DataLoader\n",
    "from torchvision import datasets, transforms\n",
    "from torchvision.utils import make_grid\n",
    "\n",
    "import numpy as np\n",
    "import pandas as pd\n",
    "import seaborn as sns\n",
    "from sklearn.metrics import confusion_matrix\n",
    "import matplotlib.pyplot as plt\n",
    "%matplotlib inline"
   ]
  },
  {
   "cell_type": "code",
   "execution_count": 124,
   "id": "5237fd2e-cadc-4897-9f74-c652ca6f8a57",
   "metadata": {},
   "outputs": [],
   "source": [
    "transfor = transforms.ToTensor()"
   ]
  },
  {
   "cell_type": "code",
   "execution_count": 125,
   "id": "c84fdebf-6285-4b41-8a4c-1b1d1d5d42a6",
   "metadata": {},
   "outputs": [
    {
     "name": "stdout",
     "output_type": "stream",
     "text": [
      "Downloading https://www.cs.toronto.edu/~kriz/cifar-10-python.tar.gz to C/Users/HP/Desktop\\cifar-10-python.tar.gz\n"
     ]
    },
    {
     "name": "stderr",
     "output_type": "stream",
     "text": [
      "100%|██████████| 170498071/170498071 [00:32<00:00, 5264394.63it/s] \n"
     ]
    },
    {
     "name": "stdout",
     "output_type": "stream",
     "text": [
      "Extracting C/Users/HP/Desktop\\cifar-10-python.tar.gz to C/Users/HP/Desktop\n"
     ]
    }
   ],
   "source": [
    "train_data = datasets.CIFAR10(root = 'C/Users/HP/Desktop',train = True, download = True, transform = transform)"
   ]
  },
  {
   "cell_type": "code",
   "execution_count": 126,
   "id": "b513960e-2cde-47b9-aa32-3b629574bf24",
   "metadata": {},
   "outputs": [
    {
     "name": "stdout",
     "output_type": "stream",
     "text": [
      "Files already downloaded and verified\n"
     ]
    }
   ],
   "source": [
    "test_data = datasets.CIFAR10(root = 'C/Users/HP/Desktop',train = False,download = True, transform = transforms)"
   ]
  },
  {
   "cell_type": "code",
   "execution_count": 127,
   "id": "9431d2b2-56ca-49e7-b152-07851f043fd6",
   "metadata": {},
   "outputs": [
    {
     "data": {
      "text/plain": [
       "Dataset CIFAR10\n",
       "    Number of datapoints: 50000\n",
       "    Root location: C/Users/HP/Desktop\n",
       "    Split: Train\n",
       "    StandardTransform\n",
       "Transform: ToTensor()"
      ]
     },
     "execution_count": 127,
     "metadata": {},
     "output_type": "execute_result"
    }
   ],
   "source": [
    "train_data"
   ]
  },
  {
   "cell_type": "code",
   "execution_count": 128,
   "id": "007e037a-e4d2-42d7-ab16-36f6d7b5e2da",
   "metadata": {},
   "outputs": [
    {
     "data": {
      "text/plain": [
       "Dataset CIFAR10\n",
       "    Number of datapoints: 10000\n",
       "    Root location: C/Users/HP/Desktop\n",
       "    Split: Test\n",
       "    StandardTransform\n",
       "Transform: <module 'torchvision.transforms' from 'C:\\\\Users\\\\Hp\\\\anaconda3\\\\Lib\\\\site-packages\\\\torchvision\\\\transforms\\\\__init__.py'>"
      ]
     },
     "execution_count": 128,
     "metadata": {},
     "output_type": "execute_result"
    }
   ],
   "source": [
    "test_data"
   ]
  },
  {
   "cell_type": "code",
   "execution_count": 154,
   "id": "6edd8d6c-df66-444a-88fe-b4a47a5a39d2",
   "metadata": {},
   "outputs": [],
   "source": [
    "torch.manual_seed(42)\n",
    "train_loader = DataLoader(train_data, batch_size = 10, shuffle = True)\n",
    "test_loader = DataLoader(test_data, batch_size = 10, shuffle = False)"
   ]
  },
  {
   "cell_type": "code",
   "execution_count": 156,
   "id": "6be791eb-c7ca-4ab2-bc74-99dc4805a2e5",
   "metadata": {},
   "outputs": [
    {
     "data": {
      "text/plain": [
       "torch.utils.data.dataloader.DataLoader"
      ]
     },
     "execution_count": 156,
     "metadata": {},
     "output_type": "execute_result"
    }
   ],
   "source": [
    "type(test_loader)"
   ]
  },
  {
   "cell_type": "code",
   "execution_count": 140,
   "id": "454b0bd9-a57c-43c5-a3b2-fd473d255aed",
   "metadata": {},
   "outputs": [],
   "source": [
    "class_names = ['plane','car','bird','cat','deer','frog','horse','boat','truck']"
   ]
  },
  {
   "cell_type": "code",
   "execution_count": 141,
   "id": "2e9c9d3c-4a23-4d48-bad7-2371e1752bce",
   "metadata": {},
   "outputs": [],
   "source": [
    "for images, labels in train_loader:\n",
    "    break"
   ]
  },
  {
   "cell_type": "code",
   "execution_count": 134,
   "id": "2f8f4a28-4a50-4d57-9ced-77c57688d884",
   "metadata": {},
   "outputs": [
    {
     "data": {
      "text/plain": [
       "tensor([6, 0, 4, 1, 2, 7, 9, 4, 7, 8])"
      ]
     },
     "execution_count": 134,
     "metadata": {},
     "output_type": "execute_result"
    }
   ],
   "source": [
    "labels"
   ]
  },
  {
   "cell_type": "code",
   "execution_count": 136,
   "id": "d7c77767-7ca8-4f5d-a63f-bf642c59f2ba",
   "metadata": {},
   "outputs": [],
   "source": [
    "im = make_grid(images,nrow = 5)"
   ]
  },
  {
   "cell_type": "code",
   "execution_count": 139,
   "id": "76c9b068-1231-4969-a4e9-c4116b0dc3b1",
   "metadata": {},
   "outputs": [
    {
     "name": "stdout",
     "output_type": "stream",
     "text": [
      "[6 0 4 1 2 7 9 4 7 8]\n"
     ]
    },
    {
     "data": {
      "text/plain": [
       "<matplotlib.image.AxesImage at 0x27ba38d5c50>"
      ]
     },
     "execution_count": 139,
     "metadata": {},
     "output_type": "execute_result"
    },
    {
     "data": {
      "image/png": "[encoded data removed]",
      "text/plain": [
       "<Figure size 1000x400 with 1 Axes>"
      ]
     },
     "metadata": {},
     "output_type": "display_data"
    }
   ],
   "source": [
    "print(labels.numpy())\n",
    "plt.figure(figsize=(10,4))\n",
    "plt.imshow(np.transpose(im.numpy(),(1,2,0)))"
   ]
  },
  {
   "cell_type": "code",
   "execution_count": 145,
   "id": "75b2c9b5-b835-495a-9745-50e7315469db",
   "metadata": {},
   "outputs": [],
   "source": [
    "class CNN(nn.Module):\n",
    "    def __init__(self):\n",
    "        super().__init__()\n",
    "        self.conv1 = nn.Conv2d(3,6,5,1)\n",
    "        self.conv2 = nn.Conv2d(6,16,3,1)\n",
    "        self.fc1 = nn.Linear(6*6*16,120)\n",
    "        self.fc2 = nn.Linear(120,84)\n",
    "        self.fc3 = nn.Linear(84,10)\n",
    "\n",
    "    def forward(self,X):\n",
    "        X = f.relu(self.conv1(X))\n",
    "        X = f.max_pool2d(X,2,2)\n",
    "        X = f.relu(self.conv2(X))\n",
    "        X = f.max_pool2d(X,2,2)\n",
    "        X = X.view(-1,6*6*16)\n",
    "        X = f.relu(self.fc1(X))\n",
    "        X = f.relu(self.fc2(X))\n",
    "        X = self.fc3(X)\n",
    "        return f.log_softmax(X,dim = 1)\n",
    "        "
   ]
  },
  {
   "cell_type": "code",
   "execution_count": 146,
   "id": "847b7f8e-be32-4189-a54c-234e87f5c1d0",
   "metadata": {},
   "outputs": [
    {
     "data": {
      "text/plain": [
       "CNN(\n",
       "  (conv1): Conv2d(3, 6, kernel_size=(5, 5), stride=(1, 1))\n",
       "  (conv2): Conv2d(6, 16, kernel_size=(3, 3), stride=(1, 1))\n",
       "  (fc1): Linear(in_features=576, out_features=120, bias=True)\n",
       "  (fc2): Linear(in_features=120, out_features=84, bias=True)\n",
       "  (fc3): Linear(in_features=84, out_features=10, bias=True)\n",
       ")"
      ]
     },
     "execution_count": 146,
     "metadata": {},
     "output_type": "execute_result"
    }
   ],
   "source": [
    "torch.manual_seed(42)\n",
    "\n",
    "model = CNN()\n",
    "model"
   ]
  },
  {
   "cell_type": "code",
   "execution_count": 147,
   "id": "63375814-1577-4b87-8563-5109d2ef14cf",
   "metadata": {},
   "outputs": [
    {
     "name": "stdout",
     "output_type": "stream",
     "text": [
      "450\n",
      "6\n",
      "864\n",
      "16\n",
      "69120\n",
      "120\n",
      "10080\n",
      "84\n",
      "840\n",
      "10\n"
     ]
    }
   ],
   "source": [
    "for param in model.parameters():\n",
    "    print(param.numel())"
   ]
  },
  {
   "cell_type": "code",
   "execution_count": 148,
   "id": "c06c4956-ccba-4862-ad67-eb520a3e75ae",
   "metadata": {},
   "outputs": [],
   "source": [
    "criterion = nn.CrossEntropyLoss()\n",
    "optimizer = torch.optim.Adam(model.parameters(),lr = 0.001)"
   ]
  },
  {
   "cell_type": "code",
   "execution_count": 157,
   "id": "a5a85ef7-a1d3-4f67-a649-205b3d304d40",
   "metadata": {},
   "outputs": [
    {
     "name": "stdout",
     "output_type": "stream",
     "text": [
      "epoch: 0, batch: 600, loss: 0.6560162305831909, accuracy: 56.733333333333334%\n",
      "epoch: 0, batch: 1200, loss: 0.9473303556442261, accuracy: 56.891666666666666%\n",
      "epoch: 0, batch: 1800, loss: 0.9063202142715454, accuracy: 57.105555555555554%\n",
      "epoch: 0, batch: 2400, loss: 0.9677666425704956, accuracy: 57.65416666666667%\n",
      "epoch: 0, batch: 3000, loss: 0.5979726314544678, accuracy: 57.8%\n",
      "epoch: 0, batch: 3600, loss: 1.111924409866333, accuracy: 58.025%\n",
      "epoch: 0, batch: 4200, loss: 1.0154008865356445, accuracy: 58.00476190476191%\n",
      "epoch: 0, batch: 4800, loss: 1.0467967987060547, accuracy: 58.202083333333334%\n",
      "epoch: 1, batch: 600, loss: 1.4803037643432617, accuracy: 61.833333333333336%\n",
      "epoch: 1, batch: 1200, loss: 0.8386931419372559, accuracy: 61.725%\n",
      "epoch: 1, batch: 1800, loss: 0.9617608785629272, accuracy: 61.477777777777774%\n",
      "epoch: 1, batch: 2400, loss: 1.4519643783569336, accuracy: 61.175%\n",
      "epoch: 1, batch: 3000, loss: 1.1664149761199951, accuracy: 61.04333333333334%\n",
      "epoch: 1, batch: 3600, loss: 0.9140325784683228, accuracy: 60.94166666666667%\n",
      "epoch: 1, batch: 4200, loss: 0.965814471244812, accuracy: 61.03333333333333%\n",
      "epoch: 1, batch: 4800, loss: 1.819164514541626, accuracy: 61.06458333333333%\n",
      "epoch: 2, batch: 600, loss: 1.852749228477478, accuracy: 64.93333333333334%\n",
      "epoch: 2, batch: 1200, loss: 0.6888049840927124, accuracy: 64.46666666666667%\n",
      "epoch: 2, batch: 1800, loss: 0.9224798083305359, accuracy: 63.91111111111111%\n",
      "epoch: 2, batch: 2400, loss: 0.8293009996414185, accuracy: 63.45%\n",
      "epoch: 2, batch: 3000, loss: 0.9256719350814819, accuracy: 63.18%\n",
      "epoch: 2, batch: 3600, loss: 1.2029902935028076, accuracy: 63.15833333333333%\n",
      "epoch: 2, batch: 4200, loss: 1.2939406633377075, accuracy: 63.21190476190476%\n",
      "epoch: 2, batch: 4800, loss: 1.133803129196167, accuracy: 63.2625%\n",
      "epoch: 3, batch: 600, loss: 1.7253904342651367, accuracy: 64.96666666666667%\n",
      "epoch: 3, batch: 1200, loss: 0.6087562441825867, accuracy: 64.83333333333333%\n",
      "epoch: 3, batch: 1800, loss: 1.7690099477767944, accuracy: 65.32777777777778%\n",
      "epoch: 3, batch: 2400, loss: 0.6519197225570679, accuracy: 65.32916666666667%\n",
      "epoch: 3, batch: 3000, loss: 0.804875373840332, accuracy: 65.25666666666666%\n",
      "epoch: 3, batch: 3600, loss: 0.8080719709396362, accuracy: 65.14166666666667%\n",
      "epoch: 3, batch: 4200, loss: 0.7830126881599426, accuracy: 65.05%\n",
      "epoch: 3, batch: 4800, loss: 0.9819856882095337, accuracy: 64.79166666666667%\n",
      "epoch: 4, batch: 600, loss: 1.0916632413864136, accuracy: 67.6%\n",
      "epoch: 4, batch: 1200, loss: 0.9210463762283325, accuracy: 67.34166666666667%\n",
      "epoch: 4, batch: 1800, loss: 0.397734671831131, accuracy: 67.04444444444445%\n",
      "epoch: 4, batch: 2400, loss: 1.6723601818084717, accuracy: 66.75%\n",
      "epoch: 4, batch: 3000, loss: 1.4048082828521729, accuracy: 66.87333333333333%\n",
      "epoch: 4, batch: 3600, loss: 0.7985775470733643, accuracy: 66.7611111111111%\n",
      "epoch: 4, batch: 4200, loss: 0.8504064679145813, accuracy: 66.6952380952381%\n",
      "epoch: 4, batch: 4800, loss: 1.418330192565918, accuracy: 66.63541666666667%\n"
     ]
    }
   ],
   "source": [
    "epochs = 5\n",
    "train_loss = []\n",
    "test_loss = []\n",
    "train_correct = []\n",
    "test_correct = []\n",
    "\n",
    "for i in range(epochs):\n",
    "    trn_corr = 0\n",
    "    tst_corr = 0\n",
    "    for b, (X_train,y_train) in enumerate(train_loader):\n",
    "        b+=1\n",
    "        y_pred = model(X_train)\n",
    "        loss = criterion(y_pred,y_train)\n",
    "        predicted = torch.max(y_pred.data,1)[1]\n",
    "        batch_corr = (predicted == y_train).sum()\n",
    "        trn_corr+=batch_corr\n",
    "        \n",
    "        optimizer.zero_grad()\n",
    "        loss.backward()\n",
    "        optimizer.step()\n",
    "\n",
    "        if b%600 == 0:\n",
    "            print(f\"epoch: {i}, batch: {b}, loss: {loss.item()}, accuracy: {trn_corr.item()*100/(10*b) }%\")\n",
    "            \n",
    "    train_loss.append(loss)\n",
    "    train_correct.append(trn_corr)\n",
    "\n",
    "    with torch.no_grad():\n",
    "        for b, (X_test,y_test) in enumerate(train_loader):\n",
    "            y_val = model(X_test)\n",
    "            predicted = torch.max(y_val.data,1)[1]\n",
    "            tst_corr += (predicted == y_test).sum()\n",
    "\n",
    "    loss = criterion(y_val,y_test)\n",
    "    test_loss.append(loss)\n",
    "    test_correct.append(tst_corr)\n",
    "        \n",
    "        \n",
    "        "
   ]
  },
  {
   "cell_type": "code",
   "execution_count": 158,
   "id": "ba133aae-1108-4cd6-b902-36fed05f2770",
   "metadata": {},
   "outputs": [],
   "source": [
    "loss_train = []\n",
    "loss_test = []\n",
    "for i in train_loss:\n",
    "    loss_train.append(i.detach().numpy())\n",
    "for i in test_loss:\n",
    "    loss_test.append(i.detach().numpy())\n"
   ]
  },
  {
   "cell_type": "code",
   "execution_count": 159,
   "id": "f906b9e7-10cb-4219-a9b7-050b811e3e20",
   "metadata": {},
   "outputs": [
    {
     "data": {
      "text/plain": [
       "<matplotlib.legend.Legend at 0x27ba1989dd0>"
      ]
     },
     "execution_count": 159,
     "metadata": {},
     "output_type": "execute_result"
    },
    {
     "data": {
      "image/png": "[encoded data removed]",
      "text/plain": [
       "<Figure size 640x480 with 1 Axes>"
      ]
     },
     "metadata": {},
     "output_type": "display_data"
    }
   ],
   "source": [
    "plt.plot(loss_train,label = 'train_loss')\n",
    "plt.plot(loss_test,label = 'validation_loss')\n",
    "plt.legend()"
   ]
  },
  {
   "cell_type": "code",
   "execution_count": null,
   "id": "db091397-c04f-44d4-8f16-e3c6e2894923",
   "metadata": {},
   "outputs": [],
   "source": []
  }
 ],
 "metadata": {
  "kernelspec": {
   "display_name": "Python 3 (ipykernel)",
   "language": "python",
   "name": "python3"
  },
  "language_info": {
   "codemirror_mode": {
    "name": "ipython",
    "version": 3
   },
   "file_extension": ".py",
   "mimetype": "text/x-python",
   "name": "python",
   "nbconvert_exporter": "python",
   "pygments_lexer": "ipython3",
   "version": "3.11.7"
  }
 },
 "nbformat": 4,
 "nbformat_minor": 5
}
