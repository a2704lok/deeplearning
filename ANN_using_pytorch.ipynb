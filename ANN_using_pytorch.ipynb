{
 "cells": [
  {
   "cell_type": "code",
   "execution_count": 1,
   "id": "d8308d3c-8ffe-42a2-bc3f-15f44d5c84dd",
   "metadata": {},
   "outputs": [],
   "source": [
    "import torch\n",
    "import numpy as np\n",
    "import matplotlib.pyplot as plt\n",
    "%matplotlib inline"
   ]
  },
  {
   "cell_type": "code",
   "execution_count": 121,
   "id": "dd77bec3-c08a-4918-9ed4-27e89db7fc47",
   "metadata": {},
   "outputs": [],
   "source": [
    "x1 = torch.tensor(2.0, requires_grad = True)\n",
    "# x1 = torch.tensor(2)"
   ]
  },
  {
   "cell_type": "code",
   "execution_count": 122,
   "id": "800b6812-e4c2-41c7-9f69-212e91cb6954",
   "metadata": {},
   "outputs": [],
   "source": [
    "y1 = 2*x1**4+x1**3+3*x1**2+5*x1+1"
   ]
  },
  {
   "cell_type": "code",
   "execution_count": 123,
   "id": "1c540c1a-7c86-4021-9b16-6d03ee74e92e",
   "metadata": {},
   "outputs": [
    {
     "name": "stdout",
     "output_type": "stream",
     "text": [
      "tensor(63., grad_fn=<AddBackward0>)\n"
     ]
    }
   ],
   "source": [
    "print(y1)"
   ]
  },
  {
   "cell_type": "code",
   "execution_count": 124,
   "id": "3790f4a2-537e-4840-9a52-eea14b710c9e",
   "metadata": {},
   "outputs": [
    {
     "data": {
      "text/plain": [
       "torch.Tensor"
      ]
     },
     "execution_count": 124,
     "metadata": {},
     "output_type": "execute_result"
    }
   ],
   "source": [
    "type(y1)"
   ]
  },
  {
   "cell_type": "code",
   "execution_count": 125,
   "id": "e114ef2f-3373-41ec-a023-8858f55d363a",
   "metadata": {},
   "outputs": [],
   "source": [
    "y1.backward()"
   ]
  },
  {
   "cell_type": "code",
   "execution_count": 126,
   "id": "48761223-3c9d-430a-b60b-021e512621a3",
   "metadata": {},
   "outputs": [
    {
     "data": {
      "text/plain": [
       "tensor(2., requires_grad=True)"
      ]
     },
     "execution_count": 126,
     "metadata": {},
     "output_type": "execute_result"
    }
   ],
   "source": [
    "x1"
   ]
  },
  {
   "cell_type": "code",
   "execution_count": 127,
   "id": "ca593f96-d992-419c-bbd8-4095783eb41b",
   "metadata": {},
   "outputs": [
    {
     "data": {
      "text/plain": [
       "tensor(93.)"
      ]
     },
     "execution_count": 127,
     "metadata": {},
     "output_type": "execute_result"
    }
   ],
   "source": [
    "x1.grad  # this is the slope of equation when x = 2"
   ]
  },
  {
   "cell_type": "code",
   "execution_count": 128,
   "id": "c69478f4-fb28-4ee5-98fd-4b7fc7550cf7",
   "metadata": {},
   "outputs": [],
   "source": [
    "x2 = torch.tensor([[1.,2.,3.],[3.,2.,1.]], requires_grad = True)"
   ]
  },
  {
   "cell_type": "code",
   "execution_count": 129,
   "id": "6c98e7e2-9589-4bbf-92d6-c3c2e3958d65",
   "metadata": {},
   "outputs": [
    {
     "data": {
      "text/plain": [
       "tensor([[1., 2., 3.],\n",
       "        [3., 2., 1.]], requires_grad=True)"
      ]
     },
     "execution_count": 129,
     "metadata": {},
     "output_type": "execute_result"
    }
   ],
   "source": [
    "x2"
   ]
  },
  {
   "cell_type": "code",
   "execution_count": 130,
   "id": "80ecac45-8470-41e8-97da-a6e936f4405b",
   "metadata": {},
   "outputs": [
    {
     "name": "stdout",
     "output_type": "stream",
     "text": [
      "tensor([[ 5.,  8., 11.],\n",
      "        [11.,  8.,  5.]], grad_fn=<AddBackward0>)\n"
     ]
    }
   ],
   "source": [
    "y2 = 3*x2+2\n",
    "print(y2)"
   ]
  },
  {
   "cell_type": "code",
   "execution_count": 131,
   "id": "8b52143b-f3eb-4df1-97a7-a02307935cbc",
   "metadata": {},
   "outputs": [],
   "source": [
    "z2 = 2*y2**2"
   ]
  },
  {
   "cell_type": "code",
   "execution_count": 132,
   "id": "aa0b3503-e236-4db8-b29e-f43dc64c28c8",
   "metadata": {},
   "outputs": [
    {
     "name": "stdout",
     "output_type": "stream",
     "text": [
      "tensor([[ 50., 128., 242.],\n",
      "        [242., 128.,  50.]], grad_fn=<MulBackward0>)\n"
     ]
    }
   ],
   "source": [
    "print(z2)"
   ]
  },
  {
   "cell_type": "code",
   "execution_count": 133,
   "id": "fb7024a6-c687-4b9e-8394-4d30d6f82204",
   "metadata": {},
   "outputs": [],
   "source": [
    "out = z2.mean()"
   ]
  },
  {
   "cell_type": "code",
   "execution_count": 42,
   "id": "de1d88b6-af18-4d0c-a2a0-03a96d79e6ca",
   "metadata": {},
   "outputs": [],
   "source": [
    "out.backward()"
   ]
  },
  {
   "cell_type": "code",
   "execution_count": 134,
   "id": "4eaeebf2-2d24-4e98-bd97-19a8b9571a7c",
   "metadata": {},
   "outputs": [
    {
     "name": "stdout",
     "output_type": "stream",
     "text": [
      "None\n"
     ]
    }
   ],
   "source": [
    "print(x2.grad)"
   ]
  },
  {
   "cell_type": "code",
   "execution_count": 135,
   "id": "96e555bd-2369-45e9-a19c-f378f455ddfa",
   "metadata": {},
   "outputs": [],
   "source": [
    "import torch.nn as nn "
   ]
  },
  {
   "cell_type": "code",
   "execution_count": 136,
   "id": "990ca594-3e82-4039-abd9-171867e33dcb",
   "metadata": {},
   "outputs": [],
   "source": [
    "x = torch.linspace(1,50,50).reshape(-1,1)"
   ]
  },
  {
   "cell_type": "code",
   "execution_count": 137,
   "id": "2d6b33f8-6972-434b-9aa3-5725764eec34",
   "metadata": {
    "scrolled": true
   },
   "outputs": [
    {
     "data": {
      "text/plain": [
       "tensor([[ 1.],\n",
       "        [ 2.],\n",
       "        [ 3.],\n",
       "        [ 4.],\n",
       "        [ 5.],\n",
       "        [ 6.],\n",
       "        [ 7.],\n",
       "        [ 8.],\n",
       "        [ 9.],\n",
       "        [10.],\n",
       "        [11.],\n",
       "        [12.],\n",
       "        [13.],\n",
       "        [14.],\n",
       "        [15.],\n",
       "        [16.],\n",
       "        [17.],\n",
       "        [18.],\n",
       "        [19.],\n",
       "        [20.],\n",
       "        [21.],\n",
       "        [22.],\n",
       "        [23.],\n",
       "        [24.],\n",
       "        [25.],\n",
       "        [26.],\n",
       "        [27.],\n",
       "        [28.],\n",
       "        [29.],\n",
       "        [30.],\n",
       "        [31.],\n",
       "        [32.],\n",
       "        [33.],\n",
       "        [34.],\n",
       "        [35.],\n",
       "        [36.],\n",
       "        [37.],\n",
       "        [38.],\n",
       "        [39.],\n",
       "        [40.],\n",
       "        [41.],\n",
       "        [42.],\n",
       "        [43.],\n",
       "        [44.],\n",
       "        [45.],\n",
       "        [46.],\n",
       "        [47.],\n",
       "        [48.],\n",
       "        [49.],\n",
       "        [50.]])"
      ]
     },
     "execution_count": 137,
     "metadata": {},
     "output_type": "execute_result"
    }
   ],
   "source": [
    "x"
   ]
  },
  {
   "cell_type": "code",
   "execution_count": 138,
   "id": "5a85012f-6bdd-4789-968e-53f085b1b44c",
   "metadata": {},
   "outputs": [
    {
     "data": {
      "text/plain": [
       "<torch._C.Generator at 0x265b008ea50>"
      ]
     },
     "execution_count": 138,
     "metadata": {},
     "output_type": "execute_result"
    }
   ],
   "source": [
    "torch.manual_seed(30)"
   ]
  },
  {
   "cell_type": "code",
   "execution_count": 139,
   "id": "16e6d0a9-03ce-44d6-bb68-adcda13cc87f",
   "metadata": {},
   "outputs": [],
   "source": [
    "e = torch.randint(1,9,(5,3),dtype = torch.float)  # randints between 1 and 9 in 5*3 matrix  "
   ]
  },
  {
   "cell_type": "code",
   "execution_count": 140,
   "id": "02f56631-c89e-4c9a-a871-9078a9c2749c",
   "metadata": {},
   "outputs": [
    {
     "name": "stdout",
     "output_type": "stream",
     "text": [
      "tensor([[6., 6., 6.],\n",
      "        [6., 5., 5.],\n",
      "        [8., 3., 6.],\n",
      "        [4., 2., 7.],\n",
      "        [4., 2., 8.]])\n"
     ]
    }
   ],
   "source": [
    "print(e)"
   ]
  },
  {
   "cell_type": "code",
   "execution_count": 141,
   "id": "b842c4fe-2517-4462-8925-b47b84c045b0",
   "metadata": {},
   "outputs": [
    {
     "name": "stdout",
     "output_type": "stream",
     "text": [
      "torch.Size([50, 1])\n"
     ]
    }
   ],
   "source": [
    "y = 2*x+1\n",
    "print(y.shape)"
   ]
  },
  {
   "cell_type": "code",
   "execution_count": 142,
   "id": "e8906380-05ea-44d9-a5bd-803af7fe63a5",
   "metadata": {},
   "outputs": [
    {
     "data": {
      "text/plain": [
       "<matplotlib.collections.PathCollection at 0x265bd7d4750>"
      ]
     },
     "execution_count": 142,
     "metadata": {},
     "output_type": "execute_result"
    },
    {
     "data": {
      "image/png": "[encoded data removed]",
      "text/plain": [
       "<Figure size 640x480 with 1 Axes>"
      ]
     },
     "metadata": {},
     "output_type": "display_data"
    }
   ],
   "source": [
    "plt.scatter(x,y) #no noise added"
   ]
  },
  {
   "cell_type": "code",
   "execution_count": 143,
   "id": "c81b9059-aa3a-4c93-8105-08c58189ab8a",
   "metadata": {},
   "outputs": [
    {
     "data": {
      "text/plain": [
       "<matplotlib.collections.PathCollection at 0x265beaaef50>"
      ]
     },
     "execution_count": 143,
     "metadata": {},
     "output_type": "execute_result"
    },
    {
     "data": {
      "image/png": "[encoded data removed]",
      "text/plain": [
       "<Figure size 640x480 with 1 Axes>"
      ]
     },
     "metadata": {},
     "output_type": "display_data"
    }
   ],
   "source": [
    "n = torch.randint(-8,9,(50,1),dtype = torch.float)\n",
    "y = 2*x+1+n\n",
    "plt.scatter(x,y)"
   ]
  },
  {
   "cell_type": "code",
   "execution_count": 144,
   "id": "716d873e-58e7-49bc-8ec0-90722c279baf",
   "metadata": {},
   "outputs": [
    {
     "name": "stdout",
     "output_type": "stream",
     "text": [
      "Parameter containing:\n",
      "tensor([[0.2360]], requires_grad=True)\n",
      "Parameter containing:\n",
      "tensor([-0.8626], requires_grad=True)\n"
     ]
    }
   ],
   "source": [
    "torch.manual_seed(50)\n",
    "model = nn.Linear(in_features=1, out_features=1)  # its simple linear model with one inut and one output and weight and bias is randomly initialaized \n",
    "print(model.weight)\n",
    "print(model.bias)"
   ]
  },
  {
   "cell_type": "code",
   "execution_count": 160,
   "id": "0a8566d8-687b-46b2-b030-e31e07ebdf17",
   "metadata": {},
   "outputs": [],
   "source": [
    "class Model(nn.Module):\n",
    "    def __init__(self, in_features, out_features):\n",
    "        super().__init__()\n",
    "        self.linear = nn.Linear(in_features,out_features)\n",
    "    \n",
    "    def forward(self, x):\n",
    "        y_pred = self.linear(x) # dim of in_feature and x will be same\n",
    "        return y_pred"
   ]
  },
  {
   "cell_type": "code",
   "execution_count": 161,
   "id": "8eae3cb8-e6c4-4f28-9984-23123ba12a39",
   "metadata": {},
   "outputs": [
    {
     "name": "stdout",
     "output_type": "stream",
     "text": [
      "Parameter containing:\n",
      "tensor([[0.2360]], requires_grad=True)\n",
      "Parameter containing:\n",
      "tensor([-0.8626], requires_grad=True)\n"
     ]
    }
   ],
   "source": [
    "torch.manual_seed(50)\n",
    "model = Model(1,1)\n",
    "print(model.linear.weight)\n",
    "print(model.linear.bias)"
   ]
  },
  {
   "cell_type": "code",
   "execution_count": 162,
   "id": "d673cb61-9b79-4556-99a0-3976728f01a7",
   "metadata": {},
   "outputs": [
    {
     "name": "stdout",
     "output_type": "stream",
     "text": [
      "linear.weight 0.23604393005371094\n",
      "linear.bias -0.8626136779785156\n"
     ]
    }
   ],
   "source": [
    "for name, param in model.named_parameters():\n",
    "    print(name,param.item())"
   ]
  },
  {
   "cell_type": "code",
   "execution_count": 163,
   "id": "dfd22830-e781-4862-98d1-4d07d5940991",
   "metadata": {},
   "outputs": [
    {
     "data": {
      "text/plain": [
       "tensor([-0.3905], grad_fn=<ViewBackward0>)"
      ]
     },
     "execution_count": 163,
     "metadata": {},
     "output_type": "execute_result"
    }
   ],
   "source": [
    "x3 = torch.tensor([2.0])\n",
    "model.forward(x3)"
   ]
  },
  {
   "cell_type": "code",
   "execution_count": 164,
   "id": "508f772d-6837-41e4-b8b4-bae4e0600e69",
   "metadata": {},
   "outputs": [],
   "source": [
    "x4 = np.linspace(1,50,50)"
   ]
  },
  {
   "cell_type": "code",
   "execution_count": 165,
   "id": "8d6e2f14-25ef-4191-bbd0-0cde1215a97b",
   "metadata": {},
   "outputs": [
    {
     "data": {
      "text/plain": [
       "array([ 1.,  2.,  3.,  4.,  5.,  6.,  7.,  8.,  9., 10., 11., 12., 13.,\n",
       "       14., 15., 16., 17., 18., 19., 20., 21., 22., 23., 24., 25., 26.,\n",
       "       27., 28., 29., 30., 31., 32., 33., 34., 35., 36., 37., 38., 39.,\n",
       "       40., 41., 42., 43., 44., 45., 46., 47., 48., 49., 50.])"
      ]
     },
     "execution_count": 165,
     "metadata": {},
     "output_type": "execute_result"
    }
   ],
   "source": [
    "x4"
   ]
  },
  {
   "cell_type": "code",
   "execution_count": 166,
   "id": "1c22406f-2ea7-4468-8196-c600fe5d60c7",
   "metadata": {},
   "outputs": [],
   "source": [
    "w4 = 0.23604393005371094\n",
    "b4 = -0.8626136779785156\n",
    "y4 = w4*x4+b4"
   ]
  },
  {
   "cell_type": "code",
   "execution_count": 167,
   "id": "44ab0cd7-4eb7-499b-87d6-9c2e595a2f38",
   "metadata": {},
   "outputs": [
    {
     "data": {
      "text/plain": [
       "[<matplotlib.lines.Line2D at 0x265bd7a0c10>]"
      ]
     },
     "execution_count": 167,
     "metadata": {},
     "output_type": "execute_result"
    },
    {
     "data": {
      "image/png": "[encoded data removed]",
      "text/plain": [
       "<Figure size 640x480 with 1 Axes>"
      ]
     },
     "metadata": {},
     "output_type": "display_data"
    }
   ],
   "source": [
    "plt.scatter(x,y)\n",
    "plt.plot(x4,y4,'r')"
   ]
  },
  {
   "cell_type": "code",
   "execution_count": 168,
   "id": "c1f6d3a7-dd95-4abc-9fd1-5e8ade17e806",
   "metadata": {},
   "outputs": [],
   "source": [
    "criterion = nn.MSELoss()\n",
    "optimizer = torch.optim.SGD(model.parameters(),lr = 0.001)"
   ]
  },
  {
   "cell_type": "code",
   "execution_count": 169,
   "id": "4a20acf9-03cb-4a2f-aea6-d899be1b5a98",
   "metadata": {
    "scrolled": true
   },
   "outputs": [
    {
     "name": "stdout",
     "output_type": "stream",
     "text": [
      "epoch 0 loss 2776.731201171875 weight 0.23604393005371094 bias -0.8626136779785156\n",
      "epoch 1 loss 1444.6246337890625 weight 3.311149835586548 bias -0.7700067162513733\n",
      "epoch 2 loss 756.9051513671875 weight 1.1015756130218506 bias -0.8344153165817261\n",
      "epoch 3 loss 401.8591003417969 weight 2.6891255378723145 bias -0.7860068678855896\n",
      "epoch 4 loss 218.56076049804688 weight 1.548383116722107 bias -0.8186602592468262\n",
      "epoch 5 loss 123.92955780029297 weight 2.3679609298706055 bias -0.7930704951286316\n",
      "epoch 6 loss 75.07418823242188 weight 1.7790184020996094 bias -0.8093303442001343\n",
      "epoch 7 loss 49.851112365722656 weight 2.202119827270508 bias -0.79552161693573\n",
      "epoch 8 loss 36.82856750488281 weight 1.8980517387390137 bias -0.8033186793327332\n",
      "epoch 9 loss 30.104782104492188 weight 2.1164662837982178 bias -0.7955926656723022\n",
      "epoch 10 loss 26.632762908935547 weight 1.959468960762024 bias -0.7990212440490723\n",
      "epoch 11 loss 24.839563369750977 weight 2.0722107887268066 bias -0.7944360971450806\n",
      "epoch 12 loss 23.91305160522461 weight 1.9911410808563232 bias -0.7956099510192871\n",
      "epoch 13 loss 23.433992385864258 weight 2.049327850341797 bias -0.7926469445228577\n",
      "epoch 14 loss 23.185937881469727 weight 2.0074570178985596 bias -0.7926573753356934\n",
      "epoch 15 loss 23.057138442993164 weight 2.0374786853790283 bias -0.7905323505401611\n",
      "epoch 16 loss 22.989917755126953 weight 2.0158450603485107 bias -0.7899426817893982\n",
      "epoch 17 loss 22.954477310180664 weight 2.0313260555267334 bias -0.7882509231567383\n",
      "epoch 18 loss 22.93545913696289 weight 2.0201401710510254 bias -0.7873520255088806\n",
      "epoch 19 loss 22.924901962280273 weight 2.0281145572662354 bias -0.785884439945221\n",
      "epoch 20 loss 22.918720245361328 weight 2.022321939468384 bias -0.7848265171051025\n",
      "epoch 21 loss 22.914804458618164 weight 2.026421308517456 bias -0.7834752798080444\n",
      "epoch 22 loss 22.91205406188965 weight 2.0234131813049316 bias -0.7823358178138733\n",
      "epoch 23 loss 22.909902572631836 weight 2.0255117416381836 bias -0.7810451984405518\n",
      "epoch 24 loss 22.908063888549805 weight 2.0239412784576416 bias -0.7798641920089722\n",
      "epoch 25 loss 22.906391143798828 weight 2.0250072479248047 bias -0.7786054611206055\n",
      "epoch 26 loss 22.904800415039062 weight 2.0241785049438477 bias -0.7774035930633545\n",
      "epoch 27 loss 22.90325164794922 weight 2.0247116088867188 bias -0.7761619091033936\n",
      "epoch 28 loss 22.9017276763916 weight 2.024266004562378 bias -0.7749499082565308\n",
      "epoch 29 loss 22.900218963623047 weight 2.0245237350463867 bias -0.7737175822257996\n",
      "epoch 30 loss 22.898714065551758 weight 2.0242760181427 bias -0.7725008726119995\n",
      "epoch 31 loss 22.8972225189209 weight 2.0243916511535645 bias -0.7712739706039429\n",
      "epoch 32 loss 22.895723342895508 weight 2.0242459774017334 bias -0.7700554132461548\n",
      "epoch 33 loss 22.894227981567383 weight 2.0242884159088135 bias -0.7688318490982056\n",
      "epoch 34 loss 22.89273452758789 weight 2.024195432662964 bias -0.767612874507904\n",
      "epoch 35 loss 22.891250610351562 weight 2.024200201034546 bias -0.7663916349411011\n",
      "epoch 36 loss 22.889759063720703 weight 2.024134397506714 bias -0.765173077583313\n",
      "epoch 37 loss 22.888273239135742 weight 2.0241196155548096 bias -0.7639535665512085\n",
      "epoch 38 loss 22.88678741455078 weight 2.0240678787231445 bias -0.7627357840538025\n",
      "epoch 39 loss 22.885303497314453 weight 2.024042844772339 bias -0.7615177631378174\n",
      "epoch 40 loss 22.883825302124023 weight 2.023998737335205 bias -0.7603009343147278\n",
      "epoch 41 loss 22.882341384887695 weight 2.02396821975708 bias -0.7590842843055725\n",
      "epoch 42 loss 22.8808650970459 weight 2.023928165435791 bias -0.7578684687614441\n",
      "epoch 43 loss 22.879384994506836 weight 2.023894786834717 bias -0.7566530704498291\n",
      "epoch 44 loss 22.877906799316406 weight 2.0238566398620605 bias -0.7554383873939514\n",
      "epoch 45 loss 22.87643051147461 weight 2.02382230758667 bias -0.7542241811752319\n",
      "epoch 46 loss 22.874954223632812 weight 2.023784875869751 bias -0.7530106902122498\n",
      "epoch 47 loss 22.873483657836914 weight 2.023749828338623 bias -0.7517976760864258\n",
      "epoch 48 loss 22.87201499938965 weight 2.0237131118774414 bias -0.7505853176116943\n",
      "epoch 49 loss 22.87055206298828 weight 2.0236775875091553 bias -0.7493734955787659\n"
     ]
    }
   ],
   "source": [
    "epochs = 50\n",
    "losses = []\n",
    "for i in range(epochs):\n",
    "    y_pred = model.forward(x)\n",
    "    loss = criterion(y_pred,y)\n",
    "    losses.append(loss.item())\n",
    "    print(f\"epoch {i} loss {loss.item()} weight {model.linear.weight.item()} bias {model.linear.bias.item()}\")\n",
    "    optimizer.zero_grad()\n",
    "    loss.backward()\n",
    "    optimizer.step()"
   ]
  },
  {
   "cell_type": "code",
   "execution_count": null,
   "id": "ce5bf9be-3ee8-4fd1-a0b2-56c60e4685cb",
   "metadata": {},
   "outputs": [],
   "source": []
  },
  {
   "cell_type": "code",
   "execution_count": 170,
   "id": "aef2d690-a8a3-48b6-ac0e-6a5c128b6158",
   "metadata": {},
   "outputs": [
    {
     "data": {
      "text/plain": [
       "Text(0.5, 0, 'EPOCHS')"
      ]
     },
     "execution_count": 170,
     "metadata": {},
     "output_type": "execute_result"
    },
    {
     "data": {
      "image/png": "[encoded data removed]",
      "text/plain": [
       "<Figure size 640x480 with 1 Axes>"
      ]
     },
     "metadata": {},
     "output_type": "display_data"
    }
   ],
   "source": [
    "plt.plot(range(epochs),losses)\n",
    "plt.ylabel(\"MSE LOSS\")\n",
    "plt.xlabel(\"EPOCHS\")"
   ]
  },
  {
   "cell_type": "code",
   "execution_count": 171,
   "id": "ba78a601-b1d4-4254-93df-bdaeffe2a1dd",
   "metadata": {},
   "outputs": [],
   "source": [
    "x5 = np.linspace(0.0,50.0,50)\n",
    "weight = model.linear.weight.item()\n",
    "bias = model.linear.bias.item()\n",
    "predicted_y = weight*x5+bias"
   ]
  },
  {
   "cell_type": "code",
   "execution_count": 174,
   "id": "1981ff8d-25b6-42f9-a829-748b44fcd87b",
   "metadata": {},
   "outputs": [
    {
     "name": "stdout",
     "output_type": "stream",
     "text": [
      "[ 0.          1.02040816  2.04081633  3.06122449  4.08163265  5.10204082\n",
      "  6.12244898  7.14285714  8.16326531  9.18367347 10.20408163 11.2244898\n",
      " 12.24489796 13.26530612 14.28571429 15.30612245 16.32653061 17.34693878\n",
      " 18.36734694 19.3877551  20.40816327 21.42857143 22.44897959 23.46938776\n",
      " 24.48979592 25.51020408 26.53061224 27.55102041 28.57142857 29.59183673\n",
      " 30.6122449  31.63265306 32.65306122 33.67346939 34.69387755 35.71428571\n",
      " 36.73469388 37.75510204 38.7755102  39.79591837 40.81632653 41.83673469\n",
      " 42.85714286 43.87755102 44.89795918 45.91836735 46.93877551 47.95918367\n",
      " 48.97959184 50.        ]\n",
      "[ -0.74816233   1.31677782   3.38171797   5.44665812   7.51159827\n",
      "   9.57653843  11.64147858  13.70641873  15.77135888  17.83629903\n",
      "  19.90123918  21.96617933  24.03111948  26.09605963  28.16099978\n",
      "  30.22593993  32.29088009  34.35582024  36.42076039  38.48570054\n",
      "  40.55064069  42.61558084  44.68052099  46.74546114  48.81040129\n",
      "  50.87534144  52.94028159  55.00522175  57.0701619   59.13510205\n",
      "  61.2000422   63.26498235  65.3299225   67.39486265  69.4598028\n",
      "  71.52474295  73.5896831   75.65462325  77.71956341  79.78450356\n",
      "  81.84944371  83.91438386  85.97932401  88.04426416  90.10920431\n",
      "  92.17414446  94.23908461  96.30402476  98.36896491 100.43390507]\n"
     ]
    }
   ],
   "source": [
    "print(x5)\n",
    "print(predicted_y)"
   ]
  },
  {
   "cell_type": "code",
   "execution_count": 176,
   "id": "30665d6b-e014-4cd6-84ef-41267e6722c2",
   "metadata": {},
   "outputs": [
    {
     "data": {
      "text/plain": [
       "[<matplotlib.lines.Line2D at 0x265c04d4610>]"
      ]
     },
     "execution_count": 176,
     "metadata": {},
     "output_type": "execute_result"
    },
    {
     "data": {
      "image/png": "[encoded data removed]",
      "text/plain": [
       "<Figure size 640x480 with 1 Axes>"
      ]
     },
     "metadata": {},
     "output_type": "display_data"
    }
   ],
   "source": [
    "plt.scatter(x,y)\n",
    "plt.plot(x5,predicted_y,'r')"
   ]
  },
  {
   "cell_type": "code",
   "execution_count": 177,
   "id": "740178a2-c1a1-4b30-8220-927c4173b75d",
   "metadata": {},
   "outputs": [],
   "source": [
    "###################################################################################"
   ]
  },
  {
   "cell_type": "code",
   "execution_count": 136,
   "id": "2fd7bca6-1729-4cca-986c-8a0a9dd3e765",
   "metadata": {},
   "outputs": [],
   "source": [
    "import pandas as pd\n",
    "df = pd.read_csv(\"C:/Users/Hp/Downloads/Iris.csv\")"
   ]
  },
  {
   "cell_type": "code",
   "execution_count": 137,
   "id": "4ab69615-db6f-4b3d-a021-8701e26dd92e",
   "metadata": {},
   "outputs": [
    {
     "data": {
      "text/html": [
       "<div>\n",
       "<style scoped>\n",
       "    .dataframe tbody tr th:only-of-type {\n",
       "        vertical-align: middle;\n",
       "    }\n",
       "\n",
       "    .dataframe tbody tr th {\n",
       "        vertical-align: top;\n",
       "    }\n",
       "\n",
       "    .dataframe thead th {\n",
       "        text-align: right;\n",
       "    }\n",
       "</style>\n",
       "<table border=\"1\" class=\"dataframe\">\n",
       "  <thead>\n",
       "    <tr style=\"text-align: right;\">\n",
       "      <th></th>\n",
       "      <th>Id</th>\n",
       "      <th>SepalLengthCm</th>\n",
       "      <th>SepalWidthCm</th>\n",
       "      <th>PetalLengthCm</th>\n",
       "      <th>PetalWidthCm</th>\n",
       "      <th>Species</th>\n",
       "    </tr>\n",
       "  </thead>\n",
       "  <tbody>\n",
       "    <tr>\n",
       "      <th>0</th>\n",
       "      <td>1</td>\n",
       "      <td>5.1</td>\n",
       "      <td>3.5</td>\n",
       "      <td>1.4</td>\n",
       "      <td>0.2</td>\n",
       "      <td>Iris-setosa</td>\n",
       "    </tr>\n",
       "    <tr>\n",
       "      <th>1</th>\n",
       "      <td>2</td>\n",
       "      <td>4.9</td>\n",
       "      <td>3.0</td>\n",
       "      <td>1.4</td>\n",
       "      <td>0.2</td>\n",
       "      <td>Iris-setosa</td>\n",
       "    </tr>\n",
       "    <tr>\n",
       "      <th>2</th>\n",
       "      <td>3</td>\n",
       "      <td>4.7</td>\n",
       "      <td>3.2</td>\n",
       "      <td>1.3</td>\n",
       "      <td>0.2</td>\n",
       "      <td>Iris-setosa</td>\n",
       "    </tr>\n",
       "    <tr>\n",
       "      <th>3</th>\n",
       "      <td>4</td>\n",
       "      <td>4.6</td>\n",
       "      <td>3.1</td>\n",
       "      <td>1.5</td>\n",
       "      <td>0.2</td>\n",
       "      <td>Iris-setosa</td>\n",
       "    </tr>\n",
       "    <tr>\n",
       "      <th>4</th>\n",
       "      <td>5</td>\n",
       "      <td>5.0</td>\n",
       "      <td>3.6</td>\n",
       "      <td>1.4</td>\n",
       "      <td>0.2</td>\n",
       "      <td>Iris-setosa</td>\n",
       "    </tr>\n",
       "  </tbody>\n",
       "</table>\n",
       "</div>"
      ],
      "text/plain": [
       "   Id  SepalLengthCm  SepalWidthCm  PetalLengthCm  PetalWidthCm      Species\n",
       "0   1            5.1           3.5            1.4           0.2  Iris-setosa\n",
       "1   2            4.9           3.0            1.4           0.2  Iris-setosa\n",
       "2   3            4.7           3.2            1.3           0.2  Iris-setosa\n",
       "3   4            4.6           3.1            1.5           0.2  Iris-setosa\n",
       "4   5            5.0           3.6            1.4           0.2  Iris-setosa"
      ]
     },
     "execution_count": 137,
     "metadata": {},
     "output_type": "execute_result"
    }
   ],
   "source": [
    "df.head()"
   ]
  },
  {
   "cell_type": "code",
   "execution_count": 138,
   "id": "a1b88425-66b8-468f-8ccb-bc3954be3505",
   "metadata": {},
   "outputs": [
    {
     "data": {
      "text/plain": [
       "array(['Iris-setosa', 'Iris-versicolor', 'Iris-virginica'], dtype=object)"
      ]
     },
     "execution_count": 138,
     "metadata": {},
     "output_type": "execute_result"
    }
   ],
   "source": [
    "df.Species.unique()"
   ]
  },
  {
   "cell_type": "code",
   "execution_count": 139,
   "id": "6fdb1c12-ac71-4d37-9225-d1c188480fe3",
   "metadata": {},
   "outputs": [],
   "source": [
    "df.loc[df['Species'] == 'Iris-setosa', 'Species'] = 0\n",
    "df.loc[df['Species'] == 'Iris-versicolor', 'Species'] = 1\n",
    "df.loc[df['Species'] == 'Iris-virginica', 'Species'] = 2"
   ]
  },
  {
   "cell_type": "code",
   "execution_count": 140,
   "id": "9c9fc3bb-9b8a-4558-b86b-3b6a856bf758",
   "metadata": {},
   "outputs": [],
   "source": [
    "from sklearn.model_selection import train_test_split"
   ]
  },
  {
   "cell_type": "code",
   "execution_count": 141,
   "id": "aae13097-6007-4e90-ab6c-6b73e10c22d9",
   "metadata": {},
   "outputs": [],
   "source": [
    "features = df[[\"SepalLengthCm\",\"SepalWidthCm\",\"PetalLengthCm\",\"PetalWidthCm\"]].values  ## .vaues converts dataframe into array\n",
    "label = df[['Species']].values"
   ]
  },
  {
   "cell_type": "code",
   "execution_count": 142,
   "id": "d22df589-09f5-4e2b-b5b0-1301c68a199f",
   "metadata": {},
   "outputs": [],
   "source": [
    "X_train,X_test,y_train,y_test = train_test_split(features, label, test_size = 0.2, random_state = 33)"
   ]
  },
  {
   "cell_type": "code",
   "execution_count": 143,
   "id": "8c8325bc-3a63-499a-9904-0cb1cffeb97e",
   "metadata": {},
   "outputs": [
    {
     "data": {
      "text/plain": [
       "array([[5.6, 2.7, 4.2, 1.3],\n",
       "       [6.7, 3.1, 4.7, 1.5],\n",
       "       [5.6, 2.8, 4.9, 2. ],\n",
       "       [6.4, 3.2, 5.3, 2.3],\n",
       "       [6.7, 3.1, 5.6, 2.4],\n",
       "       [6.7, 3. , 5.2, 2.3],\n",
       "       [5.8, 2.7, 5.1, 1.9],\n",
       "       [5.7, 3. , 4.2, 1.2],\n",
       "       [5. , 2.3, 3.3, 1. ],\n",
       "       [4.9, 3.1, 1.5, 0.1],\n",
       "       [6.3, 2.3, 4.4, 1.3],\n",
       "       [5.8, 2.6, 4. , 1.2],\n",
       "       [6.2, 2.9, 4.3, 1.3],\n",
       "       [4.7, 3.2, 1.3, 0.2],\n",
       "       [4.6, 3.4, 1.4, 0.3],\n",
       "       [5.1, 2.5, 3. , 1.1],\n",
       "       [4.8, 3.4, 1.6, 0.2],\n",
       "       [7.9, 3.8, 6.4, 2. ],\n",
       "       [5.1, 3.4, 1.5, 0.2],\n",
       "       [5.1, 3.7, 1.5, 0.4],\n",
       "       [5.6, 2.9, 3.6, 1.3],\n",
       "       [6.5, 3. , 5.5, 1.8],\n",
       "       [5.4, 3.9, 1.7, 0.4],\n",
       "       [7. , 3.2, 4.7, 1.4],\n",
       "       [5.8, 2.8, 5.1, 2.4],\n",
       "       [7.7, 2.6, 6.9, 2.3],\n",
       "       [5.5, 2.5, 4. , 1.3],\n",
       "       [5.9, 3.2, 4.8, 1.8],\n",
       "       [4.9, 3.1, 1.5, 0.1],\n",
       "       [4.5, 2.3, 1.3, 0.3],\n",
       "       [6.3, 2.8, 5.1, 1.5],\n",
       "       [4.4, 2.9, 1.4, 0.2],\n",
       "       [5. , 3.6, 1.4, 0.2],\n",
       "       [7.2, 3. , 5.8, 1.6],\n",
       "       [6. , 3.4, 4.5, 1.6],\n",
       "       [6.2, 2.2, 4.5, 1.5],\n",
       "       [7.4, 2.8, 6.1, 1.9],\n",
       "       [6.8, 3. , 5.5, 2.1],\n",
       "       [6.4, 2.8, 5.6, 2.2],\n",
       "       [5.7, 2.5, 5. , 2. ],\n",
       "       [5. , 3.5, 1.6, 0.6],\n",
       "       [5.1, 3.8, 1.5, 0.3],\n",
       "       [6.8, 2.8, 4.8, 1.4],\n",
       "       [5.2, 2.7, 3.9, 1.4],\n",
       "       [5.1, 3.8, 1.6, 0.2],\n",
       "       [5.6, 2.5, 3.9, 1.1],\n",
       "       [6.1, 3. , 4.9, 1.8],\n",
       "       [6.6, 2.9, 4.6, 1.3],\n",
       "       [6.4, 2.8, 5.6, 2.1],\n",
       "       [4.3, 3. , 1.1, 0.1],\n",
       "       [7.2, 3.6, 6.1, 2.5],\n",
       "       [5.1, 3.5, 1.4, 0.2],\n",
       "       [6.3, 2.5, 4.9, 1.5],\n",
       "       [4.4, 3.2, 1.3, 0.2],\n",
       "       [7.6, 3. , 6.6, 2.1],\n",
       "       [6.4, 3.2, 4.5, 1.5],\n",
       "       [5.1, 3.8, 1.9, 0.4],\n",
       "       [6.5, 3.2, 5.1, 2. ],\n",
       "       [6.3, 2.7, 4.9, 1.8],\n",
       "       [5. , 3.5, 1.3, 0.3],\n",
       "       [5.2, 3.4, 1.4, 0.2],\n",
       "       [6.4, 2.7, 5.3, 1.9],\n",
       "       [5.8, 4. , 1.2, 0.2],\n",
       "       [5.7, 4.4, 1.5, 0.4],\n",
       "       [4.6, 3.2, 1.4, 0.2],\n",
       "       [6.9, 3.1, 5.4, 2.1],\n",
       "       [6.3, 2.9, 5.6, 1.8],\n",
       "       [5.5, 3.5, 1.3, 0.2],\n",
       "       [5.7, 2.6, 3.5, 1. ],\n",
       "       [5. , 3.3, 1.4, 0.2],\n",
       "       [6. , 2.2, 4. , 1. ],\n",
       "       [4.9, 3. , 1.4, 0.2],\n",
       "       [5. , 2. , 3.5, 1. ],\n",
       "       [6.6, 3. , 4.4, 1.4],\n",
       "       [5.7, 2.8, 4.5, 1.3],\n",
       "       [5.5, 2.6, 4.4, 1.2],\n",
       "       [5.5, 2.3, 4. , 1.3],\n",
       "       [4.8, 3.1, 1.6, 0.2],\n",
       "       [6. , 2.9, 4.5, 1.5],\n",
       "       [5. , 3. , 1.6, 0.2],\n",
       "       [6.9, 3.1, 4.9, 1.5],\n",
       "       [6.7, 2.5, 5.8, 1.8],\n",
       "       [5.3, 3.7, 1.5, 0.2],\n",
       "       [5.2, 4.1, 1.5, 0.1],\n",
       "       [5. , 3.4, 1.6, 0.4],\n",
       "       [4.6, 3.6, 1. , 0.2],\n",
       "       [7.7, 3.8, 6.7, 2.2],\n",
       "       [7.3, 2.9, 6.3, 1.8],\n",
       "       [4.6, 3.1, 1.5, 0.2],\n",
       "       [5.5, 2.4, 3.7, 1. ],\n",
       "       [5.8, 2.7, 3.9, 1.2],\n",
       "       [6.7, 3.3, 5.7, 2.1],\n",
       "       [5.8, 2.7, 4.1, 1. ],\n",
       "       [5.4, 3.7, 1.5, 0.2],\n",
       "       [5. , 3.4, 1.5, 0.2],\n",
       "       [6. , 2.7, 5.1, 1.6],\n",
       "       [5.7, 2.8, 4.1, 1.3],\n",
       "       [6.1, 2.8, 4.7, 1.2],\n",
       "       [5.1, 3.3, 1.7, 0.5],\n",
       "       [5.6, 3. , 4.1, 1.3],\n",
       "       [5.4, 3. , 4.5, 1.5],\n",
       "       [5.4, 3.9, 1.3, 0.4],\n",
       "       [6.7, 3.3, 5.7, 2.5],\n",
       "       [4.9, 2.5, 4.5, 1.7],\n",
       "       [6.2, 3.4, 5.4, 2.3],\n",
       "       [5.5, 2.4, 3.8, 1.1],\n",
       "       [7.7, 2.8, 6.7, 2. ],\n",
       "       [5.4, 3.4, 1.5, 0.4],\n",
       "       [6.7, 3. , 5. , 1.7],\n",
       "       [5.5, 4.2, 1.4, 0.2],\n",
       "       [5. , 3.2, 1.2, 0.2],\n",
       "       [4.8, 3. , 1.4, 0.3],\n",
       "       [5.8, 2.7, 5.1, 1.9],\n",
       "       [5.9, 3. , 4.2, 1.5],\n",
       "       [7.1, 3. , 5.9, 2.1],\n",
       "       [4.9, 2.4, 3.3, 1. ],\n",
       "       [6.3, 2.5, 5. , 1.9],\n",
       "       [5.6, 3. , 4.5, 1.5],\n",
       "       [7.7, 3. , 6.1, 2.3],\n",
       "       [5.4, 3.4, 1.7, 0.2]])"
      ]
     },
     "execution_count": 143,
     "metadata": {},
     "output_type": "execute_result"
    }
   ],
   "source": [
    "X_train"
   ]
  },
  {
   "cell_type": "code",
   "execution_count": 144,
   "id": "81b86781-c75f-4a2c-993d-de636368a131",
   "metadata": {},
   "outputs": [],
   "source": [
    "X_train = torch.FloatTensor(X_train)\n",
    "X_test = torch.FloatTensor(X_test)"
   ]
  },
  {
   "cell_type": "code",
   "execution_count": 118,
   "id": "ec675c48-4976-4696-bc94-87987e206d9d",
   "metadata": {},
   "outputs": [
    {
     "name": "stdout",
     "output_type": "stream",
     "text": [
      "torch.Size([120, 4])\n",
      "torch.Size([120, 1])\n",
      "torch.Size([30, 4])\n",
      "torch.Size([30, 1])\n"
     ]
    }
   ],
   "source": [
    "print(X_train.shape)\n",
    "print(y_train.shape)\n",
    "print(X_test.shape)\n",
    "print(y_test.shape)"
   ]
  },
  {
   "cell_type": "code",
   "execution_count": 90,
   "id": "ef7b613c-4c5b-4cd8-aa68-506db4ea83f1",
   "metadata": {},
   "outputs": [
    {
     "name": "stdout",
     "output_type": "stream",
     "text": [
      "tensor([[5.6000, 2.7000, 4.2000, 1.3000],\n",
      "        [6.7000, 3.1000, 4.7000, 1.5000],\n",
      "        [5.6000, 2.8000, 4.9000, 2.0000],\n",
      "        [6.4000, 3.2000, 5.3000, 2.3000],\n",
      "        [6.7000, 3.1000, 5.6000, 2.4000],\n",
      "        [6.7000, 3.0000, 5.2000, 2.3000],\n",
      "        [5.8000, 2.7000, 5.1000, 1.9000],\n",
      "        [5.7000, 3.0000, 4.2000, 1.2000],\n",
      "        [5.0000, 2.3000, 3.3000, 1.0000],\n",
      "        [4.9000, 3.1000, 1.5000, 0.1000],\n",
      "        [6.3000, 2.3000, 4.4000, 1.3000],\n",
      "        [5.8000, 2.6000, 4.0000, 1.2000],\n",
      "        [6.2000, 2.9000, 4.3000, 1.3000],\n",
      "        [4.7000, 3.2000, 1.3000, 0.2000],\n",
      "        [4.6000, 3.4000, 1.4000, 0.3000],\n",
      "        [5.1000, 2.5000, 3.0000, 1.1000],\n",
      "        [4.8000, 3.4000, 1.6000, 0.2000],\n",
      "        [7.9000, 3.8000, 6.4000, 2.0000],\n",
      "        [5.1000, 3.4000, 1.5000, 0.2000],\n",
      "        [5.1000, 3.7000, 1.5000, 0.4000],\n",
      "        [5.6000, 2.9000, 3.6000, 1.3000],\n",
      "        [6.5000, 3.0000, 5.5000, 1.8000],\n",
      "        [5.4000, 3.9000, 1.7000, 0.4000],\n",
      "        [7.0000, 3.2000, 4.7000, 1.4000],\n",
      "        [5.8000, 2.8000, 5.1000, 2.4000],\n",
      "        [7.7000, 2.6000, 6.9000, 2.3000],\n",
      "        [5.5000, 2.5000, 4.0000, 1.3000],\n",
      "        [5.9000, 3.2000, 4.8000, 1.8000],\n",
      "        [4.9000, 3.1000, 1.5000, 0.1000],\n",
      "        [4.5000, 2.3000, 1.3000, 0.3000],\n",
      "        [6.3000, 2.8000, 5.1000, 1.5000],\n",
      "        [4.4000, 2.9000, 1.4000, 0.2000],\n",
      "        [5.0000, 3.6000, 1.4000, 0.2000],\n",
      "        [7.2000, 3.0000, 5.8000, 1.6000],\n",
      "        [6.0000, 3.4000, 4.5000, 1.6000],\n",
      "        [6.2000, 2.2000, 4.5000, 1.5000],\n",
      "        [7.4000, 2.8000, 6.1000, 1.9000],\n",
      "        [6.8000, 3.0000, 5.5000, 2.1000],\n",
      "        [6.4000, 2.8000, 5.6000, 2.2000],\n",
      "        [5.7000, 2.5000, 5.0000, 2.0000],\n",
      "        [5.0000, 3.5000, 1.6000, 0.6000],\n",
      "        [5.1000, 3.8000, 1.5000, 0.3000],\n",
      "        [6.8000, 2.8000, 4.8000, 1.4000],\n",
      "        [5.2000, 2.7000, 3.9000, 1.4000],\n",
      "        [5.1000, 3.8000, 1.6000, 0.2000],\n",
      "        [5.6000, 2.5000, 3.9000, 1.1000],\n",
      "        [6.1000, 3.0000, 4.9000, 1.8000],\n",
      "        [6.6000, 2.9000, 4.6000, 1.3000],\n",
      "        [6.4000, 2.8000, 5.6000, 2.1000],\n",
      "        [4.3000, 3.0000, 1.1000, 0.1000],\n",
      "        [7.2000, 3.6000, 6.1000, 2.5000],\n",
      "        [5.1000, 3.5000, 1.4000, 0.2000],\n",
      "        [6.3000, 2.5000, 4.9000, 1.5000],\n",
      "        [4.4000, 3.2000, 1.3000, 0.2000],\n",
      "        [7.6000, 3.0000, 6.6000, 2.1000],\n",
      "        [6.4000, 3.2000, 4.5000, 1.5000],\n",
      "        [5.1000, 3.8000, 1.9000, 0.4000],\n",
      "        [6.5000, 3.2000, 5.1000, 2.0000],\n",
      "        [6.3000, 2.7000, 4.9000, 1.8000],\n",
      "        [5.0000, 3.5000, 1.3000, 0.3000],\n",
      "        [5.2000, 3.4000, 1.4000, 0.2000],\n",
      "        [6.4000, 2.7000, 5.3000, 1.9000],\n",
      "        [5.8000, 4.0000, 1.2000, 0.2000],\n",
      "        [5.7000, 4.4000, 1.5000, 0.4000],\n",
      "        [4.6000, 3.2000, 1.4000, 0.2000],\n",
      "        [6.9000, 3.1000, 5.4000, 2.1000],\n",
      "        [6.3000, 2.9000, 5.6000, 1.8000],\n",
      "        [5.5000, 3.5000, 1.3000, 0.2000],\n",
      "        [5.7000, 2.6000, 3.5000, 1.0000],\n",
      "        [5.0000, 3.3000, 1.4000, 0.2000],\n",
      "        [6.0000, 2.2000, 4.0000, 1.0000],\n",
      "        [4.9000, 3.0000, 1.4000, 0.2000],\n",
      "        [5.0000, 2.0000, 3.5000, 1.0000],\n",
      "        [6.6000, 3.0000, 4.4000, 1.4000],\n",
      "        [5.7000, 2.8000, 4.5000, 1.3000],\n",
      "        [5.5000, 2.6000, 4.4000, 1.2000],\n",
      "        [5.5000, 2.3000, 4.0000, 1.3000],\n",
      "        [4.8000, 3.1000, 1.6000, 0.2000],\n",
      "        [6.0000, 2.9000, 4.5000, 1.5000],\n",
      "        [5.0000, 3.0000, 1.6000, 0.2000],\n",
      "        [6.9000, 3.1000, 4.9000, 1.5000],\n",
      "        [6.7000, 2.5000, 5.8000, 1.8000],\n",
      "        [5.3000, 3.7000, 1.5000, 0.2000],\n",
      "        [5.2000, 4.1000, 1.5000, 0.1000],\n",
      "        [5.0000, 3.4000, 1.6000, 0.4000],\n",
      "        [4.6000, 3.6000, 1.0000, 0.2000],\n",
      "        [7.7000, 3.8000, 6.7000, 2.2000],\n",
      "        [7.3000, 2.9000, 6.3000, 1.8000],\n",
      "        [4.6000, 3.1000, 1.5000, 0.2000],\n",
      "        [5.5000, 2.4000, 3.7000, 1.0000],\n",
      "        [5.8000, 2.7000, 3.9000, 1.2000],\n",
      "        [6.7000, 3.3000, 5.7000, 2.1000],\n",
      "        [5.8000, 2.7000, 4.1000, 1.0000],\n",
      "        [5.4000, 3.7000, 1.5000, 0.2000],\n",
      "        [5.0000, 3.4000, 1.5000, 0.2000],\n",
      "        [6.0000, 2.7000, 5.1000, 1.6000],\n",
      "        [5.7000, 2.8000, 4.1000, 1.3000],\n",
      "        [6.1000, 2.8000, 4.7000, 1.2000],\n",
      "        [5.1000, 3.3000, 1.7000, 0.5000],\n",
      "        [5.6000, 3.0000, 4.1000, 1.3000],\n",
      "        [5.4000, 3.0000, 4.5000, 1.5000],\n",
      "        [5.4000, 3.9000, 1.3000, 0.4000],\n",
      "        [6.7000, 3.3000, 5.7000, 2.5000],\n",
      "        [4.9000, 2.5000, 4.5000, 1.7000],\n",
      "        [6.2000, 3.4000, 5.4000, 2.3000],\n",
      "        [5.5000, 2.4000, 3.8000, 1.1000],\n",
      "        [7.7000, 2.8000, 6.7000, 2.0000],\n",
      "        [5.4000, 3.4000, 1.5000, 0.4000],\n",
      "        [6.7000, 3.0000, 5.0000, 1.7000],\n",
      "        [5.5000, 4.2000, 1.4000, 0.2000],\n",
      "        [5.0000, 3.2000, 1.2000, 0.2000],\n",
      "        [4.8000, 3.0000, 1.4000, 0.3000],\n",
      "        [5.8000, 2.7000, 5.1000, 1.9000],\n",
      "        [5.9000, 3.0000, 4.2000, 1.5000],\n",
      "        [7.1000, 3.0000, 5.9000, 2.1000],\n",
      "        [4.9000, 2.4000, 3.3000, 1.0000],\n",
      "        [6.3000, 2.5000, 5.0000, 1.9000],\n",
      "        [5.6000, 3.0000, 4.5000, 1.5000],\n",
      "        [7.7000, 3.0000, 6.1000, 2.3000],\n",
      "        [5.4000, 3.4000, 1.7000, 0.2000]])\n",
      "******************************************************\n",
      "tensor([[5.7000, 2.9000, 4.2000, 1.3000],\n",
      "        [6.7000, 3.1000, 4.4000, 1.4000],\n",
      "        [4.7000, 3.2000, 1.6000, 0.2000],\n",
      "        [6.5000, 2.8000, 4.6000, 1.5000],\n",
      "        [6.1000, 2.6000, 5.6000, 1.4000],\n",
      "        [6.3000, 3.3000, 6.0000, 2.5000],\n",
      "        [4.8000, 3.4000, 1.9000, 0.2000],\n",
      "        [5.1000, 3.5000, 1.4000, 0.3000],\n",
      "        [6.4000, 3.1000, 5.5000, 1.8000],\n",
      "        [6.9000, 3.2000, 5.7000, 2.3000],\n",
      "        [6.8000, 3.2000, 5.9000, 2.3000],\n",
      "        [4.4000, 3.0000, 1.3000, 0.2000],\n",
      "        [6.3000, 3.4000, 5.6000, 2.4000],\n",
      "        [6.1000, 2.9000, 4.7000, 1.4000],\n",
      "        [6.9000, 3.1000, 5.1000, 2.3000],\n",
      "        [6.4000, 2.9000, 4.3000, 1.3000],\n",
      "        [6.0000, 3.0000, 4.8000, 1.8000],\n",
      "        [5.2000, 3.5000, 1.5000, 0.2000],\n",
      "        [6.3000, 3.3000, 4.7000, 1.6000],\n",
      "        [7.2000, 3.2000, 6.0000, 1.8000],\n",
      "        [4.9000, 3.1000, 1.5000, 0.1000],\n",
      "        [5.7000, 3.8000, 1.7000, 0.3000],\n",
      "        [6.5000, 3.0000, 5.8000, 2.2000],\n",
      "        [4.8000, 3.0000, 1.4000, 0.1000],\n",
      "        [6.0000, 2.2000, 5.0000, 1.5000],\n",
      "        [6.2000, 2.8000, 4.8000, 1.8000],\n",
      "        [6.1000, 3.0000, 4.6000, 1.4000],\n",
      "        [6.1000, 2.8000, 4.0000, 1.3000],\n",
      "        [6.5000, 3.0000, 5.2000, 2.0000],\n",
      "        [5.9000, 3.0000, 5.1000, 1.8000]])\n"
     ]
    }
   ],
   "source": [
    "print(X_train)\n",
    "print(\"******************************************************\")\n",
    "print(X_test)"
   ]
  },
  {
   "cell_type": "code",
   "execution_count": 91,
   "id": "845492a0-ba2a-4a73-b223-cffd63fba626",
   "metadata": {},
   "outputs": [
    {
     "data": {
      "text/plain": [
       "array([[1],\n",
       "       [1],\n",
       "       [2],\n",
       "       [2],\n",
       "       [2],\n",
       "       [2],\n",
       "       [2],\n",
       "       [1],\n",
       "       [1],\n",
       "       [0],\n",
       "       [1],\n",
       "       [1],\n",
       "       [1],\n",
       "       [0],\n",
       "       [0],\n",
       "       [1],\n",
       "       [0],\n",
       "       [2],\n",
       "       [0],\n",
       "       [0],\n",
       "       [1],\n",
       "       [2],\n",
       "       [0],\n",
       "       [1],\n",
       "       [2],\n",
       "       [2],\n",
       "       [1],\n",
       "       [1],\n",
       "       [0],\n",
       "       [0],\n",
       "       [2],\n",
       "       [0],\n",
       "       [0],\n",
       "       [2],\n",
       "       [1],\n",
       "       [1],\n",
       "       [2],\n",
       "       [2],\n",
       "       [2],\n",
       "       [2],\n",
       "       [0],\n",
       "       [0],\n",
       "       [1],\n",
       "       [1],\n",
       "       [0],\n",
       "       [1],\n",
       "       [2],\n",
       "       [1],\n",
       "       [2],\n",
       "       [0],\n",
       "       [2],\n",
       "       [0],\n",
       "       [1],\n",
       "       [0],\n",
       "       [2],\n",
       "       [1],\n",
       "       [0],\n",
       "       [2],\n",
       "       [2],\n",
       "       [0],\n",
       "       [0],\n",
       "       [2],\n",
       "       [0],\n",
       "       [0],\n",
       "       [0],\n",
       "       [2],\n",
       "       [2],\n",
       "       [0],\n",
       "       [1],\n",
       "       [0],\n",
       "       [1],\n",
       "       [0],\n",
       "       [1],\n",
       "       [1],\n",
       "       [1],\n",
       "       [1],\n",
       "       [1],\n",
       "       [0],\n",
       "       [1],\n",
       "       [0],\n",
       "       [1],\n",
       "       [2],\n",
       "       [0],\n",
       "       [0],\n",
       "       [0],\n",
       "       [0],\n",
       "       [2],\n",
       "       [2],\n",
       "       [0],\n",
       "       [1],\n",
       "       [1],\n",
       "       [2],\n",
       "       [1],\n",
       "       [0],\n",
       "       [0],\n",
       "       [1],\n",
       "       [1],\n",
       "       [1],\n",
       "       [0],\n",
       "       [1],\n",
       "       [1],\n",
       "       [0],\n",
       "       [2],\n",
       "       [2],\n",
       "       [2],\n",
       "       [1],\n",
       "       [2],\n",
       "       [0],\n",
       "       [1],\n",
       "       [0],\n",
       "       [0],\n",
       "       [0],\n",
       "       [2],\n",
       "       [1],\n",
       "       [2],\n",
       "       [1],\n",
       "       [2],\n",
       "       [1],\n",
       "       [2],\n",
       "       [0]], dtype=object)"
      ]
     },
     "execution_count": 91,
     "metadata": {},
     "output_type": "execute_result"
    }
   ],
   "source": [
    "y_train"
   ]
  },
  {
   "cell_type": "code",
   "execution_count": 148,
   "id": "62b4980c-669b-4f76-9a35-3d5eb477ef7e",
   "metadata": {},
   "outputs": [],
   "source": [
    "y_train = np.array(y_train,dtype = np.int64)\n",
    "y_train = torch.LongTensor(y_train).reshape(-1,1)\n",
    "\n",
    "y_test = np.array(y_test,dtype = np.int64)\n",
    "y_test = torch.LongTensor(y_test).reshape(-1,1)"
   ]
  },
  {
   "cell_type": "code",
   "execution_count": null,
   "id": "3c13853e-1432-41c2-9f54-8b76f0da8d50",
   "metadata": {},
   "outputs": [],
   "source": []
  },
  {
   "cell_type": "code",
   "execution_count": 93,
   "id": "41d8d8c0-f773-42b7-aabe-634668885a7b",
   "metadata": {},
   "outputs": [],
   "source": [
    "from torch.utils.data import TensorDataset, DataLoader"
   ]
  },
  {
   "cell_type": "code",
   "execution_count": 94,
   "id": "c11e9f1a-fc8c-4af5-bef7-5f9ef92d3e9f",
   "metadata": {},
   "outputs": [],
   "source": [
    "data = df[[\"SepalLengthCm\",\"SepalWidthCm\",\"PetalLengthCm\",\"PetalWidthCm\"]].values\n",
    "labels = df[['Species']].values\n",
    "labels = np.array(labels,dtype = np.int64)\n",
    "iris = TensorDataset(torch.FloatTensor(data), torch.LongTensor(labels))"
   ]
  },
  {
   "cell_type": "code",
   "execution_count": 95,
   "id": "dd19f173-2e5a-49a8-bf7d-40bf537479a8",
   "metadata": {},
   "outputs": [
    {
     "data": {
      "text/plain": [
       "torch.utils.data.dataset.TensorDataset"
      ]
     },
     "execution_count": 95,
     "metadata": {},
     "output_type": "execute_result"
    }
   ],
   "source": [
    "type(iris)"
   ]
  },
  {
   "cell_type": "code",
   "execution_count": 96,
   "id": "b3359bb8-40cf-4cba-8cf9-b7bcc88c6ef5",
   "metadata": {},
   "outputs": [
    {
     "name": "stdout",
     "output_type": "stream",
     "text": [
      "0 [tensor([[7.2000, 3.6000, 6.1000, 2.5000],\n",
      "        [5.1000, 3.8000, 1.5000, 0.3000],\n",
      "        [5.8000, 2.7000, 4.1000, 1.0000],\n",
      "        [4.5000, 2.3000, 1.3000, 0.3000],\n",
      "        [5.2000, 3.4000, 1.4000, 0.2000],\n",
      "        [6.7000, 3.3000, 5.7000, 2.1000],\n",
      "        [6.0000, 3.0000, 4.8000, 1.8000],\n",
      "        [6.6000, 3.0000, 4.4000, 1.4000],\n",
      "        [5.4000, 3.7000, 1.5000, 0.2000],\n",
      "        [5.6000, 2.8000, 4.9000, 2.0000],\n",
      "        [4.9000, 2.5000, 4.5000, 1.7000],\n",
      "        [7.0000, 3.2000, 4.7000, 1.4000],\n",
      "        [6.3000, 3.3000, 6.0000, 2.5000],\n",
      "        [6.5000, 3.0000, 5.8000, 2.2000],\n",
      "        [5.2000, 2.7000, 3.9000, 1.4000],\n",
      "        [5.9000, 3.2000, 4.8000, 1.8000],\n",
      "        [5.2000, 4.1000, 1.5000, 0.1000],\n",
      "        [5.4000, 3.4000, 1.5000, 0.4000],\n",
      "        [5.5000, 2.4000, 3.8000, 1.1000],\n",
      "        [5.1000, 2.5000, 3.0000, 1.1000],\n",
      "        [6.1000, 3.0000, 4.9000, 1.8000],\n",
      "        [5.4000, 3.0000, 4.5000, 1.5000],\n",
      "        [5.1000, 3.5000, 1.4000, 0.3000],\n",
      "        [6.4000, 2.9000, 4.3000, 1.3000],\n",
      "        [4.9000, 2.4000, 3.3000, 1.0000],\n",
      "        [5.0000, 3.6000, 1.4000, 0.2000],\n",
      "        [5.6000, 3.0000, 4.5000, 1.5000],\n",
      "        [5.7000, 2.5000, 5.0000, 2.0000],\n",
      "        [7.7000, 2.6000, 6.9000, 2.3000],\n",
      "        [5.7000, 2.6000, 3.5000, 1.0000],\n",
      "        [5.8000, 2.6000, 4.0000, 1.2000],\n",
      "        [6.3000, 2.7000, 4.9000, 1.8000],\n",
      "        [5.7000, 2.8000, 4.1000, 1.3000],\n",
      "        [5.1000, 3.8000, 1.6000, 0.2000],\n",
      "        [4.9000, 3.0000, 1.4000, 0.2000],\n",
      "        [5.0000, 3.5000, 1.3000, 0.3000],\n",
      "        [5.5000, 2.4000, 3.7000, 1.0000],\n",
      "        [6.5000, 3.0000, 5.2000, 2.0000],\n",
      "        [5.0000, 3.3000, 1.4000, 0.2000],\n",
      "        [5.7000, 3.0000, 4.2000, 1.2000],\n",
      "        [5.0000, 3.0000, 1.6000, 0.2000],\n",
      "        [6.3000, 2.3000, 4.4000, 1.3000],\n",
      "        [7.6000, 3.0000, 6.6000, 2.1000],\n",
      "        [5.1000, 3.8000, 1.9000, 0.4000],\n",
      "        [7.1000, 3.0000, 5.9000, 2.1000],\n",
      "        [5.0000, 3.4000, 1.6000, 0.4000],\n",
      "        [5.5000, 4.2000, 1.4000, 0.2000],\n",
      "        [4.4000, 2.9000, 1.4000, 0.2000],\n",
      "        [5.8000, 4.0000, 1.2000, 0.2000],\n",
      "        [5.0000, 2.0000, 3.5000, 1.0000]]), tensor([[2],\n",
      "        [0],\n",
      "        [1],\n",
      "        [0],\n",
      "        [0],\n",
      "        [2],\n",
      "        [2],\n",
      "        [1],\n",
      "        [0],\n",
      "        [2],\n",
      "        [2],\n",
      "        [1],\n",
      "        [2],\n",
      "        [2],\n",
      "        [1],\n",
      "        [1],\n",
      "        [0],\n",
      "        [0],\n",
      "        [1],\n",
      "        [1],\n",
      "        [2],\n",
      "        [1],\n",
      "        [0],\n",
      "        [1],\n",
      "        [1],\n",
      "        [0],\n",
      "        [1],\n",
      "        [2],\n",
      "        [2],\n",
      "        [1],\n",
      "        [1],\n",
      "        [2],\n",
      "        [1],\n",
      "        [0],\n",
      "        [0],\n",
      "        [0],\n",
      "        [1],\n",
      "        [2],\n",
      "        [0],\n",
      "        [1],\n",
      "        [0],\n",
      "        [1],\n",
      "        [2],\n",
      "        [0],\n",
      "        [2],\n",
      "        [0],\n",
      "        [0],\n",
      "        [0],\n",
      "        [0],\n",
      "        [1]])]\n",
      "1 [tensor([[6.8000, 3.0000, 5.5000, 2.1000],\n",
      "        [5.0000, 3.4000, 1.5000, 0.2000],\n",
      "        [4.6000, 3.1000, 1.5000, 0.2000],\n",
      "        [4.8000, 3.0000, 1.4000, 0.1000],\n",
      "        [6.8000, 3.2000, 5.9000, 2.3000],\n",
      "        [6.7000, 2.5000, 5.8000, 1.8000],\n",
      "        [4.4000, 3.0000, 1.3000, 0.2000],\n",
      "        [6.3000, 3.4000, 5.6000, 2.4000],\n",
      "        [5.5000, 2.6000, 4.4000, 1.2000],\n",
      "        [6.5000, 2.8000, 4.6000, 1.5000],\n",
      "        [5.6000, 3.0000, 4.1000, 1.3000],\n",
      "        [5.6000, 2.5000, 3.9000, 1.1000],\n",
      "        [4.7000, 3.2000, 1.3000, 0.2000],\n",
      "        [6.0000, 2.9000, 4.5000, 1.5000],\n",
      "        [6.0000, 2.2000, 4.0000, 1.0000],\n",
      "        [6.5000, 3.2000, 5.1000, 2.0000],\n",
      "        [6.7000, 3.0000, 5.0000, 1.7000],\n",
      "        [7.2000, 3.2000, 6.0000, 1.8000],\n",
      "        [6.6000, 2.9000, 4.6000, 1.3000],\n",
      "        [4.4000, 3.2000, 1.3000, 0.2000],\n",
      "        [5.8000, 2.8000, 5.1000, 2.4000],\n",
      "        [4.9000, 3.1000, 1.5000, 0.1000],\n",
      "        [5.3000, 3.7000, 1.5000, 0.2000],\n",
      "        [6.9000, 3.1000, 5.1000, 2.3000],\n",
      "        [6.4000, 2.7000, 5.3000, 1.9000],\n",
      "        [4.8000, 3.4000, 1.9000, 0.2000],\n",
      "        [6.8000, 2.8000, 4.8000, 1.4000],\n",
      "        [5.1000, 3.7000, 1.5000, 0.4000],\n",
      "        [4.9000, 3.1000, 1.5000, 0.1000],\n",
      "        [5.6000, 2.9000, 3.6000, 1.3000],\n",
      "        [4.6000, 3.2000, 1.4000, 0.2000],\n",
      "        [6.1000, 2.8000, 4.0000, 1.3000],\n",
      "        [5.7000, 2.8000, 4.5000, 1.3000],\n",
      "        [5.5000, 3.5000, 1.3000, 0.2000],\n",
      "        [5.8000, 2.7000, 3.9000, 1.2000],\n",
      "        [7.7000, 3.8000, 6.7000, 2.2000],\n",
      "        [5.8000, 2.7000, 5.1000, 1.9000],\n",
      "        [6.1000, 2.6000, 5.6000, 1.4000],\n",
      "        [4.8000, 3.0000, 1.4000, 0.3000],\n",
      "        [5.8000, 2.7000, 5.1000, 1.9000],\n",
      "        [7.2000, 3.0000, 5.8000, 1.6000],\n",
      "        [6.9000, 3.2000, 5.7000, 2.3000],\n",
      "        [5.6000, 2.7000, 4.2000, 1.3000],\n",
      "        [6.2000, 2.2000, 4.5000, 1.5000],\n",
      "        [6.4000, 2.8000, 5.6000, 2.2000],\n",
      "        [5.2000, 3.5000, 1.5000, 0.2000],\n",
      "        [6.3000, 3.3000, 4.7000, 1.6000],\n",
      "        [6.9000, 3.1000, 4.9000, 1.5000],\n",
      "        [5.4000, 3.4000, 1.7000, 0.2000],\n",
      "        [4.8000, 3.1000, 1.6000, 0.2000]]), tensor([[2],\n",
      "        [0],\n",
      "        [0],\n",
      "        [0],\n",
      "        [2],\n",
      "        [2],\n",
      "        [0],\n",
      "        [2],\n",
      "        [1],\n",
      "        [1],\n",
      "        [1],\n",
      "        [1],\n",
      "        [0],\n",
      "        [1],\n",
      "        [1],\n",
      "        [2],\n",
      "        [1],\n",
      "        [2],\n",
      "        [1],\n",
      "        [0],\n",
      "        [2],\n",
      "        [0],\n",
      "        [0],\n",
      "        [2],\n",
      "        [2],\n",
      "        [0],\n",
      "        [1],\n",
      "        [0],\n",
      "        [0],\n",
      "        [1],\n",
      "        [0],\n",
      "        [1],\n",
      "        [1],\n",
      "        [0],\n",
      "        [1],\n",
      "        [2],\n",
      "        [2],\n",
      "        [2],\n",
      "        [0],\n",
      "        [2],\n",
      "        [2],\n",
      "        [2],\n",
      "        [1],\n",
      "        [1],\n",
      "        [2],\n",
      "        [0],\n",
      "        [1],\n",
      "        [1],\n",
      "        [0],\n",
      "        [0]])]\n",
      "2 [tensor([[7.3000, 2.9000, 6.3000, 1.8000],\n",
      "        [6.4000, 3.2000, 5.3000, 2.3000],\n",
      "        [5.0000, 3.5000, 1.6000, 0.6000],\n",
      "        [5.0000, 2.3000, 3.3000, 1.0000],\n",
      "        [6.1000, 2.8000, 4.7000, 1.2000],\n",
      "        [6.0000, 2.7000, 5.1000, 1.6000],\n",
      "        [6.0000, 2.2000, 5.0000, 1.5000],\n",
      "        [6.7000, 3.1000, 4.7000, 1.5000],\n",
      "        [5.9000, 3.0000, 4.2000, 1.5000],\n",
      "        [4.8000, 3.4000, 1.6000, 0.2000],\n",
      "        [6.4000, 2.8000, 5.6000, 2.1000],\n",
      "        [5.1000, 3.5000, 1.4000, 0.2000],\n",
      "        [5.1000, 3.4000, 1.5000, 0.2000],\n",
      "        [6.3000, 2.9000, 5.6000, 1.8000],\n",
      "        [5.0000, 3.2000, 1.2000, 0.2000],\n",
      "        [5.5000, 2.5000, 4.0000, 1.3000],\n",
      "        [5.1000, 3.3000, 1.7000, 0.5000],\n",
      "        [7.7000, 2.8000, 6.7000, 2.0000],\n",
      "        [5.9000, 3.0000, 5.1000, 1.8000],\n",
      "        [7.7000, 3.0000, 6.1000, 2.3000],\n",
      "        [6.0000, 3.4000, 4.5000, 1.6000],\n",
      "        [6.5000, 3.0000, 5.5000, 1.8000],\n",
      "        [5.5000, 2.3000, 4.0000, 1.3000],\n",
      "        [6.4000, 3.1000, 5.5000, 1.8000],\n",
      "        [6.7000, 3.3000, 5.7000, 2.5000],\n",
      "        [7.9000, 3.8000, 6.4000, 2.0000],\n",
      "        [6.2000, 2.9000, 4.3000, 1.3000],\n",
      "        [5.7000, 2.9000, 4.2000, 1.3000],\n",
      "        [6.1000, 3.0000, 4.6000, 1.4000],\n",
      "        [6.7000, 3.1000, 4.4000, 1.4000],\n",
      "        [4.9000, 3.1000, 1.5000, 0.1000],\n",
      "        [5.4000, 3.9000, 1.7000, 0.4000],\n",
      "        [6.7000, 3.1000, 5.6000, 2.4000],\n",
      "        [4.7000, 3.2000, 1.6000, 0.2000],\n",
      "        [5.7000, 3.8000, 1.7000, 0.3000],\n",
      "        [4.6000, 3.4000, 1.4000, 0.3000],\n",
      "        [5.7000, 4.4000, 1.5000, 0.4000],\n",
      "        [6.3000, 2.5000, 5.0000, 1.9000],\n",
      "        [6.2000, 2.8000, 4.8000, 1.8000],\n",
      "        [7.4000, 2.8000, 6.1000, 1.9000],\n",
      "        [4.3000, 3.0000, 1.1000, 0.1000],\n",
      "        [6.3000, 2.8000, 5.1000, 1.5000],\n",
      "        [6.9000, 3.1000, 5.4000, 2.1000],\n",
      "        [6.4000, 3.2000, 4.5000, 1.5000],\n",
      "        [4.6000, 3.6000, 1.0000, 0.2000],\n",
      "        [5.4000, 3.9000, 1.3000, 0.4000],\n",
      "        [6.2000, 3.4000, 5.4000, 2.3000],\n",
      "        [6.7000, 3.0000, 5.2000, 2.3000],\n",
      "        [6.3000, 2.5000, 4.9000, 1.5000],\n",
      "        [6.1000, 2.9000, 4.7000, 1.4000]]), tensor([[2],\n",
      "        [2],\n",
      "        [0],\n",
      "        [1],\n",
      "        [1],\n",
      "        [1],\n",
      "        [2],\n",
      "        [1],\n",
      "        [1],\n",
      "        [0],\n",
      "        [2],\n",
      "        [0],\n",
      "        [0],\n",
      "        [2],\n",
      "        [0],\n",
      "        [1],\n",
      "        [0],\n",
      "        [2],\n",
      "        [2],\n",
      "        [2],\n",
      "        [1],\n",
      "        [2],\n",
      "        [1],\n",
      "        [2],\n",
      "        [2],\n",
      "        [2],\n",
      "        [1],\n",
      "        [1],\n",
      "        [1],\n",
      "        [1],\n",
      "        [0],\n",
      "        [0],\n",
      "        [2],\n",
      "        [0],\n",
      "        [0],\n",
      "        [0],\n",
      "        [0],\n",
      "        [2],\n",
      "        [2],\n",
      "        [2],\n",
      "        [0],\n",
      "        [2],\n",
      "        [2],\n",
      "        [1],\n",
      "        [0],\n",
      "        [0],\n",
      "        [2],\n",
      "        [2],\n",
      "        [1],\n",
      "        [1]])]\n"
     ]
    }
   ],
   "source": [
    "iris_loader = DataLoader(iris, batch_size = 50, shuffle = True)\n",
    "for i, sample in enumerate(iris_loader):\n",
    "    print(i, sample)"
   ]
  },
  {
   "cell_type": "code",
   "execution_count": 97,
   "id": "558091da-ae82-4418-971d-5311f13aa386",
   "metadata": {},
   "outputs": [],
   "source": [
    "##############################################################################################################################"
   ]
  },
  {
   "cell_type": "code",
   "execution_count": 98,
   "id": "1d13ab9a-4186-43ac-a7be-c5f5a6061f69",
   "metadata": {},
   "outputs": [],
   "source": [
    "import torch\n",
    "import torch.nn as nn\n",
    "import torch.nn.functional as F"
   ]
  },
  {
   "cell_type": "code",
   "execution_count": 122,
   "id": "fbba4a1c-ea0c-4a3d-acd2-8d6b40895f43",
   "metadata": {},
   "outputs": [],
   "source": [
    "class Model(nn.Module):\n",
    "    def __init__(self, in_features=4, h1=8, h2=9, out_features=3):\n",
    "        super().__init__()\n",
    "        self.fc1 = nn.Linear(in_features,h1)\n",
    "        self.fc2 = nn.Linear(h1,h2)\n",
    "        self.out = nn.Linear(h2,out_features)\n",
    "        \n",
    "    def forward(self, x):\n",
    "        x = F.relu(self.fc1(x))\n",
    "        x = F.relu(self.fc2(x))\n",
    "        y_pred = self.out(x)\n",
    "        return y_pred"
   ]
  },
  {
   "cell_type": "code",
   "execution_count": 123,
   "id": "62b9a2e0-b387-405e-af49-d182087d3470",
   "metadata": {},
   "outputs": [],
   "source": [
    "torch.manual_seed(10)\n",
    "model = Model()"
   ]
  },
  {
   "cell_type": "code",
   "execution_count": 124,
   "id": "18bdeda6-bf33-4ab9-84b0-1b876d594f95",
   "metadata": {},
   "outputs": [
    {
     "data": {
      "text/plain": [
       "Model(\n",
       "  (fc1): Linear(in_features=4, out_features=8, bias=True)\n",
       "  (fc2): Linear(in_features=8, out_features=9, bias=True)\n",
       "  (out): Linear(in_features=9, out_features=3, bias=True)\n",
       ")"
      ]
     },
     "execution_count": 124,
     "metadata": {},
     "output_type": "execute_result"
    }
   ],
   "source": [
    "model"
   ]
  },
  {
   "cell_type": "code",
   "execution_count": null,
   "id": "c491bcda-dfaa-48d2-9bdc-178284f16415",
   "metadata": {},
   "outputs": [],
   "source": []
  },
  {
   "cell_type": "code",
   "execution_count": 125,
   "id": "83c24eeb-550b-4159-a359-5ab530f37a17",
   "metadata": {},
   "outputs": [],
   "source": [
    "criterion = nn.CrossEntropyLoss()\n",
    "optimizer = torch.optim.Adam(model.parameters(),lr = 0.01)"
   ]
  },
  {
   "cell_type": "code",
   "execution_count": 126,
   "id": "05667363-09ef-4b79-a9ea-3e6667215206",
   "metadata": {},
   "outputs": [
    {
     "data": {
      "text/plain": [
       "tensor([[5.6000, 2.7000, 4.2000, 1.3000],\n",
       "        [6.7000, 3.1000, 4.7000, 1.5000],\n",
       "        [5.6000, 2.8000, 4.9000, 2.0000],\n",
       "        [6.4000, 3.2000, 5.3000, 2.3000],\n",
       "        [6.7000, 3.1000, 5.6000, 2.4000],\n",
       "        [6.7000, 3.0000, 5.2000, 2.3000],\n",
       "        [5.8000, 2.7000, 5.1000, 1.9000],\n",
       "        [5.7000, 3.0000, 4.2000, 1.2000],\n",
       "        [5.0000, 2.3000, 3.3000, 1.0000],\n",
       "        [4.9000, 3.1000, 1.5000, 0.1000],\n",
       "        [6.3000, 2.3000, 4.4000, 1.3000],\n",
       "        [5.8000, 2.6000, 4.0000, 1.2000],\n",
       "        [6.2000, 2.9000, 4.3000, 1.3000],\n",
       "        [4.7000, 3.2000, 1.3000, 0.2000],\n",
       "        [4.6000, 3.4000, 1.4000, 0.3000],\n",
       "        [5.1000, 2.5000, 3.0000, 1.1000],\n",
       "        [4.8000, 3.4000, 1.6000, 0.2000],\n",
       "        [7.9000, 3.8000, 6.4000, 2.0000],\n",
       "        [5.1000, 3.4000, 1.5000, 0.2000],\n",
       "        [5.1000, 3.7000, 1.5000, 0.4000],\n",
       "        [5.6000, 2.9000, 3.6000, 1.3000],\n",
       "        [6.5000, 3.0000, 5.5000, 1.8000],\n",
       "        [5.4000, 3.9000, 1.7000, 0.4000],\n",
       "        [7.0000, 3.2000, 4.7000, 1.4000],\n",
       "        [5.8000, 2.8000, 5.1000, 2.4000],\n",
       "        [7.7000, 2.6000, 6.9000, 2.3000],\n",
       "        [5.5000, 2.5000, 4.0000, 1.3000],\n",
       "        [5.9000, 3.2000, 4.8000, 1.8000],\n",
       "        [4.9000, 3.1000, 1.5000, 0.1000],\n",
       "        [4.5000, 2.3000, 1.3000, 0.3000],\n",
       "        [6.3000, 2.8000, 5.1000, 1.5000],\n",
       "        [4.4000, 2.9000, 1.4000, 0.2000],\n",
       "        [5.0000, 3.6000, 1.4000, 0.2000],\n",
       "        [7.2000, 3.0000, 5.8000, 1.6000],\n",
       "        [6.0000, 3.4000, 4.5000, 1.6000],\n",
       "        [6.2000, 2.2000, 4.5000, 1.5000],\n",
       "        [7.4000, 2.8000, 6.1000, 1.9000],\n",
       "        [6.8000, 3.0000, 5.5000, 2.1000],\n",
       "        [6.4000, 2.8000, 5.6000, 2.2000],\n",
       "        [5.7000, 2.5000, 5.0000, 2.0000],\n",
       "        [5.0000, 3.5000, 1.6000, 0.6000],\n",
       "        [5.1000, 3.8000, 1.5000, 0.3000],\n",
       "        [6.8000, 2.8000, 4.8000, 1.4000],\n",
       "        [5.2000, 2.7000, 3.9000, 1.4000],\n",
       "        [5.1000, 3.8000, 1.6000, 0.2000],\n",
       "        [5.6000, 2.5000, 3.9000, 1.1000],\n",
       "        [6.1000, 3.0000, 4.9000, 1.8000],\n",
       "        [6.6000, 2.9000, 4.6000, 1.3000],\n",
       "        [6.4000, 2.8000, 5.6000, 2.1000],\n",
       "        [4.3000, 3.0000, 1.1000, 0.1000],\n",
       "        [7.2000, 3.6000, 6.1000, 2.5000],\n",
       "        [5.1000, 3.5000, 1.4000, 0.2000],\n",
       "        [6.3000, 2.5000, 4.9000, 1.5000],\n",
       "        [4.4000, 3.2000, 1.3000, 0.2000],\n",
       "        [7.6000, 3.0000, 6.6000, 2.1000],\n",
       "        [6.4000, 3.2000, 4.5000, 1.5000],\n",
       "        [5.1000, 3.8000, 1.9000, 0.4000],\n",
       "        [6.5000, 3.2000, 5.1000, 2.0000],\n",
       "        [6.3000, 2.7000, 4.9000, 1.8000],\n",
       "        [5.0000, 3.5000, 1.3000, 0.3000],\n",
       "        [5.2000, 3.4000, 1.4000, 0.2000],\n",
       "        [6.4000, 2.7000, 5.3000, 1.9000],\n",
       "        [5.8000, 4.0000, 1.2000, 0.2000],\n",
       "        [5.7000, 4.4000, 1.5000, 0.4000],\n",
       "        [4.6000, 3.2000, 1.4000, 0.2000],\n",
       "        [6.9000, 3.1000, 5.4000, 2.1000],\n",
       "        [6.3000, 2.9000, 5.6000, 1.8000],\n",
       "        [5.5000, 3.5000, 1.3000, 0.2000],\n",
       "        [5.7000, 2.6000, 3.5000, 1.0000],\n",
       "        [5.0000, 3.3000, 1.4000, 0.2000],\n",
       "        [6.0000, 2.2000, 4.0000, 1.0000],\n",
       "        [4.9000, 3.0000, 1.4000, 0.2000],\n",
       "        [5.0000, 2.0000, 3.5000, 1.0000],\n",
       "        [6.6000, 3.0000, 4.4000, 1.4000],\n",
       "        [5.7000, 2.8000, 4.5000, 1.3000],\n",
       "        [5.5000, 2.6000, 4.4000, 1.2000],\n",
       "        [5.5000, 2.3000, 4.0000, 1.3000],\n",
       "        [4.8000, 3.1000, 1.6000, 0.2000],\n",
       "        [6.0000, 2.9000, 4.5000, 1.5000],\n",
       "        [5.0000, 3.0000, 1.6000, 0.2000],\n",
       "        [6.9000, 3.1000, 4.9000, 1.5000],\n",
       "        [6.7000, 2.5000, 5.8000, 1.8000],\n",
       "        [5.3000, 3.7000, 1.5000, 0.2000],\n",
       "        [5.2000, 4.1000, 1.5000, 0.1000],\n",
       "        [5.0000, 3.4000, 1.6000, 0.4000],\n",
       "        [4.6000, 3.6000, 1.0000, 0.2000],\n",
       "        [7.7000, 3.8000, 6.7000, 2.2000],\n",
       "        [7.3000, 2.9000, 6.3000, 1.8000],\n",
       "        [4.6000, 3.1000, 1.5000, 0.2000],\n",
       "        [5.5000, 2.4000, 3.7000, 1.0000],\n",
       "        [5.8000, 2.7000, 3.9000, 1.2000],\n",
       "        [6.7000, 3.3000, 5.7000, 2.1000],\n",
       "        [5.8000, 2.7000, 4.1000, 1.0000],\n",
       "        [5.4000, 3.7000, 1.5000, 0.2000],\n",
       "        [5.0000, 3.4000, 1.5000, 0.2000],\n",
       "        [6.0000, 2.7000, 5.1000, 1.6000],\n",
       "        [5.7000, 2.8000, 4.1000, 1.3000],\n",
       "        [6.1000, 2.8000, 4.7000, 1.2000],\n",
       "        [5.1000, 3.3000, 1.7000, 0.5000],\n",
       "        [5.6000, 3.0000, 4.1000, 1.3000],\n",
       "        [5.4000, 3.0000, 4.5000, 1.5000],\n",
       "        [5.4000, 3.9000, 1.3000, 0.4000],\n",
       "        [6.7000, 3.3000, 5.7000, 2.5000],\n",
       "        [4.9000, 2.5000, 4.5000, 1.7000],\n",
       "        [6.2000, 3.4000, 5.4000, 2.3000],\n",
       "        [5.5000, 2.4000, 3.8000, 1.1000],\n",
       "        [7.7000, 2.8000, 6.7000, 2.0000],\n",
       "        [5.4000, 3.4000, 1.5000, 0.4000],\n",
       "        [6.7000, 3.0000, 5.0000, 1.7000],\n",
       "        [5.5000, 4.2000, 1.4000, 0.2000],\n",
       "        [5.0000, 3.2000, 1.2000, 0.2000],\n",
       "        [4.8000, 3.0000, 1.4000, 0.3000],\n",
       "        [5.8000, 2.7000, 5.1000, 1.9000],\n",
       "        [5.9000, 3.0000, 4.2000, 1.5000],\n",
       "        [7.1000, 3.0000, 5.9000, 2.1000],\n",
       "        [4.9000, 2.4000, 3.3000, 1.0000],\n",
       "        [6.3000, 2.5000, 5.0000, 1.9000],\n",
       "        [5.6000, 3.0000, 4.5000, 1.5000],\n",
       "        [7.7000, 3.0000, 6.1000, 2.3000],\n",
       "        [5.4000, 3.4000, 1.7000, 0.2000]])"
      ]
     },
     "execution_count": 126,
     "metadata": {},
     "output_type": "execute_result"
    }
   ],
   "source": [
    "X_train"
   ]
  },
  {
   "cell_type": "code",
   "execution_count": 127,
   "id": "78e4be21-a21c-4591-a6d2-e863735cd64e",
   "metadata": {},
   "outputs": [],
   "source": [
    "y_predcheck = model.forward(X_train)"
   ]
  },
  {
   "cell_type": "code",
   "execution_count": 128,
   "id": "bf6574fc-9579-4747-b2ba-0f291f732af6",
   "metadata": {},
   "outputs": [
    {
     "data": {
      "text/plain": [
       "tensor([[-1.0692e-01, -3.8847e-01, -7.3044e-02],\n",
       "        [-1.4922e-01, -4.0674e-01, -4.6341e-02],\n",
       "        [-1.9050e-01, -4.3878e-01, -6.2673e-02],\n",
       "        [-2.2689e-01, -4.4630e-01, -3.7907e-02],\n",
       "        [-2.3904e-01, -4.5562e-01, -2.5176e-02],\n",
       "        [-2.0211e-01, -4.2797e-01, -2.8689e-02],\n",
       "        [-1.8406e-01, -4.3414e-01, -5.1319e-02],\n",
       "        [-1.0652e-01, -3.8542e-01, -7.7161e-02],\n",
       "        [-6.1251e-02, -3.7324e-01, -9.5839e-02],\n",
       "        [ 2.0175e-02, -3.4056e-01, -1.7373e-01],\n",
       "        [-1.2095e-01, -4.0721e-01, -4.8452e-02],\n",
       "        [-1.0097e-01, -3.9003e-01, -7.1262e-02],\n",
       "        [-1.2128e-01, -3.9610e-01, -6.2064e-02],\n",
       "        [ 2.2382e-02, -3.3556e-01, -1.8302e-01],\n",
       "        [ 1.5275e-02, -3.3325e-01, -1.8479e-01],\n",
       "        [-6.4245e-02, -3.7038e-01, -9.9533e-02],\n",
       "        [ 1.2234e-02, -3.3705e-01, -1.7732e-01],\n",
       "        [-2.4022e-01, -4.4256e-01,  2.6703e-04],\n",
       "        [ 7.9710e-03, -3.4044e-01, -1.7018e-01],\n",
       "        [-5.4272e-03, -3.3818e-01, -1.6991e-01],\n",
       "        [-9.7690e-02, -3.8041e-01, -8.4343e-02],\n",
       "        [-1.8402e-01, -4.2234e-01, -3.2604e-02],\n",
       "        [-1.7711e-02, -3.4165e-01, -1.6014e-01],\n",
       "        [-1.5091e-01, -4.0951e-01, -4.2842e-02],\n",
       "        [-2.2522e-01, -4.6755e-01, -6.6618e-02],\n",
       "        [-2.5487e-01, -4.7493e-01,  2.2501e-02],\n",
       "        [-9.9631e-02, -3.8755e-01, -7.4655e-02],\n",
       "        [-1.7117e-01, -4.1029e-01, -5.8431e-02],\n",
       "        [ 2.0175e-02, -3.4056e-01, -1.7373e-01],\n",
       "        [ 2.8698e-02, -3.4431e-01, -1.6993e-01],\n",
       "        [-1.4682e-01, -4.0814e-01, -4.4666e-02],\n",
       "        [ 2.9148e-02, -3.3580e-01, -1.8470e-01],\n",
       "        [ 1.0546e-02, -3.3578e-01, -1.7899e-01],\n",
       "        [-1.8914e-01, -4.3220e-01, -1.5783e-02],\n",
       "        [-1.4098e-01, -3.9152e-01, -6.7497e-02],\n",
       "        [-1.3037e-01, -4.0994e-01, -4.4660e-02],\n",
       "        [-2.1495e-01, -4.4620e-01,  1.1621e-03],\n",
       "        [-1.9983e-01, -4.2714e-01, -2.2494e-02],\n",
       "        [-2.2193e-01, -4.5467e-01, -3.0203e-02],\n",
       "        [-1.8268e-01, -4.3867e-01, -5.3087e-02],\n",
       "        [-1.4644e-02, -3.4140e-01, -1.6153e-01],\n",
       "        [-8.1427e-04, -3.3629e-01, -1.7460e-01],\n",
       "        [-1.4755e-01, -4.1395e-01, -3.8740e-02],\n",
       "        [-9.9182e-02, -3.8044e-01, -8.4230e-02],\n",
       "        [ 2.5158e-03, -3.3644e-01, -1.7537e-01],\n",
       "        [-8.9738e-02, -3.8640e-01, -7.6706e-02],\n",
       "        [-1.6182e-01, -4.0736e-01, -5.0540e-02],\n",
       "        [-1.3394e-01, -4.0501e-01, -4.9454e-02],\n",
       "        [-2.1340e-01, -4.4842e-01, -3.0197e-02],\n",
       "        [ 4.2239e-02, -3.2999e-01, -1.9874e-01],\n",
       "        [-2.7849e-01, -4.6900e-01, -1.1051e-02],\n",
       "        [ 9.2539e-03, -3.3839e-01, -1.7409e-01],\n",
       "        [-1.4198e-01, -4.1127e-01, -4.2052e-02],\n",
       "        [ 2.8762e-02, -3.3134e-01, -1.9226e-01],\n",
       "        [-2.4084e-01, -4.5437e-01,  1.2234e-02],\n",
       "        [-1.4110e-01, -3.9906e-01, -5.7074e-02],\n",
       "        [-1.4731e-02, -3.4031e-01, -1.6337e-01],\n",
       "        [-1.8384e-01, -4.1439e-01, -3.9386e-02],\n",
       "        [-1.5709e-01, -4.1023e-01, -4.1439e-02],\n",
       "        [ 8.0506e-03, -3.3684e-01, -1.7639e-01],\n",
       "        [ 7.9616e-03, -3.4101e-01, -1.6919e-01],\n",
       "        [-1.7410e-01, -4.1979e-01, -3.2559e-02],\n",
       "        [-5.5707e-03, -3.4053e-01, -1.6583e-01],\n",
       "        [-2.4029e-02, -3.3816e-01, -1.6420e-01],\n",
       "        [ 2.2391e-02, -3.3499e-01, -1.8401e-01],\n",
       "        [-1.9797e-01, -4.2381e-01, -2.3262e-02],\n",
       "        [-1.9525e-01, -4.3412e-01, -3.3988e-02],\n",
       "        [ 2.8644e-03, -3.4318e-01, -1.6387e-01],\n",
       "        [-8.0145e-02, -3.8210e-01, -8.2982e-02],\n",
       "        [ 1.3050e-02, -3.3940e-01, -1.7352e-01],\n",
       "        [-9.1057e-02, -3.9628e-01, -6.3376e-02],\n",
       "        [ 1.7680e-02, -3.4162e-01, -1.7114e-01],\n",
       "        [-6.2201e-02, -3.7881e-01, -8.8312e-02],\n",
       "        [-1.3608e-01, -4.0278e-01, -5.2333e-02],\n",
       "        [-1.1514e-01, -3.9156e-01, -6.8476e-02],\n",
       "        [-1.0300e-01, -3.8917e-01, -7.2308e-02],\n",
       "        [-9.7808e-02, -3.9002e-01, -7.1431e-02],\n",
       "        [ 1.4737e-02, -3.4068e-01, -1.7185e-01],\n",
       "        [-1.3123e-01, -3.9665e-01, -6.0810e-02],\n",
       "        [ 1.1318e-02, -3.4470e-01, -1.6388e-01],\n",
       "        [-1.5758e-01, -4.1256e-01, -3.9034e-02],\n",
       "        [-1.8596e-01, -4.3292e-01, -1.5497e-02],\n",
       "        [ 1.2142e-03, -3.3962e-01, -1.6948e-01],\n",
       "        [ 5.4504e-03, -3.3270e-01, -1.8271e-01],\n",
       "        [-2.9145e-03, -3.4123e-01, -1.6544e-01],\n",
       "        [ 2.7522e-02, -3.2681e-01, -1.9966e-01],\n",
       "        [-2.7761e-01, -4.6302e-01,  5.8242e-03],\n",
       "        [-2.1210e-01, -4.4382e-01, -1.5482e-03],\n",
       "        [ 2.1108e-02, -3.3703e-01, -1.8010e-01],\n",
       "        [-7.8443e-02, -3.8338e-01, -8.1353e-02],\n",
       "        [-1.0004e-01, -3.8786e-01, -7.4219e-02],\n",
       "        [-2.2708e-01, -4.4275e-01, -2.6140e-02],\n",
       "        [-9.3893e-02, -3.8798e-01, -7.4376e-02],\n",
       "        [-9.1254e-04, -3.4103e-01, -1.6641e-01],\n",
       "        [ 1.0098e-02, -3.3903e-01, -1.7325e-01],\n",
       "        [-1.4961e-01, -4.0865e-01, -4.7788e-02],\n",
       "        [-1.0777e-01, -3.8783e-01, -7.3859e-02],\n",
       "        [-1.2104e-01, -3.9867e-01, -5.8636e-02],\n",
       "        [-1.1771e-02, -3.4537e-01, -1.5558e-01],\n",
       "        [-1.0781e-01, -3.8383e-01, -7.9226e-02],\n",
       "        [-1.3700e-01, -3.9718e-01, -7.5100e-02],\n",
       "        [-9.2416e-03, -3.3831e-01, -1.6851e-01],\n",
       "        [-2.6121e-01, -4.6775e-01, -2.6165e-02],\n",
       "        [-1.4910e-01, -4.2918e-01, -9.9385e-02],\n",
       "        [-2.4795e-01, -4.6048e-01, -4.4379e-02],\n",
       "        [-8.5202e-02, -3.8518e-01, -7.8583e-02],\n",
       "        [-2.4019e-01, -4.6041e-01,  1.8252e-02],\n",
       "        [-9.3040e-03, -3.4603e-01, -1.5522e-01],\n",
       "        [-1.6456e-01, -4.1324e-01, -3.7577e-02],\n",
       "        [-5.0942e-03, -3.3556e-01, -1.7453e-01],\n",
       "        [ 1.8119e-02, -3.3894e-01, -1.7588e-01],\n",
       "        [ 1.4359e-02, -3.4090e-01, -1.7135e-01],\n",
       "        [-1.8406e-01, -4.3414e-01, -5.1319e-02],\n",
       "        [-1.2484e-01, -3.9109e-01, -6.8603e-02],\n",
       "        [-2.1342e-01, -4.3583e-01, -9.6679e-03],\n",
       "        [-6.0380e-02, -3.7048e-01, -9.9594e-02],\n",
       "        [-1.6361e-01, -4.1623e-01, -3.5229e-02],\n",
       "        [-1.2899e-01, -3.9181e-01, -7.1728e-02],\n",
       "        [-2.4228e-01, -4.5220e-01,  1.0210e-02],\n",
       "        [-2.6439e-03, -3.4633e-01, -1.5676e-01]], grad_fn=<AddmmBackward0>)"
      ]
     },
     "execution_count": 128,
     "metadata": {},
     "output_type": "execute_result"
    }
   ],
   "source": [
    "y_predcheck"
   ]
  },
  {
   "cell_type": "code",
   "execution_count": 129,
   "id": "70d61589-d1b8-4be2-8e7b-4b305723bdaa",
   "metadata": {},
   "outputs": [],
   "source": [
    "y_train = y_train.squeeze()\n",
    "y_test = y_test.squeeze()"
   ]
  },
  {
   "cell_type": "code",
   "execution_count": 134,
   "id": "365f215b-1d39-4ea9-9734-2141f6516b45",
   "metadata": {
    "scrolled": true
   },
   "outputs": [
    {
     "name": "stdout",
     "output_type": "stream",
     "text": [
      "epoch is 0 and loss is 0.07618948072195053\n",
      "epoch is 10 and loss is 0.06908976286649704\n",
      "epoch is 20 and loss is 0.06450944393873215\n",
      "epoch is 30 and loss is 0.0612717941403389\n",
      "epoch is 40 and loss is 0.05880045145750046\n",
      "epoch is 50 and loss is 0.05681256949901581\n",
      "epoch is 60 and loss is 0.05515286698937416\n",
      "epoch is 70 and loss is 0.05372687801718712\n",
      "epoch is 80 and loss is 0.052479617297649384\n",
      "epoch is 90 and loss is 0.051375966519117355\n",
      "epoch is 100 and loss is 0.0503958985209465\n",
      "epoch is 110 and loss is 0.04992865025997162\n",
      "epoch is 120 and loss is 0.048943180590867996\n",
      "epoch is 130 and loss is 0.048169538378715515\n",
      "epoch is 140 and loss is 0.04752930626273155\n",
      "epoch is 150 and loss is 0.04695245251059532\n",
      "epoch is 160 and loss is 0.04643529653549194\n",
      "epoch is 170 and loss is 0.04595601186156273\n",
      "epoch is 180 and loss is 0.04551619663834572\n",
      "epoch is 190 and loss is 0.04511025920510292\n",
      "epoch is 200 and loss is 0.04473705217242241\n",
      "epoch is 210 and loss is 0.044395558536052704\n",
      "epoch is 220 and loss is 0.04450541362166405\n",
      "epoch is 230 and loss is 0.04389146342873573\n",
      "epoch is 240 and loss is 0.04370730370283127\n",
      "epoch is 250 and loss is 0.043386440724134445\n",
      "epoch is 260 and loss is 0.04320903494954109\n",
      "epoch is 270 and loss is 0.04302487522363663\n",
      "epoch is 280 and loss is 0.04286070540547371\n",
      "epoch is 290 and loss is 0.04271533712744713\n",
      "epoch is 300 and loss is 0.04258548095822334\n",
      "epoch is 310 and loss is 0.04246973991394043\n",
      "epoch is 320 and loss is 0.04241179674863815\n",
      "epoch is 330 and loss is 0.04227308928966522\n",
      "epoch is 340 and loss is 0.042198363691568375\n",
      "epoch is 350 and loss is 0.0421249195933342\n",
      "epoch is 360 and loss is 0.0420624203979969\n",
      "epoch is 370 and loss is 0.042011160403490067\n",
      "epoch is 380 and loss is 0.04195152223110199\n",
      "epoch is 390 and loss is 0.04190422594547272\n",
      "epoch is 400 and loss is 0.04185950756072998\n",
      "epoch is 410 and loss is 0.04182093217968941\n",
      "epoch is 420 and loss is 0.04183083027601242\n",
      "epoch is 430 and loss is 0.041912991553545\n",
      "epoch is 440 and loss is 0.04190492257475853\n",
      "epoch is 450 and loss is 0.04177752882242203\n",
      "epoch is 460 and loss is 0.04171033948659897\n",
      "epoch is 470 and loss is 0.04166125878691673\n",
      "epoch is 480 and loss is 0.0416373535990715\n",
      "epoch is 490 and loss is 0.041617464274168015\n"
     ]
    }
   ],
   "source": [
    "epochs = 500\n",
    "losses = []\n",
    "\n",
    "for i in range(epochs):\n",
    "    y_pred = model.forward(X_train)\n",
    "    # print(y_pred,y_train)\n",
    "    loss = criterion(y_pred,y_train)\n",
    "    if i%10 == 0:\n",
    "        print(f\"epoch is {i} and loss is {loss}\")\n",
    "    losses.append(loss.item())\n",
    "    # print(f\"epoch {i} loss {loss.item()} weight {model.fc1.weight.item()} bias {model.fc1.bias.item()}\")\n",
    "    optimizer.zero_grad() ##why tis check?????\n",
    "    loss.backward()\n",
    "    optimizer.step()\n"
   ]
  },
  {
   "cell_type": "code",
   "execution_count": 135,
   "id": "c795e90c-47b1-4266-a1ff-0f36748bad42",
   "metadata": {},
   "outputs": [
    {
     "data": {
      "text/plain": [
       "Text(0.5, 0, 'EPOCHS')"
      ]
     },
     "execution_count": 135,
     "metadata": {},
     "output_type": "execute_result"
    },
    {
     "data": {
      "image/png": "[encoded data removed]",
      "text/plain": [
       "<Figure size 640x480 with 1 Axes>"
      ]
     },
     "metadata": {},
     "output_type": "display_data"
    }
   ],
   "source": [
    "plt.plot(range(epochs),losses)\n",
    "plt.ylabel(\"MSE LOSS\")\n",
    "plt.xlabel(\"EPOCHS\")"
   ]
  },
  {
   "cell_type": "code",
   "execution_count": 150,
   "id": "fef799b5-0818-4684-b025-7243796f35eb",
   "metadata": {},
   "outputs": [],
   "source": [
    "# X_train = torch.FloatTensor(X_train)\n",
    "# y_test = torch.FloatTensor(y_test)\n",
    "y_test = y_test.squeeze()\n",
    "\n",
    "with torch.no_grad():\n",
    "    y_eval = model.forward(X_test)\n",
    "    loss = criterion(y_eval,y_test)"
   ]
  },
  {
   "cell_type": "code",
   "execution_count": 151,
   "id": "b843cb7d-c2c0-4186-b2d2-20f266db9a27",
   "metadata": {},
   "outputs": [
    {
     "data": {
      "text/plain": [
       "tensor(0.0465)"
      ]
     },
     "execution_count": 151,
     "metadata": {},
     "output_type": "execute_result"
    }
   ],
   "source": [
    "loss"
   ]
  },
  {
   "cell_type": "code",
   "execution_count": 155,
   "id": "d51de087-7f02-47b2-b5a2-257e270c8c39",
   "metadata": {},
   "outputs": [
    {
     "name": "stdout",
     "output_type": "stream",
     "text": [
      "1 .) tensor([-4.9327,  8.1199, -2.6220]) 1\n",
      "2 .) tensor([-5.0773,  8.4475, -2.6537]) 1\n",
      "3 .) tensor([ 4.7530, -2.5191, -5.5552]) 0\n",
      "4 .) tensor([-8.2964,  8.1166,  2.0452]) 1\n",
      "5 .) tensor([-14.9628,   7.9306,  11.1993]) 2\n",
      "6 .) tensor([-22.6392,   6.3916,  22.2065]) 2\n",
      "7 .) tensor([ 4.7363, -2.4935, -5.5590]) 0\n",
      "8 .) tensor([ 4.7530, -2.5191, -5.5552]) 0\n",
      "9 .) tensor([-16.1038,   8.0101,  12.5869]) 2\n",
      "10 .) tensor([-19.7434,   7.2921,  17.9160]) 2\n",
      "11 .) tensor([-20.7055,   7.0581,  19.3032]) 2\n",
      "12 .) tensor([ 4.7530, -2.5191, -5.5552]) 0\n",
      "13 .) tensor([-20.1938,   7.1056,  18.5398]) 2\n",
      "14 .) tensor([-8.3987,  8.1456,  2.0803]) 1\n",
      "15 .) tensor([-17.1946,   7.6964,  14.3886]) 2\n",
      "16 .) tensor([-4.6409,  8.2940, -3.1032]) 1\n",
      "17 .) tensor([-12.5280,   7.8363,   7.8968]) 2\n",
      "18 .) tensor([ 4.7530, -2.5191, -5.5552]) 0\n",
      "19 .) tensor([-8.8061,  8.2985,  2.4212]) 1\n",
      "20 .) tensor([-17.6744,   8.2426,  14.5347]) 2\n",
      "21 .) tensor([ 4.7530, -2.5191, -5.5552]) 0\n",
      "22 .) tensor([ 4.7530, -2.5191, -5.5552]) 0\n",
      "23 .) tensor([-20.2947,   6.9762,  18.8622]) 2\n",
      "24 .) tensor([ 4.7530, -2.5191, -5.5552]) 0\n",
      "25 .) tensor([-13.2604,   7.5619,   9.3248]) 2\n",
      "26 .) tensor([-12.7504,   7.7648,   8.3358]) 2\n",
      "27 .) tensor([-7.4899,  8.2135,  0.7688]) 1\n",
      "28 .) tensor([-3.8665,  7.8150, -3.6857]) 1\n",
      "29 .) tensor([-16.0966,   7.8084,  12.8001]) 2\n",
      "30 .) tensor([-14.6048,   7.8005,  10.7169]) 2\n",
      "total corect are ==> 30\n"
     ]
    }
   ],
   "source": [
    "correct = 0\n",
    "with torch.no_grad():\n",
    "    for i, data in enumerate(X_test):\n",
    "        y_val = model.forward(data)\n",
    "        print(f\"{i+1} .) {str(y_val)} {y_test[i]}\")\n",
    "        if y_val.argmax().item() == y_test[i]:\n",
    "            correct+=1\n",
    "print(f\"total corect are ==> {correct}\")            "
   ]
  },
  {
   "cell_type": "code",
   "execution_count": 156,
   "id": "4d7e6dbe-5406-427e-a8bd-23b57352a3e5",
   "metadata": {},
   "outputs": [],
   "source": [
    "torch.save(model.state_dict(),'iris_model.pt')"
   ]
  },
  {
   "cell_type": "code",
   "execution_count": 157,
   "id": "f25d44a8-7ef0-4125-bf44-2393d9136922",
   "metadata": {},
   "outputs": [],
   "source": [
    "# check how to load pytorch model "
   ]
  },
  {
   "cell_type": "code",
   "execution_count": 158,
   "id": "a6f001d3-1bfc-4593-99d5-72e7eba52a2f",
   "metadata": {},
   "outputs": [
    {
     "data": {
      "text/plain": [
       "Model(\n",
       "  (fc1): Linear(in_features=4, out_features=8, bias=True)\n",
       "  (fc2): Linear(in_features=8, out_features=9, bias=True)\n",
       "  (out): Linear(in_features=9, out_features=3, bias=True)\n",
       ")"
      ]
     },
     "execution_count": 158,
     "metadata": {},
     "output_type": "execute_result"
    }
   ],
   "source": [
    "model.eval()"
   ]
  },
  {
   "cell_type": "code",
   "execution_count": 159,
   "id": "b6c5686b-1ab7-4933-ac5e-0b2b716e8c62",
   "metadata": {},
   "outputs": [],
   "source": [
    "########################### regression model ###########################"
   ]
  },
  {
   "cell_type": "code",
   "execution_count": 1,
   "id": "77c332f8-0a26-48ed-bcc2-516bd5cf7e8b",
   "metadata": {},
   "outputs": [],
   "source": [
    "import torch\n",
    "import torch.nn as nn\n",
    "import pandas as pd\n",
    "import numpy as np\n",
    "import matplotlib.pyplot as plt\n",
    "%matplotlib inline"
   ]
  },
  {
   "cell_type": "code",
   "execution_count": 2,
   "id": "0a9a6812-fe4c-4156-a913-d4294a77012b",
   "metadata": {},
   "outputs": [],
   "source": [
    "df = pd.read_csv(\"C:/Users/Hp/Downloads/taxifare.csv\")"
   ]
  },
  {
   "cell_type": "code",
   "execution_count": 3,
   "id": "7a9fb657-6cd0-4163-8670-55e01e5d010f",
   "metadata": {},
   "outputs": [
    {
     "data": {
      "text/html": [
       "<div>\n",
       "<style scoped>\n",
       "    .dataframe tbody tr th:only-of-type {\n",
       "        vertical-align: middle;\n",
       "    }\n",
       "\n",
       "    .dataframe tbody tr th {\n",
       "        vertical-align: top;\n",
       "    }\n",
       "\n",
       "    .dataframe thead th {\n",
       "        text-align: right;\n",
       "    }\n",
       "</style>\n",
       "<table border=\"1\" class=\"dataframe\">\n",
       "  <thead>\n",
       "    <tr style=\"text-align: right;\">\n",
       "      <th></th>\n",
       "      <th>pickup_datetime</th>\n",
       "      <th>fare_amount</th>\n",
       "      <th>fare_class</th>\n",
       "      <th>pickup_longitude</th>\n",
       "      <th>pickup_latitude</th>\n",
       "      <th>dropoff_longitude</th>\n",
       "      <th>dropoff_latitude</th>\n",
       "      <th>passenger_count</th>\n",
       "    </tr>\n",
       "  </thead>\n",
       "  <tbody>\n",
       "    <tr>\n",
       "      <th>0</th>\n",
       "      <td>2010-04-19 08:17:56 UTC</td>\n",
       "      <td>6.5</td>\n",
       "      <td>0</td>\n",
       "      <td>-73.992365</td>\n",
       "      <td>40.730521</td>\n",
       "      <td>-73.975499</td>\n",
       "      <td>40.744746</td>\n",
       "      <td>1</td>\n",
       "    </tr>\n",
       "    <tr>\n",
       "      <th>1</th>\n",
       "      <td>2010-04-17 15:43:53 UTC</td>\n",
       "      <td>6.9</td>\n",
       "      <td>0</td>\n",
       "      <td>-73.990078</td>\n",
       "      <td>40.740558</td>\n",
       "      <td>-73.974232</td>\n",
       "      <td>40.744114</td>\n",
       "      <td>1</td>\n",
       "    </tr>\n",
       "    <tr>\n",
       "      <th>2</th>\n",
       "      <td>2010-04-17 11:23:26 UTC</td>\n",
       "      <td>10.1</td>\n",
       "      <td>1</td>\n",
       "      <td>-73.994149</td>\n",
       "      <td>40.751118</td>\n",
       "      <td>-73.960064</td>\n",
       "      <td>40.766235</td>\n",
       "      <td>2</td>\n",
       "    </tr>\n",
       "    <tr>\n",
       "      <th>3</th>\n",
       "      <td>2010-04-11 21:25:03 UTC</td>\n",
       "      <td>8.9</td>\n",
       "      <td>0</td>\n",
       "      <td>-73.990485</td>\n",
       "      <td>40.756422</td>\n",
       "      <td>-73.971205</td>\n",
       "      <td>40.748192</td>\n",
       "      <td>1</td>\n",
       "    </tr>\n",
       "    <tr>\n",
       "      <th>4</th>\n",
       "      <td>2010-04-17 02:19:01 UTC</td>\n",
       "      <td>19.7</td>\n",
       "      <td>1</td>\n",
       "      <td>-73.990976</td>\n",
       "      <td>40.734202</td>\n",
       "      <td>-73.905956</td>\n",
       "      <td>40.743115</td>\n",
       "      <td>1</td>\n",
       "    </tr>\n",
       "    <tr>\n",
       "      <th>...</th>\n",
       "      <td>...</td>\n",
       "      <td>...</td>\n",
       "      <td>...</td>\n",
       "      <td>...</td>\n",
       "      <td>...</td>\n",
       "      <td>...</td>\n",
       "      <td>...</td>\n",
       "      <td>...</td>\n",
       "    </tr>\n",
       "    <tr>\n",
       "      <th>119995</th>\n",
       "      <td>2010-04-18 14:33:03 UTC</td>\n",
       "      <td>15.3</td>\n",
       "      <td>1</td>\n",
       "      <td>-73.955857</td>\n",
       "      <td>40.784590</td>\n",
       "      <td>-73.981941</td>\n",
       "      <td>40.736789</td>\n",
       "      <td>1</td>\n",
       "    </tr>\n",
       "    <tr>\n",
       "      <th>119996</th>\n",
       "      <td>2010-04-23 10:27:48 UTC</td>\n",
       "      <td>15.3</td>\n",
       "      <td>1</td>\n",
       "      <td>-73.996329</td>\n",
       "      <td>40.772727</td>\n",
       "      <td>-74.049890</td>\n",
       "      <td>40.740413</td>\n",
       "      <td>1</td>\n",
       "    </tr>\n",
       "    <tr>\n",
       "      <th>119997</th>\n",
       "      <td>2010-04-18 18:50:40 UTC</td>\n",
       "      <td>12.5</td>\n",
       "      <td>1</td>\n",
       "      <td>-73.988574</td>\n",
       "      <td>40.749772</td>\n",
       "      <td>-74.011541</td>\n",
       "      <td>40.707799</td>\n",
       "      <td>3</td>\n",
       "    </tr>\n",
       "    <tr>\n",
       "      <th>119998</th>\n",
       "      <td>2010-04-13 08:14:44 UTC</td>\n",
       "      <td>4.9</td>\n",
       "      <td>0</td>\n",
       "      <td>-74.004449</td>\n",
       "      <td>40.724529</td>\n",
       "      <td>-73.992697</td>\n",
       "      <td>40.730765</td>\n",
       "      <td>1</td>\n",
       "    </tr>\n",
       "    <tr>\n",
       "      <th>119999</th>\n",
       "      <td>2010-04-17 16:00:14 UTC</td>\n",
       "      <td>5.3</td>\n",
       "      <td>0</td>\n",
       "      <td>-73.955415</td>\n",
       "      <td>40.771920</td>\n",
       "      <td>-73.967623</td>\n",
       "      <td>40.763015</td>\n",
       "      <td>3</td>\n",
       "    </tr>\n",
       "  </tbody>\n",
       "</table>\n",
       "<p>120000 rows × 8 columns</p>\n",
       "</div>"
      ],
      "text/plain": [
       "                pickup_datetime  fare_amount  fare_class  pickup_longitude  \\\n",
       "0       2010-04-19 08:17:56 UTC          6.5           0        -73.992365   \n",
       "1       2010-04-17 15:43:53 UTC          6.9           0        -73.990078   \n",
       "2       2010-04-17 11:23:26 UTC         10.1           1        -73.994149   \n",
       "3       2010-04-11 21:25:03 UTC          8.9           0        -73.990485   \n",
       "4       2010-04-17 02:19:01 UTC         19.7           1        -73.990976   \n",
       "...                         ...          ...         ...               ...   \n",
       "119995  2010-04-18 14:33:03 UTC         15.3           1        -73.955857   \n",
       "119996  2010-04-23 10:27:48 UTC         15.3           1        -73.996329   \n",
       "119997  2010-04-18 18:50:40 UTC         12.5           1        -73.988574   \n",
       "119998  2010-04-13 08:14:44 UTC          4.9           0        -74.004449   \n",
       "119999  2010-04-17 16:00:14 UTC          5.3           0        -73.955415   \n",
       "\n",
       "        pickup_latitude  dropoff_longitude  dropoff_latitude  passenger_count  \n",
       "0             40.730521         -73.975499         40.744746                1  \n",
       "1             40.740558         -73.974232         40.744114                1  \n",
       "2             40.751118         -73.960064         40.766235                2  \n",
       "3             40.756422         -73.971205         40.748192                1  \n",
       "4             40.734202         -73.905956         40.743115                1  \n",
       "...                 ...                ...               ...              ...  \n",
       "119995        40.784590         -73.981941         40.736789                1  \n",
       "119996        40.772727         -74.049890         40.740413                1  \n",
       "119997        40.749772         -74.011541         40.707799                3  \n",
       "119998        40.724529         -73.992697         40.730765                1  \n",
       "119999        40.771920         -73.967623         40.763015                3  \n",
       "\n",
       "[120000 rows x 8 columns]"
      ]
     },
     "execution_count": 3,
     "metadata": {},
     "output_type": "execute_result"
    }
   ],
   "source": [
    "df"
   ]
  },
  {
   "cell_type": "code",
   "execution_count": 4,
   "id": "25f10714-6695-4e1e-af9a-935bf2aa28c4",
   "metadata": {},
   "outputs": [],
   "source": [
    "def haversine_distance(df, lat1,long1,lat2,long2):\n",
    "    r = 6371\n",
    "    phi1 = np.radians(df[lat1])\n",
    "    phi2 = np.radians(df[lat2])\n",
    "    delta_phi = np.radians(df[lat2]-df[lat1])\n",
    "    delta_lambda = np.radians(df[long2]-df[long1])\n",
    "    a = np.sin(delta_phi/2)**2 + np.cos(phi1)*np.cos(phi2)*np.sin(delta_lambda/2)**2\n",
    "    c = 2*np.arctan2(np.sqrt(a),np.sqrt(1-a))\n",
    "    d = r*c\n",
    "    return d"
   ]
  },
  {
   "cell_type": "code",
   "execution_count": 5,
   "id": "d76c2253-6335-4ba9-8b1e-004a948ab978",
   "metadata": {},
   "outputs": [],
   "source": [
    "df['dist_km'] = haversine_distance(df,'pickup_latitude','pickup_longitude','dropoff_latitude','dropoff_longitude')\n",
    "\n",
    "df['pickup_datetime'] = pd.to_datetime(df['pickup_datetime'])\n",
    "df['EDTDate'] = df['pickup_datetime'] - pd.Timedelta(hours = 4)\n",
    "df['Hour'] = df['EDTDate'].dt.hour\n",
    "df['AMorPM'] = np.where(df.Hour<12,'am','pm')\n",
    "df['Weekday'] = df['EDTDate'].dt.strftime(\"%a\")"
   ]
  },
  {
   "cell_type": "code",
   "execution_count": 6,
   "id": "a8f996f1-bb0d-48d8-8f0e-adfd7cdbd0e0",
   "metadata": {},
   "outputs": [],
   "source": [
    "cat_cols = ['Hour','AMorPM','Weekday']\n",
    "cont_cols = ['pickup_latitude','pickup_longitude','dropoff_latitude','dropoff_longitude','passenger_count','dist_km']\n",
    "\n",
    "y_col = ['fare_amount']"
   ]
  },
  {
   "cell_type": "code",
   "execution_count": 9,
   "id": "f10347f3-9b2f-47c4-8250-9fbfde42c006",
   "metadata": {},
   "outputs": [],
   "source": [
    "for cat in cat_cols:\n",
    "    df[cat] = df[cat].astype('category')"
   ]
  },
  {
   "cell_type": "code",
   "execution_count": 10,
   "id": "4e40b339-6d64-4ac4-917a-f425a7e3164b",
   "metadata": {},
   "outputs": [
    {
     "data": {
      "text/html": [
       "<div>\n",
       "<style scoped>\n",
       "    .dataframe tbody tr th:only-of-type {\n",
       "        vertical-align: middle;\n",
       "    }\n",
       "\n",
       "    .dataframe tbody tr th {\n",
       "        vertical-align: top;\n",
       "    }\n",
       "\n",
       "    .dataframe thead th {\n",
       "        text-align: right;\n",
       "    }\n",
       "</style>\n",
       "<table border=\"1\" class=\"dataframe\">\n",
       "  <thead>\n",
       "    <tr style=\"text-align: right;\">\n",
       "      <th></th>\n",
       "      <th>pickup_datetime</th>\n",
       "      <th>fare_amount</th>\n",
       "      <th>fare_class</th>\n",
       "      <th>pickup_longitude</th>\n",
       "      <th>pickup_latitude</th>\n",
       "      <th>dropoff_longitude</th>\n",
       "      <th>dropoff_latitude</th>\n",
       "      <th>passenger_count</th>\n",
       "      <th>dist_km</th>\n",
       "      <th>EDTDate</th>\n",
       "      <th>Hour</th>\n",
       "      <th>AMorPM</th>\n",
       "      <th>Weekday</th>\n",
       "    </tr>\n",
       "  </thead>\n",
       "  <tbody>\n",
       "    <tr>\n",
       "      <th>0</th>\n",
       "      <td>2010-04-19 08:17:56+00:00</td>\n",
       "      <td>6.5</td>\n",
       "      <td>0</td>\n",
       "      <td>-73.992365</td>\n",
       "      <td>40.730521</td>\n",
       "      <td>-73.975499</td>\n",
       "      <td>40.744746</td>\n",
       "      <td>1</td>\n",
       "      <td>2.126312</td>\n",
       "      <td>2010-04-19 04:17:56+00:00</td>\n",
       "      <td>4</td>\n",
       "      <td>am</td>\n",
       "      <td>Mon</td>\n",
       "    </tr>\n",
       "    <tr>\n",
       "      <th>1</th>\n",
       "      <td>2010-04-17 15:43:53+00:00</td>\n",
       "      <td>6.9</td>\n",
       "      <td>0</td>\n",
       "      <td>-73.990078</td>\n",
       "      <td>40.740558</td>\n",
       "      <td>-73.974232</td>\n",
       "      <td>40.744114</td>\n",
       "      <td>1</td>\n",
       "      <td>1.392307</td>\n",
       "      <td>2010-04-17 11:43:53+00:00</td>\n",
       "      <td>11</td>\n",
       "      <td>am</td>\n",
       "      <td>Sat</td>\n",
       "    </tr>\n",
       "    <tr>\n",
       "      <th>2</th>\n",
       "      <td>2010-04-17 11:23:26+00:00</td>\n",
       "      <td>10.1</td>\n",
       "      <td>1</td>\n",
       "      <td>-73.994149</td>\n",
       "      <td>40.751118</td>\n",
       "      <td>-73.960064</td>\n",
       "      <td>40.766235</td>\n",
       "      <td>2</td>\n",
       "      <td>3.326763</td>\n",
       "      <td>2010-04-17 07:23:26+00:00</td>\n",
       "      <td>7</td>\n",
       "      <td>am</td>\n",
       "      <td>Sat</td>\n",
       "    </tr>\n",
       "    <tr>\n",
       "      <th>3</th>\n",
       "      <td>2010-04-11 21:25:03+00:00</td>\n",
       "      <td>8.9</td>\n",
       "      <td>0</td>\n",
       "      <td>-73.990485</td>\n",
       "      <td>40.756422</td>\n",
       "      <td>-73.971205</td>\n",
       "      <td>40.748192</td>\n",
       "      <td>1</td>\n",
       "      <td>1.864129</td>\n",
       "      <td>2010-04-11 17:25:03+00:00</td>\n",
       "      <td>17</td>\n",
       "      <td>pm</td>\n",
       "      <td>Sun</td>\n",
       "    </tr>\n",
       "    <tr>\n",
       "      <th>4</th>\n",
       "      <td>2010-04-17 02:19:01+00:00</td>\n",
       "      <td>19.7</td>\n",
       "      <td>1</td>\n",
       "      <td>-73.990976</td>\n",
       "      <td>40.734202</td>\n",
       "      <td>-73.905956</td>\n",
       "      <td>40.743115</td>\n",
       "      <td>1</td>\n",
       "      <td>7.231321</td>\n",
       "      <td>2010-04-16 22:19:01+00:00</td>\n",
       "      <td>22</td>\n",
       "      <td>pm</td>\n",
       "      <td>Fri</td>\n",
       "    </tr>\n",
       "  </tbody>\n",
       "</table>\n",
       "</div>"
      ],
      "text/plain": [
       "            pickup_datetime  fare_amount  fare_class  pickup_longitude  \\\n",
       "0 2010-04-19 08:17:56+00:00          6.5           0        -73.992365   \n",
       "1 2010-04-17 15:43:53+00:00          6.9           0        -73.990078   \n",
       "2 2010-04-17 11:23:26+00:00         10.1           1        -73.994149   \n",
       "3 2010-04-11 21:25:03+00:00          8.9           0        -73.990485   \n",
       "4 2010-04-17 02:19:01+00:00         19.7           1        -73.990976   \n",
       "\n",
       "   pickup_latitude  dropoff_longitude  dropoff_latitude  passenger_count  \\\n",
       "0        40.730521         -73.975499         40.744746                1   \n",
       "1        40.740558         -73.974232         40.744114                1   \n",
       "2        40.751118         -73.960064         40.766235                2   \n",
       "3        40.756422         -73.971205         40.748192                1   \n",
       "4        40.734202         -73.905956         40.743115                1   \n",
       "\n",
       "    dist_km                   EDTDate Hour AMorPM Weekday  \n",
       "0  2.126312 2010-04-19 04:17:56+00:00    4     am     Mon  \n",
       "1  1.392307 2010-04-17 11:43:53+00:00   11     am     Sat  \n",
       "2  3.326763 2010-04-17 07:23:26+00:00    7     am     Sat  \n",
       "3  1.864129 2010-04-11 17:25:03+00:00   17     pm     Sun  \n",
       "4  7.231321 2010-04-16 22:19:01+00:00   22     pm     Fri  "
      ]
     },
     "execution_count": 10,
     "metadata": {},
     "output_type": "execute_result"
    }
   ],
   "source": [
    "df.head()"
   ]
  },
  {
   "cell_type": "code",
   "execution_count": 11,
   "id": "78562fca-df78-403f-ba7a-f4314bbed955",
   "metadata": {},
   "outputs": [
    {
     "name": "stdout",
     "output_type": "stream",
     "text": [
      "0         0\n",
      "1         0\n",
      "2         0\n",
      "3         1\n",
      "4         1\n",
      "         ..\n",
      "119995    0\n",
      "119996    0\n",
      "119997    1\n",
      "119998    0\n",
      "119999    1\n",
      "Length: 120000, dtype: int8\n",
      "**********\n",
      "Index(['am', 'pm'], dtype='object')\n",
      "**********\n",
      "[0 0 0 ... 1 0 1]\n"
     ]
    }
   ],
   "source": [
    "print(df['AMorPM'].cat.codes)\n",
    "print(\"*\"*10)\n",
    "print(df['AMorPM'].cat.categories)\n",
    "print(\"*\"*10)\n",
    "print(df['AMorPM'].cat.codes.values)"
   ]
  },
  {
   "cell_type": "code",
   "execution_count": 12,
   "id": "88105d5e-e711-4cd2-beed-5dc51be03bfb",
   "metadata": {},
   "outputs": [],
   "source": [
    "hr = df['Hour'].cat.codes.values\n",
    "ampm = df['AMorPM'].cat.codes.values\n",
    "wkdy = df['Weekday'].cat.codes.values"
   ]
  },
  {
   "cell_type": "code",
   "execution_count": 13,
   "id": "72ab85be-c87f-4f78-9bab-56acfd5d24d3",
   "metadata": {},
   "outputs": [],
   "source": [
    "cats = np.stack([hr,ampm,wkdy],axis = 1)"
   ]
  },
  {
   "cell_type": "code",
   "execution_count": 14,
   "id": "371d037f-a6d5-4052-b90e-ee7c89a8b1cc",
   "metadata": {},
   "outputs": [
    {
     "data": {
      "text/plain": [
       "array([[ 4,  0,  1],\n",
       "       [11,  0,  2],\n",
       "       [ 7,  0,  2],\n",
       "       ...,\n",
       "       [14,  1,  3],\n",
       "       [ 4,  0,  5],\n",
       "       [12,  1,  2]], dtype=int8)"
      ]
     },
     "execution_count": 14,
     "metadata": {},
     "output_type": "execute_result"
    }
   ],
   "source": [
    "cats"
   ]
  },
  {
   "cell_type": "code",
   "execution_count": 18,
   "id": "77bda863-a784-402b-bcf5-d6d52cc8d9da",
   "metadata": {},
   "outputs": [],
   "source": [
    "cats = np.stack([df[col].cat.codes.values for col in cat_cols],1)\n",
    "\n",
    "conts = np.stack([df[col].values for col in cont_cols],1)"
   ]
  },
  {
   "cell_type": "code",
   "execution_count": 19,
   "id": "5fd35269-e8bc-469a-8323-88f32b4e3195",
   "metadata": {},
   "outputs": [
    {
     "data": {
      "text/plain": [
       "array([[ 4,  0,  1],\n",
       "       [11,  0,  2],\n",
       "       [ 7,  0,  2],\n",
       "       ...,\n",
       "       [14,  1,  3],\n",
       "       [ 4,  0,  5],\n",
       "       [12,  1,  2]], dtype=int8)"
      ]
     },
     "execution_count": 19,
     "metadata": {},
     "output_type": "execute_result"
    }
   ],
   "source": [
    "cats"
   ]
  },
  {
   "cell_type": "code",
   "execution_count": 20,
   "id": "7833bbac-7d59-4818-9264-20d097ec38c0",
   "metadata": {},
   "outputs": [],
   "source": [
    "cats = torch.tensor(cats,dtype = torch.int64)\n",
    "\n",
    "conts = torch.tensor(conts,dtype = torch.float)"
   ]
  },
  {
   "cell_type": "code",
   "execution_count": 21,
   "id": "9c496e14-e6aa-415f-afc1-8d58550f4da0",
   "metadata": {},
   "outputs": [
    {
     "name": "stdout",
     "output_type": "stream",
     "text": [
      "torch.Size([120000, 3])\n",
      "torch.Size([120000, 6])\n"
     ]
    }
   ],
   "source": [
    "print(cats.size())\n",
    "print(conts.shape)"
   ]
  },
  {
   "cell_type": "code",
   "execution_count": 25,
   "id": "960f901e-6a83-4733-8111-b3d687860a86",
   "metadata": {},
   "outputs": [],
   "source": [
    "cat_szs = [len(df[col].cat.categories) for col in cat_cols]\n",
    "\n",
    "emb_szs = [(size,min(50,(size+1)//2)) for size in cat_szs]"
   ]
  },
  {
   "cell_type": "code",
   "execution_count": 26,
   "id": "eb2e4036-1392-4161-a64f-ebd1084d96f3",
   "metadata": {},
   "outputs": [
    {
     "name": "stdout",
     "output_type": "stream",
     "text": [
      "[24, 2, 7]\n",
      "[(24, 12), (2, 1), (7, 4)]\n"
     ]
    }
   ],
   "source": [
    "print(cat_szs)\n",
    "\n",
    "print(emb_szs)"
   ]
  },
  {
   "cell_type": "code",
   "execution_count": 37,
   "id": "48ba83c6-e611-4bc4-9822-9662bd93ec05",
   "metadata": {},
   "outputs": [
    {
     "name": "stdout",
     "output_type": "stream",
     "text": [
      "tensor([[ 4,  0,  1],\n",
      "        [11,  0,  2],\n",
      "        [ 7,  0,  2],\n",
      "        [17,  1,  3]])\n"
     ]
    }
   ],
   "source": [
    "print(cats[:4])\n",
    "\n",
    "catz = cats[:4]"
   ]
  },
  {
   "cell_type": "code",
   "execution_count": 32,
   "id": "380dafa2-dcf4-4f67-bc7a-5466960e7658",
   "metadata": {},
   "outputs": [],
   "source": [
    "selfembeds = nn.ModuleList([nn.Embedding(ni,nf) for ni, nf in emb_szs])"
   ]
  },
  {
   "cell_type": "code",
   "execution_count": 33,
   "id": "97864833-b93d-499c-8cc4-f5544b291524",
   "metadata": {},
   "outputs": [
    {
     "data": {
      "text/plain": [
       "ModuleList(\n",
       "  (0): Embedding(24, 12)\n",
       "  (1): Embedding(2, 1)\n",
       "  (2): Embedding(7, 4)\n",
       ")"
      ]
     },
     "execution_count": 33,
     "metadata": {},
     "output_type": "execute_result"
    }
   ],
   "source": [
    "selfembeds"
   ]
  },
  {
   "cell_type": "code",
   "execution_count": 39,
   "id": "b746945a-878a-408b-9cf6-70b5b8f3f04e",
   "metadata": {},
   "outputs": [],
   "source": [
    "embeddingz = []\n",
    "for i,e in enumerate(selfembeds):\n",
    "    embeddingz.append(e(catz[:,i]))"
   ]
  },
  {
   "cell_type": "code",
   "execution_count": 40,
   "id": "c9f5198e-8614-4edd-b109-d1762039085b",
   "metadata": {},
   "outputs": [
    {
     "data": {
      "text/plain": [
       "[tensor([[-0.0893,  0.2358,  1.3697, -0.0095, -0.1362, -1.4636, -0.3846,  2.1975,\n",
       "          -2.2309,  0.9403, -0.7750, -0.5461],\n",
       "         [-1.6670,  0.3943,  0.8360, -0.1994, -0.0972, -0.8440, -1.8926,  0.9103,\n",
       "           0.0056, -0.4701,  0.2829,  0.9073],\n",
       "         [-1.1109, -0.1870, -1.1927,  0.6133, -0.5322, -0.6508,  0.2903, -0.9307,\n",
       "          -0.0282,  0.1222,  0.5059, -1.4930],\n",
       "         [ 0.4956, -0.4798,  0.3677,  0.5844,  0.1671, -0.1419, -0.5901,  1.9495,\n",
       "          -1.8620,  0.4721,  0.2380,  0.3683]], grad_fn=<EmbeddingBackward0>),\n",
       " tensor([[-1.7361],\n",
       "         [-1.7361],\n",
       "         [-1.7361],\n",
       "         [-0.7798]], grad_fn=<EmbeddingBackward0>),\n",
       " tensor([[ 0.9889, -0.2649, -1.3416, -0.8674],\n",
       "         [-0.0389, -0.6090, -1.3025, -0.8278],\n",
       "         [-0.0389, -0.6090, -1.3025, -0.8278],\n",
       "         [-1.0854,  0.5573, -0.4453,  0.2425]], grad_fn=<EmbeddingBackward0>)]"
      ]
     },
     "execution_count": 40,
     "metadata": {},
     "output_type": "execute_result"
    }
   ],
   "source": [
    "embeddingz"
   ]
  },
  {
   "cell_type": "code",
   "execution_count": 41,
   "id": "8a08c3e9-2455-4815-9d54-a655c6e478de",
   "metadata": {},
   "outputs": [],
   "source": [
    "z = torch.cat(embeddingz,1)"
   ]
  },
  {
   "cell_type": "code",
   "execution_count": 42,
   "id": "a8d573fd-b765-432f-bab7-3c7b2d97e13c",
   "metadata": {},
   "outputs": [
    {
     "data": {
      "text/plain": [
       "tensor([[-0.0893,  0.2358,  1.3697, -0.0095, -0.1362, -1.4636, -0.3846,  2.1975,\n",
       "         -2.2309,  0.9403, -0.7750, -0.5461, -1.7361,  0.9889, -0.2649, -1.3416,\n",
       "         -0.8674],\n",
       "        [-1.6670,  0.3943,  0.8360, -0.1994, -0.0972, -0.8440, -1.8926,  0.9103,\n",
       "          0.0056, -0.4701,  0.2829,  0.9073, -1.7361, -0.0389, -0.6090, -1.3025,\n",
       "         -0.8278],\n",
       "        [-1.1109, -0.1870, -1.1927,  0.6133, -0.5322, -0.6508,  0.2903, -0.9307,\n",
       "         -0.0282,  0.1222,  0.5059, -1.4930, -1.7361, -0.0389, -0.6090, -1.3025,\n",
       "         -0.8278],\n",
       "        [ 0.4956, -0.4798,  0.3677,  0.5844,  0.1671, -0.1419, -0.5901,  1.9495,\n",
       "         -1.8620,  0.4721,  0.2380,  0.3683, -0.7798, -1.0854,  0.5573, -0.4453,\n",
       "          0.2425]], grad_fn=<CatBackward0>)"
      ]
     },
     "execution_count": 42,
     "metadata": {},
     "output_type": "execute_result"
    }
   ],
   "source": [
    "z"
   ]
  },
  {
   "cell_type": "code",
   "execution_count": 45,
   "id": "70896b03-383c-4891-ba92-d89fcbc3dcb9",
   "metadata": {},
   "outputs": [],
   "source": [
    "selfembddrop = nn.Dropout(0.4)"
   ]
  },
  {
   "cell_type": "code",
   "execution_count": 46,
   "id": "55f8d4a8-2bda-44a5-bbd6-642959d33824",
   "metadata": {},
   "outputs": [],
   "source": [
    "z = selfembddrop(z)"
   ]
  },
  {
   "cell_type": "code",
   "execution_count": 47,
   "id": "b143895b-753c-496a-aa62-d53d97ed3ea4",
   "metadata": {},
   "outputs": [
    {
     "data": {
      "text/plain": [
       "tensor([[-0.0000,  0.3931,  2.2828, -0.0158, -0.2270, -0.0000, -0.0000,  3.6625,\n",
       "         -3.7182,  1.5672, -1.2917, -0.9101, -2.8935,  0.0000, -0.0000, -0.0000,\n",
       "         -0.0000],\n",
       "        [-0.0000,  0.6572,  1.3933, -0.3323, -0.1619, -0.0000, -0.0000,  1.5172,\n",
       "          0.0093, -0.7835,  0.4715,  0.0000, -0.0000, -0.0648, -1.0151, -2.1709,\n",
       "         -1.3797],\n",
       "        [-1.8515, -0.3116, -1.9879,  0.0000, -0.8870, -1.0846,  0.0000, -1.5511,\n",
       "         -0.0470,  0.2037,  0.8431, -2.4883, -0.0000, -0.0648, -1.0151, -0.0000,\n",
       "         -1.3797],\n",
       "        [ 0.8260, -0.7996,  0.0000,  0.9740,  0.2785, -0.0000, -0.0000,  0.0000,\n",
       "         -0.0000,  0.7869,  0.0000,  0.0000, -1.2996, -1.8089,  0.9288, -0.0000,\n",
       "          0.4042]], grad_fn=<MulBackward0>)"
      ]
     },
     "execution_count": 47,
     "metadata": {},
     "output_type": "execute_result"
    }
   ],
   "source": [
    "z"
   ]
  },
  {
   "cell_type": "code",
   "execution_count": 51,
   "id": "d893ecbe-c39b-45a8-a864-6053a9bc0d11",
   "metadata": {},
   "outputs": [],
   "source": [
    "class Tabularmodel(nn.Module):\n",
    "    def __self__(self,emb_szs,n_count,out_sz,layers, p=0.5):\n",
    "        super().__init__()\n",
    "        self.embeds = nn.ModuleList([nn.Embedding(ni,nf) for ni, nf in emb_szs])\n",
    "        self.emb_drop = nn.Dropout(p)\n",
    "        self.bn_count = nn.BatchNorm1d(n_cont)\n",
    "        layerlist = []\n",
    "        n_embs = sum([nf for ni, nf in emb_szs])\n",
    "        n_in = n_emb+n_cont\n",
    "\n",
    "        for i in layers:\n",
    "           layerlist.append(nn.Linear(n_in,i))\n",
    "           layerlist.append(nn.Relu(inplace = True))\n",
    "           layerlist.append(nn.BaatchNorm1d(i))\n",
    "           layerlist.append(nn.Dropout(p))\n",
    "           n_in = i\n",
    "\n",
    "        layerlist.append(nn.Linear(layers[-1],out_sz))\n",
    "        self.layers = nn.Sequential(*layerlist)\n",
    "\n",
    "    def forward(self,x_cat,x_cont):\n",
    "        embeddings = []\n",
    "        for i, e in enumerate(self.embeds):\n",
    "            embeddings.append(e(x_cat[:,i]))\n",
    "        x = torch.cat(embeddings,1)\n",
    "        x = self.emb_drop(x)\n",
    "\n",
    "        x_cont = self.bn_cont(x_cont)\n",
    "        x = torch.cat([x,x_cont],1)\n",
    "        x = self.layers(x)\n",
    "\n",
    "        return x"
   ]
  },
  {
   "cell_type": "code",
   "execution_count": 58,
   "id": "f6f5c354-cff1-48a4-9285-acdc4d153c27",
   "metadata": {},
   "outputs": [
    {
     "ename": "TypeError",
     "evalue": "Tabularmodel.__init__() got an unexpected keyword argument 'p'",
     "output_type": "error",
     "traceback": [
      "\u001b[1;31m---------------------------------------------------------------------------\u001b[0m",
      "\u001b[1;31mTypeError\u001b[0m                                 Traceback (most recent call last)",
      "Cell \u001b[1;32mIn[58], line 3\u001b[0m\n\u001b[0;32m      1\u001b[0m torch\u001b[38;5;241m.\u001b[39mmanual_seed(\u001b[38;5;241m101\u001b[39m)\n\u001b[1;32m----> 3\u001b[0m model \u001b[38;5;241m=\u001b[39m Tabularmodel(emb_szs,conts\u001b[38;5;241m.\u001b[39mshape[\u001b[38;5;241m1\u001b[39m],\u001b[38;5;241m1\u001b[39m,[\u001b[38;5;241m200\u001b[39m,\u001b[38;5;241m100\u001b[39m],p\u001b[38;5;241m=\u001b[39m\u001b[38;5;241m0.4\u001b[39m)\n",
      "File \u001b[1;32m~\\anaconda3\\Lib\\site-packages\\torch\\nn\\modules\\module.py:434\u001b[0m, in \u001b[0;36mModule.__init__\u001b[1;34m(self, *args, **kwargs)\u001b[0m\n\u001b[0;32m    432\u001b[0m \u001b[38;5;66;03m# Backward compatibility: no args used to be allowed when call_super_init=False\u001b[39;00m\n\u001b[0;32m    433\u001b[0m \u001b[38;5;28;01mif\u001b[39;00m \u001b[38;5;28mself\u001b[39m\u001b[38;5;241m.\u001b[39mcall_super_init \u001b[38;5;129;01mis\u001b[39;00m \u001b[38;5;28;01mFalse\u001b[39;00m \u001b[38;5;129;01mand\u001b[39;00m \u001b[38;5;28mbool\u001b[39m(kwargs):\n\u001b[1;32m--> 434\u001b[0m     \u001b[38;5;28;01mraise\u001b[39;00m \u001b[38;5;167;01mTypeError\u001b[39;00m(\u001b[38;5;124m\"\u001b[39m\u001b[38;5;132;01m{}\u001b[39;00m\u001b[38;5;124m.__init__() got an unexpected keyword argument \u001b[39m\u001b[38;5;124m'\u001b[39m\u001b[38;5;132;01m{}\u001b[39;00m\u001b[38;5;124m'\u001b[39m\u001b[38;5;124m\"\u001b[39m\n\u001b[0;32m    435\u001b[0m                     \u001b[38;5;124m\"\u001b[39m\u001b[38;5;124m\"\u001b[39m\u001b[38;5;241m.\u001b[39mformat(\u001b[38;5;28mtype\u001b[39m(\u001b[38;5;28mself\u001b[39m)\u001b[38;5;241m.\u001b[39m\u001b[38;5;18m__name__\u001b[39m, \u001b[38;5;28mnext\u001b[39m(\u001b[38;5;28miter\u001b[39m(kwargs))))\n\u001b[0;32m    437\u001b[0m \u001b[38;5;28;01mif\u001b[39;00m \u001b[38;5;28mself\u001b[39m\u001b[38;5;241m.\u001b[39mcall_super_init \u001b[38;5;129;01mis\u001b[39;00m \u001b[38;5;28;01mFalse\u001b[39;00m \u001b[38;5;129;01mand\u001b[39;00m \u001b[38;5;28mbool\u001b[39m(args):\n\u001b[0;32m    438\u001b[0m     \u001b[38;5;28;01mraise\u001b[39;00m \u001b[38;5;167;01mTypeError\u001b[39;00m(\u001b[38;5;124mf\u001b[39m\u001b[38;5;124m\"\u001b[39m\u001b[38;5;132;01m{\u001b[39;00m\u001b[38;5;28mtype\u001b[39m(\u001b[38;5;28mself\u001b[39m)\u001b[38;5;241m.\u001b[39m\u001b[38;5;18m__name__\u001b[39m\u001b[38;5;132;01m}\u001b[39;00m\u001b[38;5;124m.__init__() takes 1 positional argument but \u001b[39m\u001b[38;5;132;01m{\u001b[39;00m\u001b[38;5;28mlen\u001b[39m(args)\u001b[38;5;250m \u001b[39m\u001b[38;5;241m+\u001b[39m\u001b[38;5;250m \u001b[39m\u001b[38;5;241m1\u001b[39m\u001b[38;5;132;01m}\u001b[39;00m\u001b[38;5;124m were\u001b[39m\u001b[38;5;124m\"\u001b[39m\n\u001b[0;32m    439\u001b[0m                     \u001b[38;5;124m\"\u001b[39m\u001b[38;5;124m given\u001b[39m\u001b[38;5;124m\"\u001b[39m)\n",
      "\u001b[1;31mTypeError\u001b[0m: Tabularmodel.__init__() got an unexpected keyword argument 'p'"
     ]
    }
   ],
   "source": [
    "torch.manual_seed(101)\n",
    "\n",
    "model = Tabularmodel(emb_szs,conts.shape[1],1,[200,100],p=0.4)"
   ]
  },
  {
   "cell_type": "code",
   "execution_count": 60,
   "id": "2e0802c5-abcd-4237-8bfa-8d95cba752a1",
   "metadata": {},
   "outputs": [
    {
     "ename": "NameError",
     "evalue": "name 'model' is not defined",
     "output_type": "error",
     "traceback": [
      "\u001b[1;31m---------------------------------------------------------------------------\u001b[0m",
      "\u001b[1;31mNameError\u001b[0m                                 Traceback (most recent call last)",
      "Cell \u001b[1;32mIn[60], line 2\u001b[0m\n\u001b[0;32m      1\u001b[0m criterion \u001b[38;5;241m=\u001b[39m nn\u001b[38;5;241m.\u001b[39mMSELoss()\n\u001b[1;32m----> 2\u001b[0m optimizer \u001b[38;5;241m=\u001b[39m torch\u001b[38;5;241m.\u001b[39moptim\u001b[38;5;241m.\u001b[39mAdam(model\u001b[38;5;241m.\u001b[39mparameters(),lr \u001b[38;5;241m=\u001b[39m \u001b[38;5;241m0.001\u001b[39m)\n",
      "\u001b[1;31mNameError\u001b[0m: name 'model' is not defined"
     ]
    }
   ],
   "source": [
    "criterion = nn.MSELoss()\n",
    "optimizer = torch.optim.Adam(model.parameters(),lr = 0.001)"
   ]
  },
  {
   "cell_type": "code",
   "execution_count": 64,
   "id": "777d71a8-1137-4432-ad37-08a306a00cc5",
   "metadata": {},
   "outputs": [],
   "source": [
    "batch_size = 60000\n",
    "test_size = int(batch_size*0.2)"
   ]
  },
  {
   "cell_type": "code",
   "execution_count": 65,
   "id": "3a87fc5c-1a1b-4f3d-8aa0-fa5425e9f3c8",
   "metadata": {},
   "outputs": [
    {
     "ename": "IndexError",
     "evalue": "index 60000 is out of bounds for dimension 1 with size 3",
     "output_type": "error",
     "traceback": [
      "\u001b[1;31m---------------------------------------------------------------------------\u001b[0m",
      "\u001b[1;31mIndexError\u001b[0m                                Traceback (most recent call last)",
      "Cell \u001b[1;32mIn[65], line 2\u001b[0m\n\u001b[0;32m      1\u001b[0m cat_train \u001b[38;5;241m=\u001b[39m cats[:batch_size\u001b[38;5;241m-\u001b[39mtest_size]\n\u001b[1;32m----> 2\u001b[0m cat_test \u001b[38;5;241m=\u001b[39m cats[batch_size\u001b[38;5;241m-\u001b[39mtest_size,batch_size]\n\u001b[0;32m      3\u001b[0m con_train \u001b[38;5;241m=\u001b[39m conts[:batch_size\u001b[38;5;241m-\u001b[39mtest_size]\n\u001b[0;32m      4\u001b[0m con_test \u001b[38;5;241m=\u001b[39m conts[batch_size\u001b[38;5;241m-\u001b[39mtest_size,batch_size]\n",
      "\u001b[1;31mIndexError\u001b[0m: index 60000 is out of bounds for dimension 1 with size 3"
     ]
    }
   ],
   "source": [
    "cat_train = cats[:batch_size-test_size]\n",
    "cat_test = cats[batch_size-test_size,batch_size]\n",
    "con_train = conts[:batch_size-test_size]\n",
    "con_test = conts[batch_size-test_size,batch_size]"
   ]
  },
  {
   "cell_type": "code",
   "execution_count": null,
   "id": "a9a7bba1-40c6-4f66-9266-2877a09bf98b",
   "metadata": {},
   "outputs": [],
   "source": [
    "y_train = y[:batch_size-test_size]\n",
    "y_est = y[batch_size-test_size,batch_size]"
   ]
  },
  {
   "cell_type": "code",
   "execution_count": null,
   "id": "2a2959aa-669a-4417-9ff5-728c5721163d",
   "metadata": {},
   "outputs": [],
   "source": [
    "import time\n",
    "start_time = time.time()\n",
    "\n",
    "epoch = 300\n",
    "losses = []\n",
    "\n",
    "for i in range(epoch):\n",
    "    i+=1\n",
    "    y_pred = model(cat_train,con_train)\n",
    "    loss = torch.sqrt(criterion(y_pred,y_train))\n",
    "    losses.append(loss)\n",
    "    if loss%10 == 0:\n",
    "        print(f\"epoch {i}, {loss}\")\n",
    "    optimizer.zero_grad()\n",
    "    loss.backward()\n",
    "    optimizer.step()"
   ]
  },
  {
   "cell_type": "code",
   "execution_count": null,
   "id": "4cd89714-b594-4d72-ae84-4ed69ed9a43b",
   "metadata": {},
   "outputs": [],
   "source": [
    "plt.plot(range(epoch),losses)"
   ]
  },
  {
   "cell_type": "code",
   "execution_count": null,
   "id": "5225c0d5-f32c-4b5d-8fda-7275e286d487",
   "metadata": {},
   "outputs": [],
   "source": [
    "with torch.no_grad():\n",
    "    y_val = model(cat_test, con_test)\n",
    "    loss = torch.sqrt(criterion(y_val,y_test)\n",
    "    "
   ]
  },
  {
   "cell_type": "code",
   "execution_count": null,
   "id": "c7281515-de93-475f-ace1-9cef8a09e2bc",
   "metadata": {},
   "outputs": [],
   "source": [
    "loss"
   ]
  },
  {
   "cell_type": "code",
   "execution_count": null,
   "id": "43745371-000c-4465-8f98-29cf8f7e0ccb",
   "metadata": {},
   "outputs": [],
   "source": [
    "for i in range(10):\n",
    "    print(f\" {i} .) predicted : {y_val[i].item()}\")"
   ]
  },
  {
   "cell_type": "code",
   "execution_count": null,
   "id": "59e0eb95-e479-4524-b228-1a38666c52f3",
   "metadata": {},
   "outputs": [],
   "source": []
  }
 ],
 "metadata": {
  "kernelspec": {
   "display_name": "Python 3 (ipykernel)",
   "language": "python",
   "name": "python3"
  },
  "language_info": {
   "codemirror_mode": {
    "name": "ipython",
    "version": 3
   },
   "file_extension": ".py",
   "mimetype": "text/x-python",
   "name": "python",
   "nbconvert_exporter": "python",
   "pygments_lexer": "ipython3",
   "version": "3.11.7"
  }
 },
 "nbformat": 4,
 "nbformat_minor": 5
}
